{
 "cells": [
  {
   "cell_type": "code",
   "execution_count": 4,
   "id": "cba540ca",
   "metadata": {},
   "outputs": [],
   "source": [
    "from sklearn.svm import SVR\n",
    "from sklearn.preprocessing import StandardScaler\n",
    "from sklearn.pipeline import make_pipeline\n",
    "from sklearn.model_selection import GridSearchCV, train_test_split\n",
    "from sklearn.metrics import mean_squared_error, r2_score\n",
    "import pandas as pd"
   ]
  },
  {
   "cell_type": "code",
   "execution_count": 5,
   "id": "8d8acead",
   "metadata": {},
   "outputs": [],
   "source": [
    "df = pd.read_csv('data/csv/user_data.csv') \n",
    "df.columns\n",
    "removed_cols = ['id', 'hobbies', 'average_positive_probability_before', \n",
    "                'average_positive_probability_after', 'diff','score_change', \n",
    "                'count_id_after','count_id_before','urban_rural','race_ethnicity']\n",
    "df = df.drop(columns=removed_cols)\n",
    "df.shape\n",
    "\n",
    "df = df.apply(pd.to_numeric, errors='coerce')  # Convert all columns to numeric\n",
    "df = df.fillna(df.mean())  # Impute missing values with mean\n",
    "\n",
    "# Define categorical columns\n",
    "categorical_columns = ['gender', 'socio_economic_status', 'parental_involvement', 'Openness',\n",
    "                       'Conscientiousness', 'Extraversion', 'Agreeableness', 'Neuroticism']\n",
    "\n",
    "# Convert categorical columns to one-hot encoding\n",
    "df = pd.get_dummies(df, columns=categorical_columns, drop_first=True)\n",
    "\n",
    "# Define features (X) and target (y)\n",
    "X = df.drop(columns=['mental_health_score_after'])\n",
    "y = df['mental_health_score_after']\n",
    "\n",
    "# Split data into training and testing sets\n",
    "X_train, X_test, y_train, y_test = train_test_split(X, y, test_size=0.2, random_state=42)"
   ]
  },
  {
   "cell_type": "code",
   "execution_count": 6,
   "id": "66fdb34d",
   "metadata": {},
   "outputs": [],
   "source": [
    "svm_model = make_pipeline(StandardScaler(), SVR())\n",
    "svm_model.fit(X_train, y_train)\n",
    "y_pred_svm = svm_model.predict(X_test)"
   ]
  },
  {
   "cell_type": "code",
   "execution_count": 8,
   "id": "ca25cf9c",
   "metadata": {},
   "outputs": [
    {
     "name": "stdout",
     "output_type": "stream",
     "text": [
      "Mean Squared Error (MSE): 571.69\n",
      "R-squared (R2): 0.05\n"
     ]
    }
   ],
   "source": [
    "# Predict on the test data\n",
    "y_pred = svm_model.predict(X_test)\n",
    "\n",
    "# Calculate Mean Squared Error and R^2 score\n",
    "mse = mean_squared_error(y_test, y_pred)\n",
    "r2 = r2_score(y_test, y_pred)\n",
    "\n",
    "print(f'Mean Squared Error (MSE): {mse:.2f}')\n",
    "print(f'R-squared (R2): {r2:.2f}')"
   ]
  },
  {
   "cell_type": "code",
   "execution_count": null,
   "id": "fe599fef",
   "metadata": {},
   "outputs": [],
   "source": []
  }
 ],
 "metadata": {
  "kernelspec": {
   "display_name": "Python 3 (ipykernel)",
   "language": "python",
   "name": "python3"
  },
  "language_info": {
   "codemirror_mode": {
    "name": "ipython",
    "version": 3
   },
   "file_extension": ".py",
   "mimetype": "text/x-python",
   "name": "python",
   "nbconvert_exporter": "python",
   "pygments_lexer": "ipython3",
   "version": "3.10.9"
  }
 },
 "nbformat": 4,
 "nbformat_minor": 5
}
