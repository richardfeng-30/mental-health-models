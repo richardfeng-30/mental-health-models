{
 "cells": [
  {
   "cell_type": "code",
   "execution_count": 1,
   "id": "22a5bd00",
   "metadata": {},
   "outputs": [
    {
     "name": "stderr",
     "output_type": "stream",
     "text": [
      "C:\\Users\\kwfen\\AppData\\Roaming\\Python\\Python310\\site-packages\\pandas\\core\\arrays\\masked.py:60: UserWarning: Pandas requires version '1.3.6' or newer of 'bottleneck' (version '1.3.5' currently installed).\n",
      "  from pandas.core import (\n"
     ]
    }
   ],
   "source": [
    "import os\n",
    "import gdown\n",
    "import torch\n",
    "import numpy as np\n",
    "import seaborn as sns\n",
    "import transformers\n",
    "import pandas as pd\n",
    "import matplotlib.pyplot as plt\n",
    "from sklearn.model_selection import train_test_split\n",
    "from keras.utils import pad_sequences\n",
    "from sklearn import metrics\n",
    "from scipy.special import softmax\n",
    "\n",
    "from transformers import BertTokenizer\n",
    "from transformers import get_linear_schedule_with_warmup\n",
    "from transformers import BertForSequenceClassification, BertConfig\n",
    "from torch.utils.data import TensorDataset, DataLoader, RandomSampler, SequentialSampler\n",
    "from torch.optim import AdamW\n",
    "import torch.nn.functional as F\n",
    "\n",
    "LABEL_MAP = {0 : \"negative\", 1 : \"positive\"}\n",
    "NONE = 4 * [None]\n",
    "RND_SEED=2020"
   ]
  },
  {
   "cell_type": "code",
   "execution_count": 2,
   "id": "685b028d",
   "metadata": {},
   "outputs": [],
   "source": [
    "def flat_accuracy(preds, labels):\n",
    "    pred_flat = np.argmax(preds, axis=1).flatten()\n",
    "    labels_flat = labels.flatten()\n",
    "    return np.sum(pred_flat == labels_flat) / len(labels_flat)\n",
    "\n",
    "def plot_confusion_matrix(y_true, y_predicted):\n",
    "    cm = metrics.confusion_matrix(y_true, y_predicted)\n",
    "    print(\"Plotting the Confusion Matrix\")\n",
    "\n",
    "    labels = sorted(set(y_true) | set(y_predicted))  # Extract labels dynamically from y_true and y_predicted\n",
    "    labels_str = [str(label) for label in labels]  # Convert labels to strings if they are not already\n",
    "\n",
    "    df_cm = pd.DataFrame(cm, index=labels_str, columns=labels_str)\n",
    "    fig = plt.figure(figsize=(14, 12))\n",
    "    res = sns.heatmap(df_cm, annot=True, cmap='Blues', fmt='g')\n",
    "\n",
    "    plt.title('Confusion Matrix - Test Data')\n",
    "    plt.ylabel('True label')\n",
    "    plt.xlabel('Predicted label')\n",
    "    plt.show()\n",
    "    plt.close()"
   ]
  },
  {
   "cell_type": "code",
   "execution_count": 3,
   "id": "6927b5cf",
   "metadata": {},
   "outputs": [],
   "source": [
    "DATASET_COLUMNS = [\"target\", \"ids\", \"date\", \"flag\", \"user\", \"text\"]\n",
    "DATASET_ENCODING = \"ISO-8859-1\"\n",
    "RND_SEED = 42\n"
   ]
  },
  {
   "cell_type": "code",
   "execution_count": null,
   "id": "73022b0c",
   "metadata": {},
   "outputs": [],
   "source": [
    "# Load the data\n",
    "file_path = '../../archive/training.1600000.processed.noemoticon.csv'\n",
    "df = pd.read_csv(file_path, encoding =DATASET_ENCODING , names=DATASET_COLUMNS)"
   ]
  },
  {
   "cell_type": "code",
   "execution_count": 7,
   "id": "dd6751a8",
   "metadata": {},
   "outputs": [],
   "source": [
    "df['target_binary'] = df['target'].apply(lambda x: 1 if x == 4 else 0)\n"
   ]
  },
  {
   "cell_type": "code",
   "execution_count": 8,
   "id": "60706f86",
   "metadata": {},
   "outputs": [
    {
     "name": "stdout",
     "output_type": "stream",
     "text": [
      "Number of training samples: 1280000\n",
      "Number of testing samples: 320000\n"
     ]
    }
   ],
   "source": [
    "# Split the dataset into training and testing sets\n",
    "df_train, df_test = train_test_split(df, test_size=0.2, random_state=RND_SEED)\n",
    "\n",
    "# Verify the split\n",
    "print(f\"Number of training samples: {len(df_train)}\")\n",
    "print(f\"Number of testing samples: {len(df_test)}\")"
   ]
  },
  {
   "cell_type": "code",
   "execution_count": 12,
   "id": "7886deb5",
   "metadata": {},
   "outputs": [],
   "source": [
    "journals = df_train['text'].values\n",
    "labels = df_train['target_binary'].values"
   ]
  },
  {
   "cell_type": "code",
   "execution_count": 13,
   "id": "41b03c27",
   "metadata": {},
   "outputs": [
    {
     "data": {
      "text/plain": [
       "30522"
      ]
     },
     "execution_count": 13,
     "metadata": {},
     "output_type": "execute_result"
    }
   ],
   "source": [
    "tokenizer = BertTokenizer.from_pretrained(\"bert-base-uncased\", do_lower_case = True)\n",
    "tokenizer.vocab_size"
   ]
  },
  {
   "cell_type": "code",
   "execution_count": 16,
   "id": "de18b936",
   "metadata": {},
   "outputs": [],
   "source": [
    "tokenizer.convert_tokens_to_ids(tokenizer.tokenize(journals[0]))\n",
    "\n",
    "journals_with_special_tokens = []\n",
    "\n",
    "for journal in journals:\n",
    "    journals_with_special_tokens.append(\"[CLS] \" + journal + \" [SEP]\")"
   ]
  },
  {
   "cell_type": "code",
   "execution_count": 18,
   "id": "7be83ee5",
   "metadata": {},
   "outputs": [],
   "source": [
    "tokenized_texts = []\n",
    "\n",
    "for journal in journals_with_special_tokens:\n",
    "    tokenized_texts.append(tokenizer.tokenize(journal))\n",
    "\n",
    "input_ids = []\n",
    "\n",
    "for i in tokenized_texts:\n",
    "    input_id = tokenizer.convert_tokens_to_ids(i)\n",
    "    input_ids.append(input_id)"
   ]
  },
  {
   "cell_type": "code",
   "execution_count": 19,
   "id": "2e8c07c2",
   "metadata": {},
   "outputs": [],
   "source": [
    "input_ids = pad_sequences(input_ids,\n",
    "                          maxlen=128,\n",
    "                          dtype=\"long\",\n",
    "                          truncating=\"post\",\n",
    "                          padding=\"post\")"
   ]
  },
  {
   "cell_type": "code",
   "execution_count": 20,
   "id": "0dcd26b8",
   "metadata": {},
   "outputs": [],
   "source": [
    "attention_masks = []\n",
    "\n",
    "for i in input_ids:\n",
    "    mask=[float(j>0) for j in i]\n",
    "    attention_masks.append(mask)"
   ]
  },
  {
   "cell_type": "code",
   "execution_count": 24,
   "id": "371b5387",
   "metadata": {},
   "outputs": [],
   "source": [
    "X_train, X_val, y_train, y_val = train_test_split(input_ids, labels, test_size = 0.2, random_state = RND_SEED)\n",
    "train_masks, validation_masks, _, _ = train_test_split(attention_masks, input_ids, test_size = 0.2, random_state = RND_SEED)"
   ]
  },
  {
   "cell_type": "markdown",
   "id": "20a472a4",
   "metadata": {},
   "source": [
    "### convert data to tensors and create DataLoaders"
   ]
  },
  {
   "cell_type": "code",
   "execution_count": 25,
   "id": "ccc1d038",
   "metadata": {},
   "outputs": [],
   "source": [
    "#@title Run this cell to convert data to tensors and create DataLoaders\n",
    "train_inputs = torch.tensor(np.array(X_train));\n",
    "validation_inputs = torch.tensor(np.array(X_val));\n",
    "train_masks = torch.tensor(np.array(train_masks));\n",
    "validation_masks = torch.tensor(np.array(validation_masks));\n",
    "train_labels = torch.tensor(np.array(y_train));\n",
    "validation_labels = torch.tensor(np.array(y_val));\n",
    "\n",
    "batch_size = 32\n",
    "train_data = TensorDataset(train_inputs, train_masks, train_labels);\n",
    "train_sampler = RandomSampler(train_data); # Samples data randonly for training\n",
    "train_dataloader = DataLoader(train_data, sampler=train_sampler, batch_size=batch_size);\n",
    "validation_data = TensorDataset(validation_inputs, validation_masks, validation_labels);\n",
    "validation_sampler = SequentialSampler(validation_data); # Samples data sequentially\n",
    "validation_dataloader = DataLoader(validation_data, sampler=validation_sampler, batch_size=batch_size)"
   ]
  },
  {
   "cell_type": "markdown",
   "id": "4884a2ed",
   "metadata": {},
   "source": [
    "### initialize your BertForSequenceClassification model"
   ]
  },
  {
   "cell_type": "code",
   "execution_count": 26,
   "id": "c5efa550",
   "metadata": {},
   "outputs": [
    {
     "name": "stderr",
     "output_type": "stream",
     "text": [
      "Some weights of the model checkpoint at bert-base-uncased were not used when initializing BertForSequenceClassification: ['cls.predictions.transform.LayerNorm.bias', 'cls.predictions.transform.dense.weight', 'cls.predictions.transform.LayerNorm.weight', 'cls.predictions.bias', 'cls.seq_relationship.weight', 'cls.seq_relationship.bias', 'cls.predictions.transform.dense.bias', 'cls.predictions.decoder.weight']\n",
      "- This IS expected if you are initializing BertForSequenceClassification from the checkpoint of a model trained on another task or with another architecture (e.g. initializing a BertForSequenceClassification model from a BertForPreTraining model).\n",
      "- This IS NOT expected if you are initializing BertForSequenceClassification from the checkpoint of a model that you expect to be exactly identical (initializing a BertForSequenceClassification model from a BertForSequenceClassification model).\n",
      "Some weights of BertForSequenceClassification were not initialized from the model checkpoint at bert-base-uncased and are newly initialized: ['classifier.weight', 'classifier.bias']\n",
      "You should probably TRAIN this model on a down-stream task to be able to use it for predictions and inference.\n"
     ]
    },
    {
     "data": {
      "text/plain": [
       "'NVIDIA GeForce RTX 3080'"
      ]
     },
     "execution_count": 26,
     "metadata": {},
     "output_type": "execute_result"
    }
   ],
   "source": [
    "#@title Run this cell to initialize your BertForSequenceClassification model\n",
    "#Load BertForSequenceClassification, the pretrained BERT model with a single linear classification layer on top.\n",
    "model = BertForSequenceClassification.from_pretrained(\n",
    "    \"bert-base-uncased\", # Use the 12-layer BERT small model, with an uncased vocab.\n",
    "    num_labels = 2,\n",
    "    output_attentions = False, # Whether the model returns attentions weights.\n",
    "    output_hidden_states = False, # Whether the model returns all hidden-states.\n",
    ");\n",
    "\n",
    "# Given that this a huge neural network, we need to explicity specify\n",
    "# in pytorch to run this model on the GPU.\n",
    "model.cuda();\n",
    "\n",
    "device = torch.device(\"cuda\" if torch.cuda.is_available() else \"cpu\")\n",
    "n_gpu = torch.cuda.device_count()\n",
    "torch.cuda.get_device_name(0)"
   ]
  },
  {
   "cell_type": "code",
   "execution_count": 27,
   "id": "c9a5a36b",
   "metadata": {},
   "outputs": [],
   "source": [
    "optimizer = AdamW(model.parameters(),\n",
    "                  lr = 2e-5, ### YOUR CODE HERE\n",
    "                  eps = 1e-8\n",
    "                )\n",
    "epochs = 2"
   ]
  },
  {
   "cell_type": "markdown",
   "id": "614edb9e",
   "metadata": {},
   "source": [
    "### train your model!"
   ]
  },
  {
   "cell_type": "code",
   "execution_count": 28,
   "id": "19410ded",
   "metadata": {},
   "outputs": [
    {
     "name": "stdout",
     "output_type": "stream",
     "text": [
      "Epoch 1 / 2 ========\n",
      "Training the model\n",
      "  Batch 10,000  of  32,000. \n",
      "  Batch 20,000  of  32,000. \n",
      "  Batch 30,000  of  32,000. \n",
      "  Average training loss: 0.33\n",
      "Evaluating on Validation Set\n",
      "Validation Accuracy: 0.87\n",
      "Validation Loss: 0.30\n",
      "Epoch 2 / 2 ========\n",
      "Training the model\n",
      "  Batch 10,000  of  32,000. \n",
      "  Batch 20,000  of  32,000. \n",
      "  Batch 30,000  of  32,000. \n",
      "  Average training loss: 0.26\n",
      "Evaluating on Validation Set\n",
      "Validation Accuracy: 0.88\n",
      "Validation Loss: 0.31\n",
      "Training complete!\n"
     ]
    }
   ],
   "source": [
    "#@title Run this cell to train your model!\n",
    "\n",
    "# Total number of training steps is [number of batches] x [number of epochs].\n",
    "# (Note that this is not the same as the number of training samples).\n",
    "total_steps = len(train_dataloader) * epochs\n",
    "\n",
    "# Create the learning rate scheduler.\n",
    "scheduler = get_linear_schedule_with_warmup(optimizer,\n",
    "                                            num_warmup_steps = 0, # Default value in run_glue.py\n",
    "                                            num_training_steps = total_steps)\n",
    "\n",
    "# We'll store training and validation loss,\n",
    "# validation accuracy, and timings.\n",
    "training_loss = []\n",
    "validation_loss = []\n",
    "training_stats = []\n",
    "for epoch_i in range(0, epochs):\n",
    "    # Training\n",
    "    print('Epoch {:} / {:} ========'.format(epoch_i + 1, epochs))\n",
    "    print('Training the model')\n",
    "    # Reset the total loss for  epoch.\n",
    "    total_train_loss = 0\n",
    "    # Put the model into training mode.\n",
    "    model.train()\n",
    "    # For each batch of training data\n",
    "    for step, batch in enumerate(train_dataloader):\n",
    "        # Progress update every 40 batches.\n",
    "        if step % 10000 == 0 and not step == 0:\n",
    "            # Report progress.\n",
    "            print('  Batch {:>5,}  of  {:>5,}. '.format(step, len(train_dataloader)))\n",
    "\n",
    "        # STEP 1 & 2: Unpack this training batch from our dataloader.\n",
    "        # As we unpack the batch, we'll also copy each tensor to the GPU using the\n",
    "        # `to` method.\n",
    "        # `batch` contains three pytorch tensors:\n",
    "        #   [0]: input ids\n",
    "        #   [1]: attention masks\n",
    "        #   [2]: labels\n",
    "        b_input_ids = batch[0].to(device)\n",
    "        b_input_mask = batch[1].to(device)\n",
    "        b_labels = batch[2].to(device)\n",
    "\n",
    "        # STEP 3\n",
    "        # Always clear any previously calculated gradients before performing a\n",
    "        # backward pass.\n",
    "        model.zero_grad()\n",
    "\n",
    "        # STEP 4\n",
    "        # Perform a forward pass (evaluate the model on this training batch).\n",
    "        # It returns the loss (because we provided labels) and\n",
    "        # the \"logits\"--the model outputs prior to activation.\n",
    "        outputs = model(b_input_ids,\n",
    "                             token_type_ids=None,\n",
    "                             attention_mask=b_input_mask,\n",
    "                             labels=b_labels)\n",
    "        loss = outputs[0]\n",
    "        logits = outputs[1]\n",
    "        # Accumulate the training loss over all of the batches so that we can\n",
    "        # calculate the average loss at the end. `loss` is a Tensor containing a\n",
    "        # single value; the `.item()` function just returns the Python value\n",
    "        # from the tensor.\n",
    "        total_train_loss += loss.item()\n",
    "\n",
    "        # STEP 5\n",
    "        # Perform a backward pass to calculate the gradients.\n",
    "        loss.backward()\n",
    "        # Clip the norm of the gradients to 1.0.\n",
    "        # This is to help prevent the \"exploding gradients\" problem.\n",
    "        torch.nn.utils.clip_grad_norm_(model.parameters(), 1.0)\n",
    "\n",
    "        # STEP 6\n",
    "        # Update parameters and take a step using the computed gradient\n",
    "        optimizer.step()\n",
    "        # Update the learning rate.\n",
    "        scheduler.step()\n",
    "\n",
    "    # Calculate the average loss over all of the batches.\n",
    "    avg_train_loss = total_train_loss / len(train_dataloader)\n",
    "\n",
    "    print(\"  Average training loss: {0:.2f}\".format(avg_train_loss))\n",
    "    # Validation\n",
    "    # After the completion of each training epoch, measure our performance on\n",
    "    # our validation set.\n",
    "\n",
    "    print(\"Evaluating on Validation Set\")\n",
    "    # Put the model in evaluation mode\n",
    "    model.eval()\n",
    "    # Tracking variables\n",
    "    total_eval_accuracy = 0\n",
    "    total_eval_loss = 0\n",
    "    nb_eval_steps = 0\n",
    "    # Evaluate data for one epoch\n",
    "    for batch in validation_dataloader:\n",
    "        #Step 1 and Step 2\n",
    "        # Unpack this validation batch from our dataloader.\n",
    "\n",
    "        b_input_ids = batch[0].to(device)\n",
    "        b_input_mask = batch[1].to(device)\n",
    "        b_labels = batch[2].to(device)\n",
    "\n",
    "        # Tell pytorch not to bother with constructing the compute graph during\n",
    "        # the forward pass, since this is only needed for backprop (training).\n",
    "        with torch.no_grad():\n",
    "\n",
    "            # Forward pass, calculate logit predictions.\n",
    "            # The \"logits\" are the output\n",
    "            # values prior to applying an activation function like the softmax.\n",
    "            outputs = model(b_input_ids,\n",
    "                                   token_type_ids=None,\n",
    "                                   attention_mask=b_input_mask,\n",
    "                                   labels=b_labels)\n",
    "            loss = outputs[0]\n",
    "            logits = outputs[1]\n",
    "\n",
    "        # Accumulate the validation loss.\n",
    "        total_eval_loss += loss.item()\n",
    "\n",
    "        # Move logits and labels to CPU\n",
    "        logits = logits.detach().cpu().numpy()\n",
    "        label_ids = b_labels.to('cpu').numpy()\n",
    "\n",
    "        # Calculate the accuracy for this batch of test sentences, and\n",
    "        # accumulate it over all batches.\n",
    "        total_eval_accuracy += flat_accuracy(logits, label_ids)\n",
    "\n",
    "\n",
    "    # Report the final accuracy for this validation run.\n",
    "    avg_val_accuracy = total_eval_accuracy / len(validation_dataloader)\n",
    "    print(\"Validation Accuracy: {0:.2f}\".format(avg_val_accuracy))\n",
    "\n",
    "    # Calculate the average loss over all of the batches.\n",
    "    avg_val_loss = total_eval_loss / len(validation_dataloader)\n",
    "\n",
    "\n",
    "\n",
    "    print(\"Validation Loss: {0:.2f}\".format(avg_val_loss))\n",
    "\n",
    "\n",
    "    training_loss.append(avg_train_loss)\n",
    "    validation_loss.append(avg_val_loss)\n",
    "    # Record all statistics from this epoch.\n",
    "\n",
    "    training_stats.append(\n",
    "        {\n",
    "            'epoch': epoch_i + 1,\n",
    "            'Training Loss': avg_train_loss,\n",
    "            'Valid. Loss': avg_val_loss,\n",
    "            'Valid. Accur.': avg_val_accuracy\n",
    "\n",
    "        }\n",
    "    )\n",
    "\n",
    "print(\"Training complete!\")"
   ]
  },
  {
   "cell_type": "code",
   "execution_count": 29,
   "id": "5ac6ac39",
   "metadata": {},
   "outputs": [
    {
     "data": {
      "image/png": "[encoded data removed]",
      "text/plain": [
       "<Figure size 1200x600 with 1 Axes>"
      ]
     },
     "metadata": {},
     "output_type": "display_data"
    }
   ],
   "source": [
    "fig = plt.figure(figsize=(12,6))\n",
    "plt.title('Loss over Time')\n",
    "plt.xlabel('Epochs')\n",
    "plt.ylabel('Loss')\n",
    "\n",
    "plt.plot(training_loss, label = \"training\")\n",
    "plt.plot(validation_loss, label = \"validation\")\n",
    "\n",
    "plt.legend()\n",
    "plt.show()"
   ]
  },
  {
   "cell_type": "code",
   "execution_count": 38,
   "id": "ff1ba1d1",
   "metadata": {},
   "outputs": [
    {
     "name": "stdout",
     "output_type": "stream",
     "text": [
      "done\n"
     ]
    }
   ],
   "source": [
    "# Tracking variables for validation\n",
    "all_val_logits = []\n",
    "all_val_labels = []\n",
    "\n",
    "# Evaluate data for one epoch\n",
    "for batch in validation_dataloader:\n",
    "    b_input_ids = batch[0].to(device)\n",
    "    b_input_mask = batch[1].to(device)\n",
    "    b_labels = batch[2].to(device)\n",
    "\n",
    "    with torch.no_grad():\n",
    "        outputs = model(b_input_ids, token_type_ids=None, attention_mask=b_input_mask, labels=b_labels)\n",
    "        loss = outputs[0]\n",
    "        logits = outputs[1]\n",
    "\n",
    "    total_eval_loss += loss.item()\n",
    "    logits = logits.detach().cpu().numpy()\n",
    "    label_ids = b_labels.to('cpu').numpy()\n",
    "\n",
    "    total_eval_accuracy += flat_accuracy(logits, label_ids)\n",
    "\n",
    "    # Collect logits and labels\n",
    "    all_val_logits.extend(logits)\n",
    "    all_val_labels.extend(label_ids)\n",
    "\n",
    "    # Print shapes for debugging\n",
    "    #print(f\"logits shape: {logits.shape}\")\n",
    "    #print(f\"labels shape: {label_ids.shape}\")\n",
    "print('done')"
   ]
  },
  {
   "cell_type": "code",
   "execution_count": 42,
   "id": "8c857356",
   "metadata": {},
   "outputs": [
    {
     "name": "stdout",
     "output_type": "stream",
     "text": [
      "All logits shape: (256000, 2)\n",
      "All labels shape: (256000,)\n",
      "Validation Accuracy: 0.88\n",
      "Validation Confusion Matrix:\n",
      " [[113248  15350]\n",
      " [ 16527 110875]]\n",
      "Validation AUC: 0.9473\n"
     ]
    },
    {
     "data": {
      "image/png": "[encoded data removed]",
      "text/plain": [
       "<Figure size 640x480 with 1 Axes>"
      ]
     },
     "metadata": {},
     "output_type": "display_data"
    }
   ],
   "source": [
    "from sklearn.metrics import confusion_matrix, roc_curve, auc\n",
    "import matplotlib.pyplot as plt\n",
    "\n",
    "# Function to calculate accuracy\n",
    "def calculate_accuracy(preds, labels):\n",
    "    pred_flat = np.argmax(preds, axis=1).flatten()\n",
    "    labels_flat = labels.flatten()\n",
    "    return np.sum(pred_flat == labels_flat) / len(labels_flat)\n",
    "\n",
    "# Ensure logits and labels are numpy arrays\n",
    "all_val_logits = np.array(all_val_logits)\n",
    "all_val_labels = np.array(all_val_labels)\n",
    "\n",
    "# Check shapes after collecting all logits and labels\n",
    "print(f\"All logits shape: {all_val_logits.shape}\")\n",
    "print(f\"All labels shape: {all_val_labels.shape}\")\n",
    "\n",
    "# Calculate validation accuracy\n",
    "val_accuracy = calculate_accuracy(all_val_logits, all_val_labels)\n",
    "print(\"Validation Accuracy: {:.2f}\".format(val_accuracy))\n",
    "\n",
    "# Confusion Matrix\n",
    "val_conf_matrix = confusion_matrix(all_val_labels, np.argmax(all_val_logits, axis=1))\n",
    "print(\"Validation Confusion Matrix:\\n\", val_conf_matrix)\n",
    "\n",
    "# For Binary Classification - Use the probabilities of the positive class\n",
    "if all_val_logits.shape[1] == 2:\n",
    "    probabilities = all_val_logits[:, 1]  # Probabilities for the positive class\n",
    "else:\n",
    "    probabilities = np.max(all_val_logits, axis=1)\n",
    "\n",
    "# ROC Curve and AUC\n",
    "fpr, tpr, _ = roc_curve(all_val_labels, probabilities)\n",
    "roc_auc = auc(fpr, tpr)\n",
    "print(\"Validation AUC: {:.4f}\".format(roc_auc))\n",
    "\n",
    "# Plot ROC Curve\n",
    "plt.figure()\n",
    "plt.plot(fpr, tpr, color='darkorange', lw=2, label='ROC curve (area = %0.2f)' % roc_auc)\n",
    "plt.plot([0, 1], [0, 1], color='navy', lw=2, linestyle='--')\n",
    "plt.xlim([0.0, 1.0])\n",
    "plt.ylim([0.0, 1.05])\n",
    "plt.xlabel('False Positive Rate')\n",
    "plt.ylabel('True Positive Rate')\n",
    "plt.title('Receiver Operating Characteristic')\n",
    "plt.legend(loc=\"lower right\")\n",
    "plt.show()\n"
   ]
  },
  {
   "cell_type": "code",
   "execution_count": null,
   "id": "47af92b9",
   "metadata": {},
   "outputs": [],
   "source": []
  },
  {
   "cell_type": "markdown",
   "id": "b4ff4f98",
   "metadata": {},
   "source": [
    "### process and prepare our test data!"
   ]
  },
  {
   "cell_type": "code",
   "execution_count": 30,
   "id": "1ae453c9",
   "metadata": {},
   "outputs": [],
   "source": [
    "test_sentences = df_test['text'].values\n",
    "test_labels = df_test['target_binary'].values"
   ]
  },
  {
   "cell_type": "code",
   "execution_count": 33,
   "id": "4edb0194",
   "metadata": {},
   "outputs": [],
   "source": [
    "#@title Run this cell to process and prepare our test data!\n",
    "test_input_ids, test_attention_masks = [], []\n",
    "\n",
    "# Add Special Tokens\n",
    "test_sentences = [\"[CLS] \" + sentence + \" [SEP]\" for sentence in test_sentences]\n",
    "\n",
    "# Tokenize sentences\n",
    "tokenized_test_sentences = [tokenizer.tokenize(sent) for sent in test_sentences]\n",
    "\n",
    "# Encode Tokens to Word IDs\n",
    "test_input_ids = [tokenizer.convert_tokens_to_ids(txt) for txt in tokenized_test_sentences]\n",
    "\n",
    "# Pad the inputs\n",
    "test_input_ids = pad_sequences(test_input_ids,\n",
    "                               maxlen=128,\n",
    "                               dtype=\"long\",\n",
    "                               truncating=\"post\",\n",
    "                               padding=\"post\")\n",
    "\n",
    "# Create Attention Masks\n",
    "for sequence in test_input_ids:\n",
    "    mask = [float(i>0) for i in sequence]\n",
    "    test_attention_masks.append(mask)"
   ]
  },
  {
   "cell_type": "code",
   "execution_count": 34,
   "id": "0c4a993a",
   "metadata": {},
   "outputs": [],
   "source": [
    "#@title Run this cell to convert data to tensors and create DataLoaders\n",
    "batch_size = 32\n",
    "test_input_ids = torch.tensor(test_input_ids)\n",
    "test_attention_masks = torch.tensor(test_attention_masks)\n",
    "test_labels = torch.tensor(test_labels)\n",
    "prediction_data = TensorDataset(test_input_ids, test_attention_masks, test_labels)\n",
    "prediction_sampler = SequentialSampler(prediction_data)\n",
    "prediction_dataloader = DataLoader(prediction_data, sampler=prediction_sampler, batch_size=batch_size)"
   ]
  },
  {
   "cell_type": "markdown",
   "id": "f590cc34",
   "metadata": {},
   "source": [
    "### Evaluate Test Set Accuracy!"
   ]
  },
  {
   "cell_type": "code",
   "execution_count": 51,
   "id": "7f7255a5",
   "metadata": {},
   "outputs": [
    {
     "name": "stdout",
     "output_type": "stream",
     "text": [
      "Predicting labels for 320,000 test sentences...\n",
      "Test Accuracy: 87.51%\n",
      "Confusion Matrix:\n",
      " [[141453  18041]\n",
      " [ 21927 138579]]\n"
     ]
    }
   ],
   "source": [
    "from sklearn.metrics import roc_curve, auc, accuracy_score, confusion_matrix\n",
    "import matplotlib.pyplot as plt\n",
    "import numpy as np\n",
    "\n",
    "\n",
    "# Prediction on test set\n",
    "print('Predicting labels for {:,} test sentences...'.format(len(test_input_ids)))\n",
    "\n",
    "# Put model in evaluation mode\n",
    "model.eval()\n",
    "\n",
    "# Tracking variables\n",
    "predictions, true_labels = [], []\n",
    "\n",
    "# Predict\n",
    "for batch in prediction_dataloader:\n",
    "    # Add batch to GPU\n",
    "    batch = tuple(t.to(device) for t in batch)\n",
    "\n",
    "    # Unpack the inputs from our dataloader\n",
    "    b_input_ids, b_input_mask, b_labels = batch\n",
    "\n",
    "    with torch.no_grad():\n",
    "        # Forward pass, calculate logit predictions\n",
    "        outputs = model(b_input_ids, token_type_ids=None, attention_mask=b_input_mask)\n",
    "\n",
    "    logits = outputs[0]\n",
    "\n",
    "    # Move logits and labels to CPU\n",
    "    logits = logits.detach().cpu().numpy()\n",
    "    label_ids = b_labels.to('cpu').numpy()\n",
    "\n",
    "    # Store predictions and true labels\n",
    "    predictions.append(logits)\n",
    "    true_labels.append(label_ids)\n",
    "\n",
    "# Final tracking variables\n",
    "y_logits, y_true, y_preds = [], [], []\n",
    "\n",
    "# Gather logit predictions\n",
    "for chunk in predictions:\n",
    "    for logits in chunk:\n",
    "        y_logits.append(logits)\n",
    "\n",
    "# Gather true labels\n",
    "for chunk in true_labels:\n",
    "    for label in chunk:\n",
    "        y_true.append(label)\n",
    "\n",
    "# Gather real predictions\n",
    "for logits in y_logits:\n",
    "    y_preds.append(np.argmax(logits))\n",
    "\n",
    "# Calculate test accuracy\n",
    "test_accuracy = accuracy_score(y_true, y_preds)\n",
    "print('Test Accuracy: {:.2%}'.format(test_accuracy))\n",
    "\n",
    "# Plot confusion matrix\n",
    "conf_matrix = confusion_matrix(y_true, y_preds)\n",
    "print(\"Confusion Matrix:\\n\", conf_matrix)\n",
    "\n"
   ]
  },
  {
   "cell_type": "code",
   "execution_count": 52,
   "id": "06f540c5",
   "metadata": {},
   "outputs": [
    {
     "name": "stdout",
     "output_type": "stream",
     "text": [
      "Test AUC: 0.95\n"
     ]
    },
    {
     "data": {
      "image/png": "[encoded data removed]",
      "text/plain": [
       "<Figure size 600x600 with 2 Axes>"
      ]
     },
     "metadata": {},
     "output_type": "display_data"
    },
    {
     "data": {
      "image/png": "[encoded data removed]",
      "text/plain": [
       "<Figure size 640x480 with 1 Axes>"
      ]
     },
     "metadata": {},
     "output_type": "display_data"
    }
   ],
   "source": [
    "import itertools\n",
    "\n",
    "# Plotting the confusion matrix\n",
    "def plot_confusion_matrix(cm, labels, title='Confusion Matrix', cmap=plt.cm.Blues):\n",
    "    plt.figure(figsize=(6,6))\n",
    "    plt.imshow(cm, interpolation='nearest', cmap=cmap)\n",
    "    plt.title(title)\n",
    "    plt.colorbar()\n",
    "    tick_marks = np.arange(len(labels))\n",
    "    plt.xticks(tick_marks, labels, rotation=45)\n",
    "    plt.yticks(tick_marks, labels)\n",
    "    fmt = 'd'\n",
    "    thresh = cm.max() / 2.\n",
    "    for i, j in itertools.product(range(cm.shape[0]), range(cm.shape[1])):\n",
    "        plt.text(j, i, format(cm[i, j], fmt),\n",
    "                 horizontalalignment=\"center\",\n",
    "                 color=\"white\" if cm[i, j] > thresh else \"black\")\n",
    "    plt.tight_layout()\n",
    "    plt.ylabel('True label')\n",
    "    plt.xlabel('Predicted label')\n",
    "\n",
    "plot_confusion_matrix(conf_matrix, labels=[0, 1])\n",
    "\n",
    "# ROC Curve and AUC for binary classification\n",
    "# We need the probabilities for the positive class\n",
    "y_probs = np.array([logit[1] for logit in y_logits])  # Probabilities for the positive class\n",
    "\n",
    "# Compute ROC curve and ROC area\n",
    "fpr, tpr, _ = roc_curve(y_true, y_probs)\n",
    "roc_auc = auc(fpr, tpr)\n",
    "print('Test AUC: {:.2f}'.format(roc_auc))\n",
    "\n",
    "# Plot ROC curve\n",
    "plt.figure()\n",
    "plt.plot(fpr, tpr, color='darkorange', lw=2, label='ROC curve (area = %0.2f)' % roc_auc)\n",
    "plt.plot([0, 1], [0, 1], color='navy', lw=2, linestyle='--')\n",
    "plt.xlim([0.0, 1.0])\n",
    "plt.ylim([0.0, 1.05])\n",
    "plt.xlabel('False Positive Rate')\n",
    "plt.ylabel('True Positive Rate')\n",
    "plt.title('Receiver Operating Characteristic')\n",
    "plt.legend(loc=\"lower right\")\n",
    "plt.show()\n"
   ]
  },
  {
   "cell_type": "markdown",
   "id": "80c02cb8",
   "metadata": {},
   "source": [
    "### Save Model"
   ]
  },
  {
   "cell_type": "code",
   "execution_count": 47,
   "id": "0bb01503",
   "metadata": {},
   "outputs": [
    {
     "data": {
      "text/plain": [
       "('model\\\\tokenizer_config.json',\n",
       " 'model\\\\special_tokens_map.json',\n",
       " 'model\\\\vocab.txt',\n",
       " 'model\\\\added_tokens.json')"
      ]
     },
     "execution_count": 47,
     "metadata": {},
     "output_type": "execute_result"
    }
   ],
   "source": [
    "# Save the model\n",
    "# Save the model and tokenizer\n",
    "save_directory = \"model\"\n",
    "model.save_pretrained(save_directory)\n",
    "tokenizer.save_pretrained(save_directory)  # Only if you used a tokenizer"
   ]
  },
  {
   "cell_type": "code",
   "execution_count": 17,
   "id": "787e200d",
   "metadata": {},
   "outputs": [
    {
     "name": "stdout",
     "output_type": "stream",
     "text": [
      "Model and tokenizer loaded from disk and moved to device: cuda\n",
      "Model and tokenizer loaded from disk\n"
     ]
    }
   ],
   "source": [
    "\n",
    "# Load the model and tokenizer from the directory\n",
    "model_load_directory = \"model\"\n",
    "model = BertForSequenceClassification.from_pretrained(model_load_directory)\n",
    "tokenizer = BertTokenizer.from_pretrained(model_load_directory)  # Only if you used a tokenizer\n",
    "\n",
    "# Move the model to GPU\n",
    "device = torch.device(\"cuda\" if torch.cuda.is_available() else \"cpu\")\n",
    "model.to(device)\n",
    "\n",
    "# Ensure the model is in evaluation mode\n",
    "model.eval()\n",
    "\n",
    "print(\"Model and tokenizer loaded from disk and moved to device:\", device)\n",
    "\n",
    "print(\"Model and tokenizer loaded from disk\")"
   ]
  },
  {
   "cell_type": "markdown",
   "id": "21fc92bd",
   "metadata": {},
   "source": [
    "### Predict "
   ]
  },
  {
   "cell_type": "code",
   "execution_count": 18,
   "id": "fda1020d",
   "metadata": {},
   "outputs": [],
   "source": [
    "journal_path = 'data/csv/journal_data.csv'\n",
    "j_df = pd.read_csv(journal_path, encoding =DATASET_ENCODING)"
   ]
  },
  {
   "cell_type": "code",
   "execution_count": 19,
   "id": "70170926",
   "metadata": {},
   "outputs": [
    {
     "data": {
      "text/html": [
       "<div>\n",
       "<style scoped>\n",
       "    .dataframe tbody tr th:only-of-type {\n",
       "        vertical-align: middle;\n",
       "    }\n",
       "\n",
       "    .dataframe tbody tr th {\n",
       "        vertical-align: top;\n",
       "    }\n",
       "\n",
       "    .dataframe thead th {\n",
       "        text-align: right;\n",
       "    }\n",
       "</style>\n",
       "<table border=\"1\" class=\"dataframe\">\n",
       "  <thead>\n",
       "    <tr style=\"text-align: right;\">\n",
       "      <th></th>\n",
       "      <th>user_id</th>\n",
       "      <th>journal</th>\n",
       "      <th>before_after</th>\n",
       "      <th>id</th>\n",
       "    </tr>\n",
       "  </thead>\n",
       "  <tbody>\n",
       "    <tr>\n",
       "      <th>0</th>\n",
       "      <td>1</td>\n",
       "      <td>Today was a pretty regular day at school. Duri...</td>\n",
       "      <td>0</td>\n",
       "      <td>1</td>\n",
       "    </tr>\n",
       "    <tr>\n",
       "      <th>1</th>\n",
       "      <td>1</td>\n",
       "      <td>School was super stressful today! I had a math...</td>\n",
       "      <td>0</td>\n",
       "      <td>2</td>\n",
       "    </tr>\n",
       "    <tr>\n",
       "      <th>2</th>\n",
       "      <td>1</td>\n",
       "      <td>Saturdays are my favorite! No school and all p...</td>\n",
       "      <td>0</td>\n",
       "      <td>3</td>\n",
       "    </tr>\n",
       "    <tr>\n",
       "      <th>3</th>\n",
       "      <td>1</td>\n",
       "      <td>Tuesdays are always meh. School is neither her...</td>\n",
       "      <td>0</td>\n",
       "      <td>4</td>\n",
       "    </tr>\n",
       "    <tr>\n",
       "      <th>4</th>\n",
       "      <td>1</td>\n",
       "      <td>School was exhausting today. We had back-to-ba...</td>\n",
       "      <td>0</td>\n",
       "      <td>5</td>\n",
       "    </tr>\n",
       "    <tr>\n",
       "      <th>...</th>\n",
       "      <td>...</td>\n",
       "      <td>...</td>\n",
       "      <td>...</td>\n",
       "      <td>...</td>\n",
       "    </tr>\n",
       "    <tr>\n",
       "      <th>3006</th>\n",
       "      <td>300</td>\n",
       "      <td>Today was a bit better. School was still hard,...</td>\n",
       "      <td>1</td>\n",
       "      <td>3007</td>\n",
       "    </tr>\n",
       "    <tr>\n",
       "      <th>3007</th>\n",
       "      <td>300</td>\n",
       "      <td>Feeling a bit brighter today. School was more ...</td>\n",
       "      <td>1</td>\n",
       "      <td>3008</td>\n",
       "    </tr>\n",
       "    <tr>\n",
       "      <th>3008</th>\n",
       "      <td>300</td>\n",
       "      <td>Had a decent day today. School felt less overw...</td>\n",
       "      <td>1</td>\n",
       "      <td>3009</td>\n",
       "    </tr>\n",
       "    <tr>\n",
       "      <th>3009</th>\n",
       "      <td>300</td>\n",
       "      <td>Today was pretty good. School wasnï¿½t overwhe...</td>\n",
       "      <td>1</td>\n",
       "      <td>3010</td>\n",
       "    </tr>\n",
       "    <tr>\n",
       "      <th>3010</th>\n",
       "      <td>300</td>\n",
       "      <td>I'm feeling much better today. School was good...</td>\n",
       "      <td>1</td>\n",
       "      <td>3011</td>\n",
       "    </tr>\n",
       "  </tbody>\n",
       "</table>\n",
       "<p>3011 rows × 4 columns</p>\n",
       "</div>"
      ],
      "text/plain": [
       "      user_id                                            journal  \\\n",
       "0           1  Today was a pretty regular day at school. Duri...   \n",
       "1           1  School was super stressful today! I had a math...   \n",
       "2           1  Saturdays are my favorite! No school and all p...   \n",
       "3           1  Tuesdays are always meh. School is neither her...   \n",
       "4           1  School was exhausting today. We had back-to-ba...   \n",
       "...       ...                                                ...   \n",
       "3006      300  Today was a bit better. School was still hard,...   \n",
       "3007      300  Feeling a bit brighter today. School was more ...   \n",
       "3008      300  Had a decent day today. School felt less overw...   \n",
       "3009      300  Today was pretty good. School wasnï¿½t overwhe...   \n",
       "3010      300  I'm feeling much better today. School was good...   \n",
       "\n",
       "      before_after    id  \n",
       "0                0     1  \n",
       "1                0     2  \n",
       "2                0     3  \n",
       "3                0     4  \n",
       "4                0     5  \n",
       "...            ...   ...  \n",
       "3006             1  3007  \n",
       "3007             1  3008  \n",
       "3008             1  3009  \n",
       "3009             1  3010  \n",
       "3010             1  3011  \n",
       "\n",
       "[3011 rows x 4 columns]"
      ]
     },
     "execution_count": 19,
     "metadata": {},
     "output_type": "execute_result"
    }
   ],
   "source": [
    "j_df"
   ]
  },
  {
   "cell_type": "code",
   "execution_count": 20,
   "id": "f0b46709",
   "metadata": {},
   "outputs": [],
   "source": [
    "journals_test = j_df['journal'].values"
   ]
  },
  {
   "cell_type": "code",
   "execution_count": 21,
   "id": "73448f97",
   "metadata": {},
   "outputs": [
    {
     "data": {
      "text/plain": [
       "3011"
      ]
     },
     "execution_count": 21,
     "metadata": {},
     "output_type": "execute_result"
    }
   ],
   "source": [
    "len(journals_test)"
   ]
  },
  {
   "cell_type": "code",
   "execution_count": 22,
   "id": "90607b27",
   "metadata": {},
   "outputs": [],
   "source": [
    "journals_with_special_tokens = [\"[CLS] \" + journal + \" [SEP]\" for journal in journals_test]\n",
    "tokenized_texts = [tokenizer.tokenize(journal) for journal in journals_with_special_tokens]\n",
    "\n",
    "# Convert tokens to input IDs\n",
    "input_ids = [tokenizer.convert_tokens_to_ids(tokens) for tokens in tokenized_texts]\n",
    "\n",
    "# Pad sequences\n",
    "input_ids = pad_sequences(input_ids, maxlen=128, dtype=\"long\", truncating=\"post\", padding=\"post\")\n",
    "\n",
    "# Create attention masks\n",
    "attention_masks = [[float(j > 0) for j in i] for i in input_ids]\n"
   ]
  },
  {
   "cell_type": "code",
   "execution_count": 23,
   "id": "38040295",
   "metadata": {},
   "outputs": [
    {
     "data": {
      "text/plain": [
       "3011"
      ]
     },
     "execution_count": 23,
     "metadata": {},
     "output_type": "execute_result"
    }
   ],
   "source": [
    "len(input_ids)"
   ]
  },
  {
   "cell_type": "code",
   "execution_count": 24,
   "id": "204cc75f",
   "metadata": {},
   "outputs": [],
   "source": [
    "# Convert to tensors\n",
    "predict_inputs = torch.tensor(np.array(input_ids))\n",
    "predict_masks = torch.tensor(np.array(attention_masks))"
   ]
  },
  {
   "cell_type": "code",
   "execution_count": 25,
   "id": "9231524b",
   "metadata": {},
   "outputs": [],
   "source": [
    "batch_size = 32\n",
    "predict_data = TensorDataset(predict_inputs, predict_masks)\n",
    "predict_sampler = SequentialSampler(predict_data)\n",
    "predict_dataloader = DataLoader(predict_data, sampler=predict_sampler, batch_size=batch_size)"
   ]
  },
  {
   "cell_type": "code",
   "execution_count": 26,
   "id": "9b9c3892",
   "metadata": {},
   "outputs": [
    {
     "data": {
      "text/plain": [
       "3011"
      ]
     },
     "execution_count": 26,
     "metadata": {},
     "output_type": "execute_result"
    }
   ],
   "source": [
    "len(journals_with_special_tokens)"
   ]
  },
  {
   "cell_type": "code",
   "execution_count": 32,
   "id": "868ccf48",
   "metadata": {},
   "outputs": [],
   "source": [
    "model.eval()\n",
    "\n",
    "all_logits = []\n",
    "\n",
    "for batch in predict_dataloader:\n",
    "    batch = tuple(t.to(device) for t in batch)\n",
    "    b_input_ids, b_input_mask = batch\n",
    "\n",
    "    with torch.no_grad():\n",
    "        outputs = model(b_input_ids, token_type_ids=None, attention_mask=b_input_mask)\n",
    "        logits = outputs.logits\n",
    "    \n",
    "    logits = logits.detach().cpu().numpy()\n",
    "    all_logits.append(logits)\n",
    "\n",
    "# Concatenate the logits from all batches\n",
    "all_logits = np.concatenate(all_logits, axis=0)\n",
    "\n",
    "# Convert logits to probabilities\n",
    "probabilities = F.softmax(torch.tensor(all_logits), dim=1).numpy()\n",
    "\n",
    "# Get predicted labels based on probabilities\n",
    "predicted_labels = np.argmax(probabilities, axis=1)\n",
    "\n",
    "# Get positive class probabilities (assuming binary classification with positive class at index 1)\n",
    "positive_probabilities = probabilities[:, 1]\n",
    "\n",
    "# Add predicted labels and positive probabilities to DataFrame\n",
    "j_df['predicted_label'] = predicted_labels\n",
    "j_df['positive_probability'] = positive_probabilities"
   ]
  },
  {
   "cell_type": "code",
   "execution_count": 33,
   "id": "700ca5eb",
   "metadata": {},
   "outputs": [
    {
     "data": {
      "text/plain": [
       "3011"
      ]
     },
     "execution_count": 33,
     "metadata": {},
     "output_type": "execute_result"
    }
   ],
   "source": [
    "len(probabilities)"
   ]
  },
  {
   "cell_type": "code",
   "execution_count": null,
   "id": "fb96af19",
   "metadata": {},
   "outputs": [],
   "source": [
    "\n"
   ]
  },
  {
   "cell_type": "code",
   "execution_count": 34,
   "id": "b59ea3b8",
   "metadata": {},
   "outputs": [],
   "source": [
    "j_df.to_csv('data/csv/predicted_sentiments.csv', index=False)"
   ]
  },
  {
   "cell_type": "code",
   "execution_count": null,
   "id": "9a92b20b",
   "metadata": {},
   "outputs": [],
   "source": []
  }
 ],
 "metadata": {
  "kernelspec": {
   "display_name": "Python 3 (ipykernel)",
   "language": "python",
   "name": "python3"
  },
  "language_info": {
   "codemirror_mode": {
    "name": "ipython",
    "version": 3
   },
   "file_extension": ".py",
   "mimetype": "text/x-python",
   "name": "python",
   "nbconvert_exporter": "python",
   "pygments_lexer": "ipython3",
   "version": "3.10.9"
  }
 },
 "nbformat": 4,
 "nbformat_minor": 5
}
