{
 "cells": [
  {
   "cell_type": "markdown",
   "metadata": {
    "_uuid": "92b885dd147dac19bd0a33db3cd0da100bd5bc23"
   },
   "source": [
    "# Preprocess Data"
   ]
  },
  {
   "cell_type": "code",
   "execution_count": 1,
   "metadata": {
    "_uuid": "70282bce8b42a51e4d44f2c7d85c4ca9567b0fd4"
   },
   "outputs": [],
   "source": [
    "#!pip install gensim --upgrade\n",
    "#!pip install keras --upgrade\n",
    "#!pip install pandas --upgrade\n",
    "#!pip install Keras-Preprocessing"
   ]
  },
  {
   "cell_type": "code",
   "execution_count": 2,
   "metadata": {},
   "outputs": [
    {
     "name": "stderr",
     "output_type": "stream",
     "text": [
      "C:\\Users\\kwfen\\AppData\\Roaming\\Python\\Python310\\site-packages\\pandas\\core\\arrays\\masked.py:60: UserWarning: Pandas requires version '1.3.6' or newer of 'bottleneck' (version '1.3.5' currently installed).\n",
      "  from pandas.core import (\n"
     ]
    },
    {
     "name": "stdout",
     "output_type": "stream",
     "text": [
      "2.16.1\n"
     ]
    }
   ],
   "source": [
    "import tensorflow as tf\n",
    "print(tf.__version__)"
   ]
  },
  {
   "cell_type": "code",
   "execution_count": 3,
   "metadata": {
    "_uuid": "303e72966af732ddef0bd8108a321095314e44af"
   },
   "outputs": [],
   "source": [
    "# DataFrame\n",
    "import pandas as pd\n",
    "\n",
    "# Matplot\n",
    "import matplotlib.pyplot as plt\n",
    "%matplotlib inline\n",
    "\n",
    "# Scikit-learn\n",
    "from sklearn.model_selection import train_test_split\n",
    "from sklearn.preprocessing import LabelEncoder\n",
    "from sklearn.metrics import confusion_matrix, classification_report, accuracy_score\n",
    "from sklearn.manifold import TSNE\n",
    "from sklearn.feature_extraction.text import TfidfVectorizer\n",
    "\n",
    "# Keras\n",
    "from tensorflow.keras.preprocessing.text import Tokenizer\n",
    "from keras.preprocessing.sequence import pad_sequences\n",
    "from keras.models import Sequential\n",
    "from keras.layers import Activation, Dense, Dropout, Embedding, Flatten, Conv1D, MaxPooling1D, LSTM\n",
    "from keras import utils\n",
    "from keras.callbacks import ReduceLROnPlateau, EarlyStopping\n",
    "\n",
    "# nltk\n",
    "import nltk\n",
    "from nltk.corpus import stopwords\n",
    "from  nltk.stem import SnowballStemmer\n",
    "\n",
    "# Word2vec\n",
    "import gensim\n",
    "\n",
    "# Utility\n",
    "import re\n",
    "import numpy as np\n",
    "import os\n",
    "from collections import Counter\n",
    "import logging\n",
    "import time\n",
    "import pickle\n",
    "import itertools\n",
    "\n",
    "# Set log\n",
    "logging.basicConfig(format='%(asctime)s : %(levelname)s : %(message)s', level=logging.INFO)"
   ]
  },
  {
   "cell_type": "code",
   "execution_count": 4,
   "metadata": {
    "_uuid": "35e1a89dead5fd160e4c9a024a21d2e569fc89ff"
   },
   "outputs": [
    {
     "name": "stderr",
     "output_type": "stream",
     "text": [
      "[nltk_data] Downloading package stopwords to\n",
      "[nltk_data]     C:\\Users\\kwfen\\AppData\\Roaming\\nltk_data...\n",
      "[nltk_data]   Package stopwords is already up-to-date!\n"
     ]
    },
    {
     "data": {
      "text/plain": [
       "True"
      ]
     },
     "execution_count": 4,
     "metadata": {},
     "output_type": "execute_result"
    }
   ],
   "source": [
    "nltk.download('stopwords')"
   ]
  },
  {
   "cell_type": "markdown",
   "metadata": {
    "_uuid": "e8b01a07df001e4abcc745900336c4db06e455f3"
   },
   "source": [
    "### Settings"
   ]
  },
  {
   "cell_type": "code",
   "execution_count": 5,
   "metadata": {
    "_uuid": "180f0dd2a95419e4602b5c0229822b0111c826f6"
   },
   "outputs": [],
   "source": [
    "# DATASET\n",
    "DATASET_COLUMNS = [\"target\", \"ids\", \"date\", \"flag\", \"user\", \"text\"]\n",
    "DATASET_ENCODING = \"ISO-8859-1\"\n",
    "TRAIN_SIZE = 0.8\n",
    "\n",
    "# TEXT CLENAING\n",
    "TEXT_CLEANING_RE = \"@\\S+|https?:\\S+|http?:\\S|[^A-Za-z0-9]+\"\n",
    "\n",
    "# WORD2VEC \n",
    "W2V_SIZE = 300\n",
    "W2V_WINDOW = 7\n",
    "W2V_EPOCH = 32\n",
    "W2V_MIN_COUNT = 10\n",
    "\n",
    "# KERAS\n",
    "SEQUENCE_LENGTH = 300\n",
    "EPOCHS = 8\n",
    "BATCH_SIZE = 1024\n",
    "\n",
    "# SENTIMENT\n",
    "POSITIVE = \"POSITIVE\"\n",
    "NEGATIVE = \"NEGATIVE\"\n",
    "NEUTRAL = \"NEUTRAL\"\n",
    "SENTIMENT_THRESHOLDS = (0.4, 0.7)\n",
    "\n",
    "# EXPORT\n",
    "KERAS_MODEL = \"model.h5\"\n",
    "WORD2VEC_MODEL = \"model.w2v\"\n",
    "TOKENIZER_MODEL = \"tokenizer.pkl\"\n",
    "ENCODER_MODEL = \"encoder.pkl\""
   ]
  },
  {
   "cell_type": "markdown",
   "metadata": {
    "_uuid": "1c3beecc618be68480b3d4f0de08d9d863da1dc1"
   },
   "source": [
    "### Read Dataset"
   ]
  },
  {
   "cell_type": "markdown",
   "metadata": {
    "_uuid": "563b3c44f1092dba0b853747b098e00509098cca"
   },
   "source": [
    "### Dataset details\n",
    "* **target**: the polarity of the tweet (0 = negative, 2 = neutral, 4 = positive)\n",
    "* **ids**: The id of the tweet ( 2087)\n",
    "* **date**: the date of the tweet (Sat May 16 23:58:44 UTC 2009)\n",
    "* **flag**: The query (lyx). If there is no query, then this value is NO_QUERY.\n",
    "* **user**: the user that tweeted (robotickilldozr)\n",
    "* **text**: the text of the tweet (Lyx is cool)"
   ]
  },
  {
   "cell_type": "code",
   "execution_count": 6,
   "metadata": {
    "_uuid": "bba8f91cd70de4f5ea0fb0870ae2029b6e3dcc24"
   },
   "outputs": [],
   "source": [
    "file_path = '../../archive/training.1600000.processed.noemoticon.csv'\n",
    "df = pd.read_csv(file_path, encoding =DATASET_ENCODING , names=DATASET_COLUMNS)"
   ]
  },
  {
   "cell_type": "code",
   "execution_count": 7,
   "metadata": {
    "_uuid": "936d499c00c4f1648bc16ca9d283c3b39be7fb10"
   },
   "outputs": [
    {
     "data": {
      "text/plain": [
       "(1600000, 6)"
      ]
     },
     "execution_count": 7,
     "metadata": {},
     "output_type": "execute_result"
    }
   ],
   "source": [
    "df.shape"
   ]
  },
  {
   "cell_type": "code",
   "execution_count": 8,
   "metadata": {
    "_uuid": "7486ed895b813c5246f97b31b6162b0f65ff763b"
   },
   "outputs": [
    {
     "data": {
      "text/html": [
       "<div>\n",
       "<style scoped>\n",
       "    .dataframe tbody tr th:only-of-type {\n",
       "        vertical-align: middle;\n",
       "    }\n",
       "\n",
       "    .dataframe tbody tr th {\n",
       "        vertical-align: top;\n",
       "    }\n",
       "\n",
       "    .dataframe thead th {\n",
       "        text-align: right;\n",
       "    }\n",
       "</style>\n",
       "<table border=\"1\" class=\"dataframe\">\n",
       "  <thead>\n",
       "    <tr style=\"text-align: right;\">\n",
       "      <th></th>\n",
       "      <th>target</th>\n",
       "      <th>ids</th>\n",
       "      <th>date</th>\n",
       "      <th>flag</th>\n",
       "      <th>user</th>\n",
       "      <th>text</th>\n",
       "    </tr>\n",
       "  </thead>\n",
       "  <tbody>\n",
       "    <tr>\n",
       "      <th>0</th>\n",
       "      <td>0</td>\n",
       "      <td>1467810369</td>\n",
       "      <td>Mon Apr 06 22:19:45 PDT 2009</td>\n",
       "      <td>NO_QUERY</td>\n",
       "      <td>_TheSpecialOne_</td>\n",
       "      <td>@switchfoot http://twitpic.com/2y1zl - Awww, t...</td>\n",
       "    </tr>\n",
       "    <tr>\n",
       "      <th>1</th>\n",
       "      <td>0</td>\n",
       "      <td>1467810672</td>\n",
       "      <td>Mon Apr 06 22:19:49 PDT 2009</td>\n",
       "      <td>NO_QUERY</td>\n",
       "      <td>scotthamilton</td>\n",
       "      <td>is upset that he can't update his Facebook by ...</td>\n",
       "    </tr>\n",
       "    <tr>\n",
       "      <th>2</th>\n",
       "      <td>0</td>\n",
       "      <td>1467810917</td>\n",
       "      <td>Mon Apr 06 22:19:53 PDT 2009</td>\n",
       "      <td>NO_QUERY</td>\n",
       "      <td>mattycus</td>\n",
       "      <td>@Kenichan I dived many times for the ball. Man...</td>\n",
       "    </tr>\n",
       "    <tr>\n",
       "      <th>3</th>\n",
       "      <td>0</td>\n",
       "      <td>1467811184</td>\n",
       "      <td>Mon Apr 06 22:19:57 PDT 2009</td>\n",
       "      <td>NO_QUERY</td>\n",
       "      <td>ElleCTF</td>\n",
       "      <td>my whole body feels itchy and like its on fire</td>\n",
       "    </tr>\n",
       "    <tr>\n",
       "      <th>4</th>\n",
       "      <td>0</td>\n",
       "      <td>1467811193</td>\n",
       "      <td>Mon Apr 06 22:19:57 PDT 2009</td>\n",
       "      <td>NO_QUERY</td>\n",
       "      <td>Karoli</td>\n",
       "      <td>@nationwideclass no, it's not behaving at all....</td>\n",
       "    </tr>\n",
       "  </tbody>\n",
       "</table>\n",
       "</div>"
      ],
      "text/plain": [
       "   target         ids                          date      flag  \\\n",
       "0       0  1467810369  Mon Apr 06 22:19:45 PDT 2009  NO_QUERY   \n",
       "1       0  1467810672  Mon Apr 06 22:19:49 PDT 2009  NO_QUERY   \n",
       "2       0  1467810917  Mon Apr 06 22:19:53 PDT 2009  NO_QUERY   \n",
       "3       0  1467811184  Mon Apr 06 22:19:57 PDT 2009  NO_QUERY   \n",
       "4       0  1467811193  Mon Apr 06 22:19:57 PDT 2009  NO_QUERY   \n",
       "\n",
       "              user                                               text  \n",
       "0  _TheSpecialOne_  @switchfoot http://twitpic.com/2y1zl - Awww, t...  \n",
       "1    scotthamilton  is upset that he can't update his Facebook by ...  \n",
       "2         mattycus  @Kenichan I dived many times for the ball. Man...  \n",
       "3          ElleCTF    my whole body feels itchy and like its on fire   \n",
       "4           Karoli  @nationwideclass no, it's not behaving at all....  "
      ]
     },
     "execution_count": 8,
     "metadata": {},
     "output_type": "execute_result"
    }
   ],
   "source": [
    "df.head(5)"
   ]
  },
  {
   "cell_type": "markdown",
   "metadata": {
    "_uuid": "3f9a7bb129e184967b13261fb5d253af451c75c5"
   },
   "source": [
    "### Map target label to String\n",
    "* **0** -> **NEGATIVE**\n",
    "* **2** -> **NEUTRAL**\n",
    "* **4** -> **POSITIVE**"
   ]
  },
  {
   "cell_type": "code",
   "execution_count": 9,
   "metadata": {
    "_uuid": "14074b59106cb9550440839e48b832223fc9502f"
   },
   "outputs": [],
   "source": [
    "decode_map = {0: \"NEGATIVE\", 2: \"NEUTRAL\", 4: \"POSITIVE\"}\n",
    "def decode_sentiment(label):\n",
    "    return decode_map[int(label)]"
   ]
  },
  {
   "cell_type": "code",
   "execution_count": 10,
   "metadata": {
    "_uuid": "4449d473187f647a195a6ac6986b009da32a7f4b"
   },
   "outputs": [
    {
     "name": "stdout",
     "output_type": "stream",
     "text": [
      "CPU times: total: 109 ms\n",
      "Wall time: 274 ms\n"
     ]
    }
   ],
   "source": [
    "%%time\n",
    "df.target = df.target.apply(lambda x: decode_sentiment(x))"
   ]
  },
  {
   "cell_type": "code",
   "execution_count": 11,
   "metadata": {
    "_uuid": "19eb327803192f31cce3512aacb232f4d6b38715"
   },
   "outputs": [
    {
     "data": {
      "text/plain": [
       "Text(0.5, 1.0, 'Dataset labels distribuition')"
      ]
     },
     "execution_count": 11,
     "metadata": {},
     "output_type": "execute_result"
    },
    {
     "data": {
      "image/png": "[encoded data removed]",
      "text/plain": [
       "<Figure size 1600x800 with 1 Axes>"
      ]
     },
     "metadata": {},
     "output_type": "display_data"
    }
   ],
   "source": [
    "target_cnt = Counter(df.target)\n",
    "\n",
    "plt.figure(figsize=(16,8))\n",
    "plt.bar(target_cnt.keys(), target_cnt.values())\n",
    "plt.title(\"Dataset labels distribuition\")"
   ]
  },
  {
   "cell_type": "markdown",
   "metadata": {
    "_uuid": "4329b1573518b03e497213efa7676220734ebb4b"
   },
   "source": [
    "### Pre-Process dataset"
   ]
  },
  {
   "cell_type": "code",
   "execution_count": 12,
   "metadata": {
    "_uuid": "8aeee8b7b9ea11b749c7f91cd4787a7b50ed1a91"
   },
   "outputs": [],
   "source": [
    "stop_words = stopwords.words(\"english\")\n",
    "stemmer = SnowballStemmer(\"english\")"
   ]
  },
  {
   "cell_type": "code",
   "execution_count": 13,
   "metadata": {
    "_uuid": "649ebcb97969b9ac4301138783704bb3d7846a49"
   },
   "outputs": [],
   "source": [
    "def preprocess(text, stem=False):\n",
    "    # Remove link,user and special characters\n",
    "    text = re.sub(TEXT_CLEANING_RE, ' ', str(text).lower()).strip()\n",
    "    tokens = []\n",
    "    for token in text.split():\n",
    "        if token not in stop_words:\n",
    "            if stem:\n",
    "                tokens.append(stemmer.stem(token))\n",
    "            else:\n",
    "                tokens.append(token)\n",
    "    return \" \".join(tokens)"
   ]
  },
  {
   "cell_type": "code",
   "execution_count": 14,
   "metadata": {
    "_uuid": "f7f3e77ab9291d14687c49e71ba9b2b1e3323432"
   },
   "outputs": [
    {
     "name": "stdout",
     "output_type": "stream",
     "text": [
      "CPU times: total: 17 s\n",
      "Wall time: 29.1 s\n"
     ]
    }
   ],
   "source": [
    "%%time\n",
    "df.text = df.text.apply(lambda x: preprocess(x))"
   ]
  },
  {
   "cell_type": "markdown",
   "metadata": {
    "_uuid": "f5f9714a8507409bbe780eebf2855a33e8e6ba37"
   },
   "source": [
    "### Split train and test"
   ]
  },
  {
   "cell_type": "code",
   "execution_count": 15,
   "metadata": {
    "_uuid": "d2b1179c968e3f3910c790ecf0c5b2cbb34b0e68"
   },
   "outputs": [
    {
     "name": "stdout",
     "output_type": "stream",
     "text": [
      "TRAIN size: 1280000\n",
      "TEST size: 320000\n"
     ]
    }
   ],
   "source": [
    "df_train, df_test = train_test_split(df, test_size=1-TRAIN_SIZE, random_state=42)\n",
    "print(\"TRAIN size:\", len(df_train))\n",
    "print(\"TEST size:\", len(df_test))"
   ]
  },
  {
   "cell_type": "markdown",
   "metadata": {
    "_uuid": "f08a28aab2c3d16d8b9681a7d5d07587153a1cd6"
   },
   "source": [
    "### Word2Vec "
   ]
  },
  {
   "cell_type": "code",
   "execution_count": 16,
   "metadata": {
    "_uuid": "2461bf564de1b4414841933d0c1d1bee5f5cc5a6"
   },
   "outputs": [
    {
     "name": "stdout",
     "output_type": "stream",
     "text": [
      "CPU times: total: 2.64 s\n",
      "Wall time: 3.51 s\n"
     ]
    }
   ],
   "source": [
    "%%time\n",
    "documents = [_text.split() for _text in df_train.text] "
   ]
  },
  {
   "cell_type": "code",
   "execution_count": 17,
   "metadata": {
    "_uuid": "8e19b9f25801ba86420decc266d2b3e6fb44f1ea"
   },
   "outputs": [
    {
     "name": "stderr",
     "output_type": "stream",
     "text": [
      "2024-06-14 10:09:39,858 : INFO : Word2Vec lifecycle event {'params': 'Word2Vec<vocab=0, vector_size=100, alpha=0.025>', 'datetime': '2024-06-14T10:09:39.858379', 'gensim': '4.3.2', 'python': '3.10.9 | packaged by Anaconda, Inc. | (main, Mar  1 2023, 18:18:15) [MSC v.1916 64 bit (AMD64)]', 'platform': 'Windows-10-10.0.22631-SP0', 'event': 'created'}\n"
     ]
    }
   ],
   "source": [
    "W2V_SIZE = 100\n",
    "W2V_WINDOW = 5\n",
    "W2V_MIN_COUNT = 1\n",
    "W2V_WORKERS = 8\n",
    "w2v_model = gensim.models.Word2Vec(vector_size=W2V_SIZE, \n",
    "                                   window=W2V_WINDOW, \n",
    "                                   min_count=W2V_MIN_COUNT, \n",
    "                                   workers=W2V_WORKERS)"
   ]
  },
  {
   "cell_type": "code",
   "execution_count": 18,
   "metadata": {
    "_uuid": "58d655af07653c594bec6bebcfb302a973b0ad9c"
   },
   "outputs": [
    {
     "name": "stderr",
     "output_type": "stream",
     "text": [
      "2024-06-14 10:09:39,878 : INFO : collecting all words and their counts\n",
      "2024-06-14 10:09:39,878 : INFO : PROGRESS: at sentence #0, processed 0 words, keeping 0 word types\n",
      "2024-06-14 10:09:39,887 : INFO : PROGRESS: at sentence #10000, processed 72565 words, keeping 14005 word types\n",
      "2024-06-14 10:09:39,897 : INFO : PROGRESS: at sentence #20000, processed 144393 words, keeping 21587 word types\n",
      "2024-06-14 10:09:39,911 : INFO : PROGRESS: at sentence #30000, processed 215826 words, keeping 27541 word types\n",
      "2024-06-14 10:09:39,920 : INFO : PROGRESS: at sentence #40000, processed 288271 words, keeping 32764 word types\n",
      "2024-06-14 10:09:39,930 : INFO : PROGRESS: at sentence #50000, processed 359772 words, keeping 37587 word types\n",
      "2024-06-14 10:09:39,939 : INFO : PROGRESS: at sentence #60000, processed 431431 words, keeping 42198 word types\n",
      "2024-06-14 10:09:39,953 : INFO : PROGRESS: at sentence #70000, processed 503103 words, keeping 46458 word types\n",
      "2024-06-14 10:09:39,962 : INFO : PROGRESS: at sentence #80000, processed 575709 words, keeping 50476 word types\n",
      "2024-06-14 10:09:39,973 : INFO : PROGRESS: at sentence #90000, processed 647100 words, keeping 54140 word types\n",
      "2024-06-14 10:09:39,983 : INFO : PROGRESS: at sentence #100000, processed 718681 words, keeping 57777 word types\n",
      "2024-06-14 10:09:39,989 : INFO : PROGRESS: at sentence #110000, processed 790696 words, keeping 61207 word types\n",
      "2024-06-14 10:09:40,003 : INFO : PROGRESS: at sentence #120000, processed 863134 words, keeping 64583 word types\n",
      "2024-06-14 10:09:40,014 : INFO : PROGRESS: at sentence #130000, processed 935111 words, keeping 67865 word types\n",
      "2024-06-14 10:09:40,025 : INFO : PROGRESS: at sentence #140000, processed 1006668 words, keeping 70966 word types\n",
      "2024-06-14 10:09:40,036 : INFO : PROGRESS: at sentence #150000, processed 1078512 words, keeping 74119 word types\n",
      "2024-06-14 10:09:40,047 : INFO : PROGRESS: at sentence #160000, processed 1149914 words, keeping 77187 word types\n",
      "2024-06-14 10:09:40,058 : INFO : PROGRESS: at sentence #170000, processed 1222145 words, keeping 80267 word types\n",
      "2024-06-14 10:09:40,070 : INFO : PROGRESS: at sentence #180000, processed 1294708 words, keeping 83393 word types\n",
      "2024-06-14 10:09:40,081 : INFO : PROGRESS: at sentence #190000, processed 1367608 words, keeping 86329 word types\n",
      "2024-06-14 10:09:40,098 : INFO : PROGRESS: at sentence #200000, processed 1439469 words, keeping 89103 word types\n",
      "2024-06-14 10:09:40,106 : INFO : PROGRESS: at sentence #210000, processed 1512099 words, keeping 91840 word types\n",
      "2024-06-14 10:09:40,119 : INFO : PROGRESS: at sentence #220000, processed 1584149 words, keeping 94636 word types\n",
      "2024-06-14 10:09:40,129 : INFO : PROGRESS: at sentence #230000, processed 1656354 words, keeping 97353 word types\n",
      "2024-06-14 10:09:40,139 : INFO : PROGRESS: at sentence #240000, processed 1728573 words, keeping 99975 word types\n",
      "2024-06-14 10:09:40,148 : INFO : PROGRESS: at sentence #250000, processed 1801102 words, keeping 102594 word types\n",
      "2024-06-14 10:09:40,163 : INFO : PROGRESS: at sentence #260000, processed 1873103 words, keeping 105162 word types\n",
      "2024-06-14 10:09:40,170 : INFO : PROGRESS: at sentence #270000, processed 1945245 words, keeping 107626 word types\n",
      "2024-06-14 10:09:40,178 : INFO : PROGRESS: at sentence #280000, processed 2017163 words, keeping 110141 word types\n",
      "2024-06-14 10:09:40,196 : INFO : PROGRESS: at sentence #290000, processed 2089574 words, keeping 112539 word types\n",
      "2024-06-14 10:09:40,207 : INFO : PROGRESS: at sentence #300000, processed 2160996 words, keeping 114893 word types\n",
      "2024-06-14 10:09:40,218 : INFO : PROGRESS: at sentence #310000, processed 2232913 words, keeping 117298 word types\n",
      "2024-06-14 10:09:40,229 : INFO : PROGRESS: at sentence #320000, processed 2305039 words, keeping 119693 word types\n",
      "2024-06-14 10:09:40,240 : INFO : PROGRESS: at sentence #330000, processed 2377119 words, keeping 122131 word types\n",
      "2024-06-14 10:09:40,248 : INFO : PROGRESS: at sentence #340000, processed 2449370 words, keeping 124416 word types\n",
      "2024-06-14 10:09:40,263 : INFO : PROGRESS: at sentence #350000, processed 2521564 words, keeping 126669 word types\n",
      "2024-06-14 10:09:40,274 : INFO : PROGRESS: at sentence #360000, processed 2593681 words, keeping 128912 word types\n",
      "2024-06-14 10:09:40,285 : INFO : PROGRESS: at sentence #370000, processed 2665692 words, keeping 131135 word types\n",
      "2024-06-14 10:09:40,295 : INFO : PROGRESS: at sentence #380000, processed 2737859 words, keeping 133403 word types\n",
      "2024-06-14 10:09:40,306 : INFO : PROGRESS: at sentence #390000, processed 2809848 words, keeping 135551 word types\n",
      "2024-06-14 10:09:40,318 : INFO : PROGRESS: at sentence #400000, processed 2882438 words, keeping 137742 word types\n",
      "2024-06-14 10:09:40,330 : INFO : PROGRESS: at sentence #410000, processed 2954075 words, keeping 139909 word types\n",
      "2024-06-14 10:09:40,341 : INFO : PROGRESS: at sentence #420000, processed 3026247 words, keeping 142144 word types\n",
      "2024-06-14 10:09:40,353 : INFO : PROGRESS: at sentence #430000, processed 3098659 words, keeping 144364 word types\n",
      "2024-06-14 10:09:40,364 : INFO : PROGRESS: at sentence #440000, processed 3170663 words, keeping 146439 word types\n",
      "2024-06-14 10:09:40,373 : INFO : PROGRESS: at sentence #450000, processed 3243344 words, keeping 148526 word types\n",
      "2024-06-14 10:09:40,386 : INFO : PROGRESS: at sentence #460000, processed 3315466 words, keeping 150610 word types\n",
      "2024-06-14 10:09:40,396 : INFO : PROGRESS: at sentence #470000, processed 3388295 words, keeping 152737 word types\n",
      "2024-06-14 10:09:40,407 : INFO : PROGRESS: at sentence #480000, processed 3460120 words, keeping 154757 word types\n",
      "2024-06-14 10:09:40,419 : INFO : PROGRESS: at sentence #490000, processed 3531883 words, keeping 156825 word types\n",
      "2024-06-14 10:09:40,431 : INFO : PROGRESS: at sentence #500000, processed 3604217 words, keeping 158859 word types\n",
      "2024-06-14 10:09:40,444 : INFO : PROGRESS: at sentence #510000, processed 3676427 words, keeping 160852 word types\n",
      "2024-06-14 10:09:40,455 : INFO : PROGRESS: at sentence #520000, processed 3749045 words, keeping 162863 word types\n",
      "2024-06-14 10:09:40,465 : INFO : PROGRESS: at sentence #530000, processed 3821622 words, keeping 164929 word types\n",
      "2024-06-14 10:09:40,479 : INFO : PROGRESS: at sentence #540000, processed 3893627 words, keeping 166840 word types\n",
      "2024-06-14 10:09:40,491 : INFO : PROGRESS: at sentence #550000, processed 3965477 words, keeping 168799 word types\n",
      "2024-06-14 10:09:40,505 : INFO : PROGRESS: at sentence #560000, processed 4038050 words, keeping 170802 word types\n",
      "2024-06-14 10:09:40,514 : INFO : PROGRESS: at sentence #570000, processed 4110296 words, keeping 172760 word types\n",
      "2024-06-14 10:09:40,532 : INFO : PROGRESS: at sentence #580000, processed 4182385 words, keeping 174635 word types\n",
      "2024-06-14 10:09:40,556 : INFO : PROGRESS: at sentence #590000, processed 4254632 words, keeping 176470 word types\n",
      "2024-06-14 10:09:40,562 : INFO : PROGRESS: at sentence #600000, processed 4326859 words, keeping 178350 word types\n",
      "2024-06-14 10:09:40,588 : INFO : PROGRESS: at sentence #610000, processed 4399183 words, keeping 180290 word types\n",
      "2024-06-14 10:09:40,604 : INFO : PROGRESS: at sentence #620000, processed 4471343 words, keeping 182129 word types\n",
      "2024-06-14 10:09:40,613 : INFO : PROGRESS: at sentence #630000, processed 4543286 words, keeping 184005 word types\n",
      "2024-06-14 10:09:40,630 : INFO : PROGRESS: at sentence #640000, processed 4615780 words, keeping 185835 word types\n",
      "2024-06-14 10:09:40,643 : INFO : PROGRESS: at sentence #650000, processed 4688481 words, keeping 187705 word types\n",
      "2024-06-14 10:09:40,653 : INFO : PROGRESS: at sentence #660000, processed 4760481 words, keeping 189439 word types\n",
      "2024-06-14 10:09:40,664 : INFO : PROGRESS: at sentence #670000, processed 4833024 words, keeping 191232 word types\n",
      "2024-06-14 10:09:40,675 : INFO : PROGRESS: at sentence #680000, processed 4904516 words, keeping 193177 word types\n",
      "2024-06-14 10:09:40,686 : INFO : PROGRESS: at sentence #690000, processed 4976968 words, keeping 194960 word types\n",
      "2024-06-14 10:09:40,698 : INFO : PROGRESS: at sentence #700000, processed 5049412 words, keeping 196725 word types\n",
      "2024-06-14 10:09:40,703 : INFO : PROGRESS: at sentence #710000, processed 5121976 words, keeping 198516 word types\n"
     ]
    },
    {
     "name": "stderr",
     "output_type": "stream",
     "text": [
      "2024-06-14 10:09:40,720 : INFO : PROGRESS: at sentence #720000, processed 5193881 words, keeping 200325 word types\n",
      "2024-06-14 10:09:40,730 : INFO : PROGRESS: at sentence #730000, processed 5265467 words, keeping 202133 word types\n",
      "2024-06-14 10:09:40,741 : INFO : PROGRESS: at sentence #740000, processed 5337518 words, keeping 203818 word types\n",
      "2024-06-14 10:09:40,753 : INFO : PROGRESS: at sentence #750000, processed 5409321 words, keeping 205535 word types\n",
      "2024-06-14 10:09:40,764 : INFO : PROGRESS: at sentence #760000, processed 5481512 words, keeping 207282 word types\n",
      "2024-06-14 10:09:40,771 : INFO : PROGRESS: at sentence #770000, processed 5554093 words, keeping 209076 word types\n",
      "2024-06-14 10:09:40,785 : INFO : PROGRESS: at sentence #780000, processed 5625382 words, keeping 210805 word types\n",
      "2024-06-14 10:09:40,796 : INFO : PROGRESS: at sentence #790000, processed 5698066 words, keeping 212618 word types\n",
      "2024-06-14 10:09:40,805 : INFO : PROGRESS: at sentence #800000, processed 5770880 words, keeping 214374 word types\n",
      "2024-06-14 10:09:40,817 : INFO : PROGRESS: at sentence #810000, processed 5843418 words, keeping 216009 word types\n",
      "2024-06-14 10:09:40,828 : INFO : PROGRESS: at sentence #820000, processed 5915628 words, keeping 217804 word types\n",
      "2024-06-14 10:09:40,838 : INFO : PROGRESS: at sentence #830000, processed 5987499 words, keeping 219585 word types\n",
      "2024-06-14 10:09:40,850 : INFO : PROGRESS: at sentence #840000, processed 6058973 words, keeping 221344 word types\n",
      "2024-06-14 10:09:40,853 : INFO : PROGRESS: at sentence #850000, processed 6131125 words, keeping 223002 word types\n",
      "2024-06-14 10:09:40,872 : INFO : PROGRESS: at sentence #860000, processed 6202951 words, keeping 224643 word types\n",
      "2024-06-14 10:09:40,880 : INFO : PROGRESS: at sentence #870000, processed 6275461 words, keeping 226362 word types\n",
      "2024-06-14 10:09:40,896 : INFO : PROGRESS: at sentence #880000, processed 6347661 words, keeping 227986 word types\n",
      "2024-06-14 10:09:40,905 : INFO : PROGRESS: at sentence #890000, processed 6419806 words, keeping 229634 word types\n",
      "2024-06-14 10:09:40,920 : INFO : PROGRESS: at sentence #900000, processed 6491644 words, keeping 231389 word types\n",
      "2024-06-14 10:09:40,930 : INFO : PROGRESS: at sentence #910000, processed 6564022 words, keeping 233050 word types\n",
      "2024-06-14 10:09:40,941 : INFO : PROGRESS: at sentence #920000, processed 6636228 words, keeping 234686 word types\n",
      "2024-06-14 10:09:40,945 : INFO : PROGRESS: at sentence #930000, processed 6708573 words, keeping 236393 word types\n",
      "2024-06-14 10:09:40,963 : INFO : PROGRESS: at sentence #940000, processed 6779956 words, keeping 238052 word types\n",
      "2024-06-14 10:09:40,975 : INFO : PROGRESS: at sentence #950000, processed 6852599 words, keeping 239716 word types\n",
      "2024-06-14 10:09:40,986 : INFO : PROGRESS: at sentence #960000, processed 6924717 words, keeping 241354 word types\n",
      "2024-06-14 10:09:40,996 : INFO : PROGRESS: at sentence #970000, processed 6996992 words, keeping 242980 word types\n",
      "2024-06-14 10:09:41,005 : INFO : PROGRESS: at sentence #980000, processed 7068402 words, keeping 244646 word types\n",
      "2024-06-14 10:09:41,017 : INFO : PROGRESS: at sentence #990000, processed 7140346 words, keeping 246186 word types\n",
      "2024-06-14 10:09:41,028 : INFO : PROGRESS: at sentence #1000000, processed 7211757 words, keeping 247726 word types\n",
      "2024-06-14 10:09:41,038 : INFO : PROGRESS: at sentence #1010000, processed 7283267 words, keeping 249288 word types\n",
      "2024-06-14 10:09:41,049 : INFO : PROGRESS: at sentence #1020000, processed 7355299 words, keeping 250860 word types\n",
      "2024-06-14 10:09:41,054 : INFO : PROGRESS: at sentence #1030000, processed 7426918 words, keeping 252366 word types\n",
      "2024-06-14 10:09:41,071 : INFO : PROGRESS: at sentence #1040000, processed 7498815 words, keeping 253930 word types\n",
      "2024-06-14 10:09:41,080 : INFO : PROGRESS: at sentence #1050000, processed 7570499 words, keeping 255471 word types\n",
      "2024-06-14 10:09:41,089 : INFO : PROGRESS: at sentence #1060000, processed 7643251 words, keeping 257035 word types\n",
      "2024-06-14 10:09:41,104 : INFO : PROGRESS: at sentence #1070000, processed 7714721 words, keeping 258509 word types\n",
      "2024-06-14 10:09:41,114 : INFO : PROGRESS: at sentence #1080000, processed 7787371 words, keeping 260071 word types\n",
      "2024-06-14 10:09:41,122 : INFO : PROGRESS: at sentence #1090000, processed 7859336 words, keeping 261683 word types\n",
      "2024-06-14 10:09:41,136 : INFO : PROGRESS: at sentence #1100000, processed 7932029 words, keeping 263278 word types\n",
      "2024-06-14 10:09:41,147 : INFO : PROGRESS: at sentence #1110000, processed 8004146 words, keeping 264800 word types\n",
      "2024-06-14 10:09:41,155 : INFO : PROGRESS: at sentence #1120000, processed 8075880 words, keeping 266309 word types\n",
      "2024-06-14 10:09:41,168 : INFO : PROGRESS: at sentence #1130000, processed 8148163 words, keeping 267826 word types\n",
      "2024-06-14 10:09:41,179 : INFO : PROGRESS: at sentence #1140000, processed 8220487 words, keeping 269391 word types\n",
      "2024-06-14 10:09:41,189 : INFO : PROGRESS: at sentence #1150000, processed 8292498 words, keeping 270894 word types\n",
      "2024-06-14 10:09:41,196 : INFO : PROGRESS: at sentence #1160000, processed 8363838 words, keeping 272400 word types\n",
      "2024-06-14 10:09:41,211 : INFO : PROGRESS: at sentence #1170000, processed 8435510 words, keeping 273970 word types\n",
      "2024-06-14 10:09:41,222 : INFO : PROGRESS: at sentence #1180000, processed 8507795 words, keeping 275521 word types\n",
      "2024-06-14 10:09:41,232 : INFO : PROGRESS: at sentence #1190000, processed 8579080 words, keeping 277007 word types\n",
      "2024-06-14 10:09:41,236 : INFO : PROGRESS: at sentence #1200000, processed 8650606 words, keeping 278457 word types\n",
      "2024-06-14 10:09:41,253 : INFO : PROGRESS: at sentence #1210000, processed 8721893 words, keeping 279959 word types\n",
      "2024-06-14 10:09:41,263 : INFO : PROGRESS: at sentence #1220000, processed 8793795 words, keeping 281427 word types\n",
      "2024-06-14 10:09:41,275 : INFO : PROGRESS: at sentence #1230000, processed 8865726 words, keeping 282981 word types\n",
      "2024-06-14 10:09:41,279 : INFO : PROGRESS: at sentence #1240000, processed 8938173 words, keeping 284542 word types\n",
      "2024-06-14 10:09:41,296 : INFO : PROGRESS: at sentence #1250000, processed 9010842 words, keeping 286064 word types\n",
      "2024-06-14 10:09:41,305 : INFO : PROGRESS: at sentence #1260000, processed 9083261 words, keeping 287521 word types\n",
      "2024-06-14 10:09:41,317 : INFO : PROGRESS: at sentence #1270000, processed 9155616 words, keeping 288987 word types\n",
      "2024-06-14 10:09:41,328 : INFO : collected 290418 word types from a corpus of 9227204 raw words and 1280000 sentences\n",
      "2024-06-14 10:09:41,328 : INFO : Creating a fresh vocabulary\n",
      "2024-06-14 10:09:41,894 : INFO : Word2Vec lifecycle event {'msg': 'effective_min_count=1 retains 290418 unique words (100.00% of original 290418, drops 0)', 'datetime': '2024-06-14T10:09:41.894869', 'gensim': '4.3.2', 'python': '3.10.9 | packaged by Anaconda, Inc. | (main, Mar  1 2023, 18:18:15) [MSC v.1916 64 bit (AMD64)]', 'platform': 'Windows-10-10.0.22631-SP0', 'event': 'prepare_vocab'}\n",
      "2024-06-14 10:09:41,894 : INFO : Word2Vec lifecycle event {'msg': 'effective_min_count=1 leaves 9227204 word corpus (100.00% of original 9227204, drops 0)', 'datetime': '2024-06-14T10:09:41.894869', 'gensim': '4.3.2', 'python': '3.10.9 | packaged by Anaconda, Inc. | (main, Mar  1 2023, 18:18:15) [MSC v.1916 64 bit (AMD64)]', 'platform': 'Windows-10-10.0.22631-SP0', 'event': 'prepare_vocab'}\n",
      "2024-06-14 10:09:42,666 : INFO : deleting the raw counts dictionary of 290418 items\n",
      "2024-06-14 10:09:42,672 : INFO : sample=0.001 downsamples 42 most-common words\n",
      "2024-06-14 10:09:42,672 : INFO : Word2Vec lifecycle event {'msg': 'downsampling leaves estimated 8708796.701248538 word corpus (94.4%% of prior 9227204)', 'datetime': '2024-06-14T10:09:42.672960', 'gensim': '4.3.2', 'python': '3.10.9 | packaged by Anaconda, Inc. | (main, Mar  1 2023, 18:18:15) [MSC v.1916 64 bit (AMD64)]', 'platform': 'Windows-10-10.0.22631-SP0', 'event': 'prepare_vocab'}\n",
      "2024-06-14 10:09:43,816 : INFO : estimated required memory for 290418 words and 100 dimensions: 377543400 bytes\n",
      "2024-06-14 10:09:43,816 : INFO : resetting layer weights\n",
      "2024-06-14 10:09:43,900 : INFO : Word2Vec lifecycle event {'update': False, 'trim_rule': 'None', 'datetime': '2024-06-14T10:09:43.900286', 'gensim': '4.3.2', 'python': '3.10.9 | packaged by Anaconda, Inc. | (main, Mar  1 2023, 18:18:15) [MSC v.1916 64 bit (AMD64)]', 'platform': 'Windows-10-10.0.22631-SP0', 'event': 'build_vocab'}\n"
     ]
    }
   ],
   "source": [
    "w2v_model.build_vocab(documents)"
   ]
  },
  {
   "cell_type": "code",
   "execution_count": 19,
   "metadata": {
    "_uuid": "72a5628ca81fd4b8983c12d93ae0bf950b86b6ae"
   },
   "outputs": [
    {
     "name": "stdout",
     "output_type": "stream",
     "text": [
      "Vocabulary size: 290418\n"
     ]
    }
   ],
   "source": [
    "# Get the keys from the model's dictionary (the vocabulary)\n",
    "words = w2v_model.wv.index_to_key\n",
    "\n",
    "# Calculate vocabulary size\n",
    "vocab_size = len(words)\n",
    "\n",
    "print(\"Vocabulary size:\", vocab_size)"
   ]
  },
  {
   "cell_type": "code",
   "execution_count": 20,
   "metadata": {
    "_uuid": "68c3e4a5ba07cac3dee67f78ecdd1404c7f83f14"
   },
   "outputs": [
    {
     "name": "stderr",
     "output_type": "stream",
     "text": [
      "2024-06-14 10:13:58,108 : INFO : Word2Vec lifecycle event {'msg': 'training model with 8 workers on 290418 vocabulary and 100 features, using sg=0 hs=0 sample=0.001 negative=5 window=5 shrink_windows=True', 'datetime': '2024-06-14T10:13:58.108380', 'gensim': '4.3.2', 'python': '3.10.9 | packaged by Anaconda, Inc. | (main, Mar  1 2023, 18:18:15) [MSC v.1916 64 bit (AMD64)]', 'platform': 'Windows-10-10.0.22631-SP0', 'event': 'train'}\n",
      "2024-06-14 10:13:59,132 : INFO : EPOCH 0 - PROGRESS: at 37.59% examples, 3268146 words/s, in_qsize 15, out_qsize 0\n",
      "2024-06-14 10:14:00,139 : INFO : EPOCH 0 - PROGRESS: at 75.13% examples, 3259708 words/s, in_qsize 15, out_qsize 0\n",
      "2024-06-14 10:14:00,776 : INFO : EPOCH 0: training on 9227204 raw words (8708475 effective words) took 2.6s, 3291930 effective words/s\n",
      "2024-06-14 10:14:01,791 : INFO : EPOCH 1 - PROGRESS: at 38.13% examples, 3317877 words/s, in_qsize 13, out_qsize 2\n",
      "2024-06-14 10:14:02,793 : INFO : EPOCH 1 - PROGRESS: at 74.59% examples, 3244229 words/s, in_qsize 16, out_qsize 1\n",
      "2024-06-14 10:14:03,450 : INFO : EPOCH 1: training on 9227204 raw words (8709473 effective words) took 2.7s, 3273871 effective words/s\n",
      "2024-06-14 10:14:04,465 : INFO : EPOCH 2 - PROGRESS: at 38.35% examples, 3323297 words/s, in_qsize 15, out_qsize 0\n",
      "2024-06-14 10:14:05,471 : INFO : EPOCH 2 - PROGRESS: at 76.88% examples, 3332358 words/s, in_qsize 15, out_qsize 0\n",
      "2024-06-14 10:14:06,075 : INFO : EPOCH 2: training on 9227204 raw words (8708572 effective words) took 2.6s, 3330078 effective words/s\n",
      "2024-06-14 10:14:07,090 : INFO : EPOCH 3 - PROGRESS: at 38.57% examples, 3341675 words/s, in_qsize 14, out_qsize 1\n",
      "2024-06-14 10:14:08,099 : INFO : EPOCH 3 - PROGRESS: at 73.73% examples, 3190822 words/s, in_qsize 15, out_qsize 0\n",
      "2024-06-14 10:14:08,805 : INFO : EPOCH 3: training on 9227204 raw words (8708222 effective words) took 2.7s, 3202637 effective words/s\n",
      "2024-06-14 10:14:09,814 : INFO : EPOCH 4 - PROGRESS: at 38.35% examples, 3337231 words/s, in_qsize 15, out_qsize 0\n",
      "2024-06-14 10:14:10,816 : INFO : EPOCH 4 - PROGRESS: at 75.35% examples, 3280142 words/s, in_qsize 14, out_qsize 1\n",
      "2024-06-14 10:14:11,461 : INFO : EPOCH 4: training on 9227204 raw words (8708844 effective words) took 2.6s, 3289477 effective words/s\n",
      "2024-06-14 10:14:12,477 : INFO : EPOCH 5 - PROGRESS: at 38.14% examples, 3311900 words/s, in_qsize 16, out_qsize 1\n",
      "2024-06-14 10:14:13,484 : INFO : EPOCH 5 - PROGRESS: at 76.11% examples, 3299781 words/s, in_qsize 15, out_qsize 0\n",
      "2024-06-14 10:14:14,119 : INFO : EPOCH 5: training on 9227204 raw words (8708610 effective words) took 2.6s, 3292900 effective words/s\n",
      "2024-06-14 10:14:15,135 : INFO : EPOCH 6 - PROGRESS: at 36.29% examples, 3149927 words/s, in_qsize 15, out_qsize 0\n",
      "2024-06-14 10:14:16,137 : INFO : EPOCH 6 - PROGRESS: at 73.94% examples, 3214787 words/s, in_qsize 15, out_qsize 0\n",
      "2024-06-14 10:14:16,806 : INFO : EPOCH 6: training on 9227204 raw words (8709471 effective words) took 2.7s, 3257382 effective words/s\n",
      "2024-06-14 10:14:17,820 : INFO : EPOCH 7 - PROGRESS: at 35.97% examples, 3127687 words/s, in_qsize 15, out_qsize 0\n",
      "2024-06-14 10:14:18,825 : INFO : EPOCH 7 - PROGRESS: at 74.48% examples, 3235335 words/s, in_qsize 16, out_qsize 1\n",
      "2024-06-14 10:14:19,479 : INFO : EPOCH 7: training on 9227204 raw words (8708804 effective words) took 2.7s, 3273993 effective words/s\n",
      "2024-06-14 10:14:20,495 : INFO : EPOCH 8 - PROGRESS: at 39.54% examples, 3430020 words/s, in_qsize 15, out_qsize 0\n",
      "2024-06-14 10:14:21,500 : INFO : EPOCH 8 - PROGRESS: at 78.51% examples, 3406900 words/s, in_qsize 14, out_qsize 1\n",
      "2024-06-14 10:14:22,062 : INFO : EPOCH 8: training on 9227204 raw words (8708984 effective words) took 2.6s, 3388063 effective words/s\n",
      "2024-06-14 10:14:23,078 : INFO : EPOCH 9 - PROGRESS: at 34.35% examples, 2980897 words/s, in_qsize 16, out_qsize 0\n",
      "2024-06-14 10:14:24,080 : INFO : EPOCH 9 - PROGRESS: at 69.72% examples, 3031100 words/s, in_qsize 15, out_qsize 0\n",
      "2024-06-14 10:14:24,893 : INFO : EPOCH 9: training on 9227204 raw words (8708710 effective words) took 2.8s, 3091142 effective words/s\n",
      "2024-06-14 10:14:25,912 : INFO : EPOCH 10 - PROGRESS: at 35.97% examples, 3119105 words/s, in_qsize 15, out_qsize 0\n",
      "2024-06-14 10:14:26,915 : INFO : EPOCH 10 - PROGRESS: at 72.75% examples, 3158362 words/s, in_qsize 15, out_qsize 0\n",
      "2024-06-14 10:14:27,656 : INFO : EPOCH 10: training on 9227204 raw words (8709008 effective words) took 2.7s, 3168448 effective words/s\n",
      "2024-06-14 10:14:28,681 : INFO : EPOCH 11 - PROGRESS: at 32.62% examples, 2829978 words/s, in_qsize 16, out_qsize 0\n",
      "2024-06-14 10:14:29,687 : INFO : EPOCH 11 - PROGRESS: at 66.91% examples, 2902511 words/s, in_qsize 16, out_qsize 0\n",
      "2024-06-14 10:14:30,552 : INFO : EPOCH 11: training on 9227204 raw words (8709077 effective words) took 2.9s, 3029526 effective words/s\n",
      "2024-06-14 10:14:31,567 : INFO : EPOCH 12 - PROGRESS: at 36.83% examples, 3206357 words/s, in_qsize 14, out_qsize 1\n",
      "2024-06-14 10:14:32,568 : INFO : EPOCH 12 - PROGRESS: at 75.78% examples, 3300307 words/s, in_qsize 15, out_qsize 0\n",
      "2024-06-14 10:14:33,182 : INFO : EPOCH 12: training on 9227204 raw words (8708726 effective words) took 2.6s, 3329616 effective words/s\n",
      "2024-06-14 10:14:34,197 : INFO : EPOCH 13 - PROGRESS: at 38.35% examples, 3331824 words/s, in_qsize 15, out_qsize 0\n",
      "2024-06-14 10:14:35,199 : INFO : EPOCH 13 - PROGRESS: at 75.57% examples, 3286053 words/s, in_qsize 15, out_qsize 0\n",
      "2024-06-14 10:14:35,835 : INFO : EPOCH 13: training on 9227204 raw words (8708913 effective words) took 2.6s, 3298680 effective words/s\n",
      "2024-06-14 10:14:36,855 : INFO : EPOCH 14 - PROGRESS: at 36.83% examples, 3187346 words/s, in_qsize 16, out_qsize 1\n",
      "2024-06-14 10:14:37,862 : INFO : EPOCH 14 - PROGRESS: at 76.11% examples, 3294141 words/s, in_qsize 14, out_qsize 1\n",
      "2024-06-14 10:14:38,475 : INFO : EPOCH 14: training on 9227204 raw words (8707631 effective words) took 2.6s, 3316881 effective words/s\n",
      "2024-06-14 10:14:39,499 : INFO : EPOCH 15 - PROGRESS: at 36.83% examples, 3197791 words/s, in_qsize 15, out_qsize 0\n",
      "2024-06-14 10:14:40,501 : INFO : EPOCH 15 - PROGRESS: at 75.35% examples, 3275576 words/s, in_qsize 16, out_qsize 1\n",
      "2024-06-14 10:14:41,164 : INFO : EPOCH 15: training on 9227204 raw words (8708818 effective words) took 2.7s, 3264590 effective words/s\n",
      "2024-06-14 10:14:42,178 : INFO : EPOCH 16 - PROGRESS: at 35.86% examples, 3117423 words/s, in_qsize 15, out_qsize 0\n",
      "2024-06-14 10:14:43,181 : INFO : EPOCH 16 - PROGRESS: at 72.21% examples, 3141079 words/s, in_qsize 15, out_qsize 0\n",
      "2024-06-14 10:14:43,882 : INFO : EPOCH 16: training on 9227204 raw words (8707358 effective words) took 2.7s, 3219173 effective words/s\n",
      "2024-06-14 10:14:44,898 : INFO : EPOCH 17 - PROGRESS: at 38.68% examples, 3359167 words/s, in_qsize 15, out_qsize 0\n",
      "2024-06-14 10:14:45,904 : INFO : EPOCH 17 - PROGRESS: at 75.67% examples, 3281555 words/s, in_qsize 15, out_qsize 0\n",
      "2024-06-14 10:14:46,544 : INFO : EPOCH 17: training on 9227204 raw words (8708979 effective words) took 2.6s, 3287509 effective words/s\n",
      "2024-06-14 10:14:47,562 : INFO : EPOCH 18 - PROGRESS: at 37.16% examples, 3225881 words/s, in_qsize 15, out_qsize 0\n",
      "2024-06-14 10:14:48,565 : INFO : EPOCH 18 - PROGRESS: at 73.19% examples, 3178158 words/s, in_qsize 15, out_qsize 0\n",
      "2024-06-14 10:14:49,269 : INFO : EPOCH 18: training on 9227204 raw words (8708938 effective words) took 2.7s, 3212371 effective words/s\n",
      "2024-06-14 10:14:50,289 : INFO : EPOCH 19 - PROGRESS: at 38.03% examples, 3290832 words/s, in_qsize 13, out_qsize 2\n",
      "2024-06-14 10:14:51,290 : INFO : EPOCH 19 - PROGRESS: at 74.59% examples, 3237524 words/s, in_qsize 15, out_qsize 1\n",
      "2024-06-14 10:14:51,974 : INFO : EPOCH 19: training on 9227204 raw words (8709842 effective words) took 2.7s, 3234886 effective words/s\n",
      "2024-06-14 10:14:52,989 : INFO : EPOCH 20 - PROGRESS: at 36.94% examples, 3214079 words/s, in_qsize 15, out_qsize 0\n",
      "2024-06-14 10:14:53,990 : INFO : EPOCH 20 - PROGRESS: at 74.37% examples, 3237156 words/s, in_qsize 16, out_qsize 2\n",
      "2024-06-14 10:14:54,643 : INFO : EPOCH 20: training on 9227204 raw words (8709231 effective words) took 2.7s, 3280382 effective words/s\n",
      "2024-06-14 10:14:55,660 : INFO : EPOCH 21 - PROGRESS: at 38.03% examples, 3302174 words/s, in_qsize 15, out_qsize 0\n"
     ]
    },
    {
     "name": "stderr",
     "output_type": "stream",
     "text": [
      "2024-06-14 10:14:56,665 : INFO : EPOCH 21 - PROGRESS: at 74.27% examples, 3222701 words/s, in_qsize 16, out_qsize 0\n",
      "2024-06-14 10:14:57,389 : INFO : EPOCH 21: training on 9227204 raw words (8707479 effective words) took 2.7s, 3187282 effective words/s\n",
      "2024-06-14 10:14:58,400 : INFO : EPOCH 22 - PROGRESS: at 34.78% examples, 3026181 words/s, in_qsize 15, out_qsize 0\n",
      "2024-06-14 10:14:59,405 : INFO : EPOCH 22 - PROGRESS: at 71.99% examples, 3127739 words/s, in_qsize 14, out_qsize 1\n",
      "2024-06-14 10:15:00,166 : INFO : EPOCH 22: training on 9227204 raw words (8708901 effective words) took 2.8s, 3146647 effective words/s\n",
      "2024-06-14 10:15:01,180 : INFO : EPOCH 23 - PROGRESS: at 34.35% examples, 2988391 words/s, in_qsize 16, out_qsize 0\n",
      "2024-06-14 10:15:02,178 : INFO : EPOCH 23 - PROGRESS: at 72.10% examples, 3124860 words/s, in_qsize 15, out_qsize 0\n",
      "2024-06-14 10:15:02,958 : INFO : EPOCH 23: training on 9227204 raw words (8708847 effective words) took 2.8s, 3134040 effective words/s\n",
      "2024-06-14 10:15:03,985 : INFO : EPOCH 24 - PROGRESS: at 37.70% examples, 3263013 words/s, in_qsize 16, out_qsize 0\n",
      "2024-06-14 10:15:04,987 : INFO : EPOCH 24 - PROGRESS: at 75.24% examples, 3264730 words/s, in_qsize 15, out_qsize 0\n",
      "2024-06-14 10:15:05,658 : INFO : EPOCH 24: training on 9227204 raw words (8709733 effective words) took 2.7s, 3251155 effective words/s\n",
      "2024-06-14 10:15:06,674 : INFO : EPOCH 25 - PROGRESS: at 35.21% examples, 3054520 words/s, in_qsize 16, out_qsize 2\n",
      "2024-06-14 10:15:07,675 : INFO : EPOCH 25 - PROGRESS: at 71.99% examples, 3125304 words/s, in_qsize 15, out_qsize 0\n",
      "2024-06-14 10:15:08,423 : INFO : EPOCH 25: training on 9227204 raw words (8709144 effective words) took 2.8s, 3159913 effective words/s\n",
      "2024-06-14 10:15:09,437 : INFO : EPOCH 26 - PROGRESS: at 38.25% examples, 3298226 words/s, in_qsize 15, out_qsize 0\n",
      "2024-06-14 10:15:10,454 : INFO : EPOCH 26 - PROGRESS: at 75.57% examples, 3272072 words/s, in_qsize 16, out_qsize 3\n",
      "2024-06-14 10:15:11,074 : INFO : EPOCH 26: training on 9227204 raw words (8708449 effective words) took 2.6s, 3293886 effective words/s\n",
      "2024-06-14 10:15:12,099 : INFO : EPOCH 27 - PROGRESS: at 38.25% examples, 3312716 words/s, in_qsize 15, out_qsize 1\n",
      "2024-06-14 10:15:13,092 : INFO : EPOCH 27 - PROGRESS: at 76.55% examples, 3323235 words/s, in_qsize 15, out_qsize 0\n",
      "2024-06-14 10:15:13,711 : INFO : EPOCH 27: training on 9227204 raw words (8709085 effective words) took 2.6s, 3329932 effective words/s\n",
      "2024-06-14 10:15:14,707 : INFO : EPOCH 28 - PROGRESS: at 38.14% examples, 3318285 words/s, in_qsize 15, out_qsize 0\n",
      "2024-06-14 10:15:15,708 : INFO : EPOCH 28 - PROGRESS: at 75.02% examples, 3265342 words/s, in_qsize 15, out_qsize 0\n",
      "2024-06-14 10:15:16,360 : INFO : EPOCH 28: training on 9227204 raw words (8708848 effective words) took 2.7s, 3286303 effective words/s\n",
      "2024-06-14 10:15:17,376 : INFO : EPOCH 29 - PROGRESS: at 36.83% examples, 3204724 words/s, in_qsize 14, out_qsize 1\n",
      "2024-06-14 10:15:18,369 : INFO : EPOCH 29 - PROGRESS: at 74.37% examples, 3238999 words/s, in_qsize 15, out_qsize 1\n",
      "2024-06-14 10:15:19,032 : INFO : EPOCH 29: training on 9227204 raw words (8708433 effective words) took 2.7s, 3274070 effective words/s\n",
      "2024-06-14 10:15:20,050 : INFO : EPOCH 30 - PROGRESS: at 37.05% examples, 3211716 words/s, in_qsize 12, out_qsize 3\n",
      "2024-06-14 10:15:21,057 : INFO : EPOCH 30 - PROGRESS: at 75.02% examples, 3249872 words/s, in_qsize 16, out_qsize 0\n",
      "2024-06-14 10:15:21,698 : INFO : EPOCH 30: training on 9227204 raw words (8708812 effective words) took 2.6s, 3288896 effective words/s\n",
      "2024-06-14 10:15:22,708 : INFO : EPOCH 31 - PROGRESS: at 37.16% examples, 3221369 words/s, in_qsize 14, out_qsize 1\n",
      "2024-06-14 10:15:23,715 : INFO : EPOCH 31 - PROGRESS: at 74.16% examples, 3223821 words/s, in_qsize 15, out_qsize 0\n",
      "2024-06-14 10:15:24,388 : INFO : EPOCH 31: training on 9227204 raw words (8708050 effective words) took 2.7s, 3243715 effective words/s\n",
      "2024-06-14 10:15:24,388 : INFO : Word2Vec lifecycle event {'msg': 'training on 295270528 raw words (278680467 effective words) took 86.3s, 3229553 effective words/s', 'datetime': '2024-06-14T10:15:24.388772', 'gensim': '4.3.2', 'python': '3.10.9 | packaged by Anaconda, Inc. | (main, Mar  1 2023, 18:18:15) [MSC v.1916 64 bit (AMD64)]', 'platform': 'Windows-10-10.0.22631-SP0', 'event': 'train'}\n"
     ]
    },
    {
     "name": "stdout",
     "output_type": "stream",
     "text": [
      "CPU times: total: 49 s\n",
      "Wall time: 1min 26s\n"
     ]
    },
    {
     "data": {
      "text/plain": [
       "(278680467, 295270528)"
      ]
     },
     "execution_count": 20,
     "metadata": {},
     "output_type": "execute_result"
    }
   ],
   "source": [
    "%%time\n",
    "w2v_model.train(documents, total_examples=len(documents), epochs=W2V_EPOCH)"
   ]
  },
  {
   "cell_type": "code",
   "execution_count": 21,
   "metadata": {
    "_uuid": "27cc2651c74227115d8bfd8c40e5618048e05edd"
   },
   "outputs": [
    {
     "name": "stdout",
     "output_type": "stream",
     "text": [
      "loves: 0.6678182482719421\n",
      "luv: 0.6586138010025024\n",
      "loved: 0.6231092214584351\n",
      "adore: 0.6132185459136963\n",
      "amazing: 0.5870189070701599\n",
      "awesome: 0.5724228024482727\n",
      "loooove: 0.5348321199417114\n",
      "looooove: 0.5262219905853271\n",
      "loving: 0.5255035161972046\n",
      "fav: 0.5020535588264465\n"
     ]
    }
   ],
   "source": [
    "# Find the most similar words to a given word\n",
    "similar_words = w2v_model.wv.most_similar(\"love\")\n",
    "\n",
    "# Print the similar words\n",
    "for word, similarity in similar_words:\n",
    "    print(f\"{word}: {similarity}\")"
   ]
  },
  {
   "cell_type": "markdown",
   "metadata": {
    "_uuid": "e13563644468037258598637b49373ca96b9b879"
   },
   "source": [
    "### Tokenize Text"
   ]
  },
  {
   "cell_type": "code",
   "execution_count": 22,
   "metadata": {
    "_uuid": "6852bc709a7cd20173cbeeb218505078f8f37c57"
   },
   "outputs": [
    {
     "name": "stdout",
     "output_type": "stream",
     "text": [
      "Total words 290419\n",
      "CPU times: total: 4.19 s\n",
      "Wall time: 9.16 s\n"
     ]
    }
   ],
   "source": [
    "%%time\n",
    "tokenizer = Tokenizer()\n",
    "tokenizer.fit_on_texts(df_train.text)\n",
    "\n",
    "vocab_size = len(tokenizer.word_index) + 1\n",
    "print(\"Total words\", vocab_size)"
   ]
  },
  {
   "cell_type": "code",
   "execution_count": 30,
   "metadata": {},
   "outputs": [
    {
     "name": "stdout",
     "output_type": "stream",
     "text": [
      "Number of unique words: 290418\n"
     ]
    }
   ],
   "source": [
    "num_words = len(tokenizer.word_index)\n",
    "print(f'Number of unique words: {num_words}')"
   ]
  },
  {
   "cell_type": "code",
   "execution_count": 23,
   "metadata": {
    "_uuid": "45de439df3015030c71f84c2d170346936a1d68f"
   },
   "outputs": [
    {
     "name": "stdout",
     "output_type": "stream",
     "text": [
      "CPU times: total: 5.92 s\n",
      "Wall time: 13.6 s\n"
     ]
    }
   ],
   "source": [
    "%%time\n",
    "x_train = pad_sequences(tokenizer.texts_to_sequences(df_train.text), maxlen=SEQUENCE_LENGTH)\n",
    "x_test = pad_sequences(tokenizer.texts_to_sequences(df_test.text), maxlen=SEQUENCE_LENGTH)"
   ]
  },
  {
   "cell_type": "code",
   "execution_count": 31,
   "metadata": {},
   "outputs": [
    {
     "data": {
      "text/plain": [
       "array([[   0,    0,    0, ...,  712,  118, 4999],\n",
       "       [   0,    0,    0, ...,  452,  378, 4999],\n",
       "       [   0,    0,    0, ..., 2048,    4, 4999],\n",
       "       ...,\n",
       "       [   0,    0,    0, ...,  661, 4246, 4999],\n",
       "       [   0,    0,    0, ...,   12,  477,  957],\n",
       "       [   0,    0,    0, ...,    9,  502,  268]])"
      ]
     },
     "execution_count": 31,
     "metadata": {},
     "output_type": "execute_result"
    }
   ],
   "source": [
    "x_train"
   ]
  },
  {
   "cell_type": "markdown",
   "metadata": {
    "_uuid": "03b35903fc6260e190d6928d240ef7432de117fc"
   },
   "source": [
    "### Label Encoder "
   ]
  },
  {
   "cell_type": "code",
   "execution_count": 24,
   "metadata": {
    "_uuid": "33676e0efa39e97d89bd650b8b4eae933a22fbf0"
   },
   "outputs": [
    {
     "data": {
      "text/plain": [
       "['POSITIVE', 'NEGATIVE', 'NEUTRAL']"
      ]
     },
     "execution_count": 24,
     "metadata": {},
     "output_type": "execute_result"
    }
   ],
   "source": [
    "labels = df_train.target.unique().tolist()\n",
    "labels.append(NEUTRAL)\n",
    "labels"
   ]
  },
  {
   "cell_type": "code",
   "execution_count": 25,
   "metadata": {
    "_uuid": "04239a9bef76e7922fd86098a5601dfde8ee4665"
   },
   "outputs": [
    {
     "name": "stdout",
     "output_type": "stream",
     "text": [
      "y_train (1280000, 1)\n",
      "y_test (320000, 1)\n"
     ]
    }
   ],
   "source": [
    "encoder = LabelEncoder()\n",
    "encoder.fit(df_train.target.tolist())\n",
    "\n",
    "y_train = encoder.transform(df_train.target.tolist())\n",
    "y_test = encoder.transform(df_test.target.tolist())\n",
    "\n",
    "y_train = y_train.reshape(-1,1)\n",
    "y_test = y_test.reshape(-1,1)\n",
    "\n",
    "print(\"y_train\",y_train.shape)\n",
    "print(\"y_test\",y_test.shape)"
   ]
  },
  {
   "cell_type": "code",
   "execution_count": 26,
   "metadata": {
    "_uuid": "04299c886911ca135583ab64878f213939a2990c"
   },
   "outputs": [
    {
     "name": "stdout",
     "output_type": "stream",
     "text": [
      "x_train (1280000, 300)\n",
      "y_train (1280000, 1)\n",
      "\n",
      "x_test (320000, 300)\n",
      "y_test (320000, 1)\n"
     ]
    }
   ],
   "source": [
    "print(\"x_train\", x_train.shape)\n",
    "print(\"y_train\", y_train.shape)\n",
    "print()\n",
    "print(\"x_test\", x_test.shape)\n",
    "print(\"y_test\", y_test.shape)"
   ]
  },
  {
   "cell_type": "code",
   "execution_count": 29,
   "metadata": {
    "_uuid": "232533fb27b7be99d9b8c2f8fb22c9c6bf121a6f"
   },
   "outputs": [
    {
     "name": "stdout",
     "output_type": "stream",
     "text": [
      "Number of out-of-bounds values: 1421709\n"
     ]
    }
   ],
   "source": [
    "def check_and_fix_out_of_bounds(x_train, max_value):\n",
    "    num_out_of_bounds = np.sum(x_train >= max_value)\n",
    "    print(f\"Number of out-of-bounds values: {num_out_of_bounds}\")\n",
    "    x_train[x_train >= max_value] = max_value - 1\n",
    "    return x_train\n",
    "\n",
    "x_train = check_and_fix_out_of_bounds(x_train, 5000)"
   ]
  },
  {
   "cell_type": "markdown",
   "metadata": {},
   "source": [
    "### Dump x_train, x_test, y_train, y_test to files"
   ]
  },
  {
   "cell_type": "code",
   "execution_count": 28,
   "metadata": {},
   "outputs": [],
   "source": [
    "# Assuming x_train, y_train, x_test, and y_test are your numpy arrays\n",
    "folder = 'input/'\n",
    "np.save('input/x_train.npy', x_train)\n",
    "np.save('input/y_train.npy', y_train)\n",
    "np.save('input/x_test.npy', x_test)\n",
    "np.save('input/y_test.npy', y_test)"
   ]
  },
  {
   "cell_type": "code",
   "execution_count": null,
   "metadata": {
    "_uuid": "cc363c54782894757f5ea8820c6a170f2e16ef93"
   },
   "outputs": [],
   "source": []
  }
 ],
 "metadata": {
  "kaggle": {
   "accelerator": "gpu",
   "dataSources": [
    {
     "datasetId": 2477,
     "sourceId": 4140,
     "sourceType": "datasetVersion"
    }
   ],
   "dockerImageVersionId": 18195,
   "isGpuEnabled": true,
   "isInternetEnabled": false,
   "language": "python",
   "sourceType": "notebook"
  },
  "kernelspec": {
   "display_name": "Python 3 (ipykernel)",
   "language": "python",
   "name": "python3"
  },
  "language_info": {
   "codemirror_mode": {
    "name": "ipython",
    "version": 3
   },
   "file_extension": ".py",
   "mimetype": "text/x-python",
   "name": "python",
   "nbconvert_exporter": "python",
   "pygments_lexer": "ipython3",
   "version": "3.10.9"
  }
 },
 "nbformat": 4,
 "nbformat_minor": 4
}
