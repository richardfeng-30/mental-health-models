{
 "cells": [
  {
   "cell_type": "markdown",
   "metadata": {
    "_uuid": "92b885dd147dac19bd0a33db3cd0da100bd5bc23"
   },
   "source": [
    "# Twitter Sentiment Analysis"
   ]
  },
  {
   "cell_type": "code",
   "execution_count": 33,
   "metadata": {
    "_uuid": "70282bce8b42a51e4d44f2c7d85c4ca9567b0fd4"
   },
   "outputs": [
    {
     "name": "stdout",
     "output_type": "stream",
     "text": [
      "Defaulting to user installation because normal site-packages is not writeable\n",
      "Requirement already satisfied: keras in c:\\users\\kwfen\\appdata\\roaming\\python\\python310\\site-packages (3.3.3)\n",
      "Requirement already satisfied: tensorflow in c:\\users\\kwfen\\appdata\\roaming\\python\\python310\\site-packages (2.16.1)\n",
      "Requirement already satisfied: numpy in c:\\programdata\\anaconda3\\lib\\site-packages (from keras) (1.23.5)\n",
      "Requirement already satisfied: optree in c:\\users\\kwfen\\appdata\\roaming\\python\\python310\\site-packages (from keras) (0.11.0)\n",
      "Requirement already satisfied: absl-py in c:\\users\\kwfen\\appdata\\roaming\\python\\python310\\site-packages (from keras) (2.1.0)\n",
      "Requirement already satisfied: rich in c:\\users\\kwfen\\appdata\\roaming\\python\\python310\\site-packages (from keras) (13.7.1)\n",
      "Requirement already satisfied: h5py in c:\\users\\kwfen\\appdata\\roaming\\python\\python310\\site-packages (from keras) (3.11.0)\n",
      "Requirement already satisfied: namex in c:\\users\\kwfen\\appdata\\roaming\\python\\python310\\site-packages (from keras) (0.0.8)\n",
      "Requirement already satisfied: ml-dtypes in c:\\users\\kwfen\\appdata\\roaming\\python\\python310\\site-packages (from keras) (0.3.2)\n",
      "Requirement already satisfied: tensorflow-intel==2.16.1 in c:\\users\\kwfen\\appdata\\roaming\\python\\python310\\site-packages (from tensorflow) (2.16.1)\n",
      "Requirement already satisfied: requests<3,>=2.21.0 in c:\\programdata\\anaconda3\\lib\\site-packages (from tensorflow-intel==2.16.1->tensorflow) (2.28.1)\n",
      "Requirement already satisfied: six>=1.12.0 in c:\\programdata\\anaconda3\\lib\\site-packages (from tensorflow-intel==2.16.1->tensorflow) (1.16.0)\n",
      "Requirement already satisfied: packaging in c:\\programdata\\anaconda3\\lib\\site-packages (from tensorflow-intel==2.16.1->tensorflow) (22.0)\n",
      "Requirement already satisfied: tensorboard<2.17,>=2.16 in c:\\users\\kwfen\\appdata\\roaming\\python\\python310\\site-packages (from tensorflow-intel==2.16.1->tensorflow) (2.16.2)\n",
      "Requirement already satisfied: opt-einsum>=2.3.2 in c:\\users\\kwfen\\appdata\\roaming\\python\\python310\\site-packages (from tensorflow-intel==2.16.1->tensorflow) (3.3.0)\n",
      "Requirement already satisfied: flatbuffers>=23.5.26 in c:\\users\\kwfen\\appdata\\roaming\\python\\python310\\site-packages (from tensorflow-intel==2.16.1->tensorflow) (24.3.25)\n",
      "Requirement already satisfied: libclang>=13.0.0 in c:\\users\\kwfen\\appdata\\roaming\\python\\python310\\site-packages (from tensorflow-intel==2.16.1->tensorflow) (18.1.1)\n",
      "Requirement already satisfied: gast!=0.5.0,!=0.5.1,!=0.5.2,>=0.2.1 in c:\\users\\kwfen\\appdata\\roaming\\python\\python310\\site-packages (from tensorflow-intel==2.16.1->tensorflow) (0.5.4)\n",
      "Requirement already satisfied: termcolor>=1.1.0 in c:\\users\\kwfen\\appdata\\roaming\\python\\python310\\site-packages (from tensorflow-intel==2.16.1->tensorflow) (2.4.0)\n",
      "Requirement already satisfied: google-pasta>=0.1.1 in c:\\users\\kwfen\\appdata\\roaming\\python\\python310\\site-packages (from tensorflow-intel==2.16.1->tensorflow) (0.2.0)\n",
      "Requirement already satisfied: astunparse>=1.6.0 in c:\\users\\kwfen\\appdata\\roaming\\python\\python310\\site-packages (from tensorflow-intel==2.16.1->tensorflow) (1.6.3)\n",
      "Requirement already satisfied: protobuf!=4.21.0,!=4.21.1,!=4.21.2,!=4.21.3,!=4.21.4,!=4.21.5,<5.0.0dev,>=3.20.3 in c:\\users\\kwfen\\appdata\\roaming\\python\\python310\\site-packages (from tensorflow-intel==2.16.1->tensorflow) (4.24.4)\n",
      "Requirement already satisfied: wrapt>=1.11.0 in c:\\programdata\\anaconda3\\lib\\site-packages (from tensorflow-intel==2.16.1->tensorflow) (1.14.1)\n",
      "Requirement already satisfied: tensorflow-io-gcs-filesystem>=0.23.1 in c:\\users\\kwfen\\appdata\\roaming\\python\\python310\\site-packages (from tensorflow-intel==2.16.1->tensorflow) (0.31.0)\n",
      "Requirement already satisfied: grpcio<2.0,>=1.24.3 in c:\\users\\kwfen\\appdata\\roaming\\python\\python310\\site-packages (from tensorflow-intel==2.16.1->tensorflow) (1.64.1)\n",
      "Requirement already satisfied: typing-extensions>=3.6.6 in c:\\users\\kwfen\\appdata\\roaming\\python\\python310\\site-packages (from tensorflow-intel==2.16.1->tensorflow) (4.12.1)\n",
      "Requirement already satisfied: setuptools in c:\\programdata\\anaconda3\\lib\\site-packages (from tensorflow-intel==2.16.1->tensorflow) (65.6.3)\n",
      "Requirement already satisfied: pygments<3.0.0,>=2.13.0 in c:\\users\\kwfen\\appdata\\roaming\\python\\python310\\site-packages (from rich->keras) (2.18.0)\n",
      "Requirement already satisfied: markdown-it-py>=2.2.0 in c:\\users\\kwfen\\appdata\\roaming\\python\\python310\\site-packages (from rich->keras) (3.0.0)\n",
      "Requirement already satisfied: wheel<1.0,>=0.23.0 in c:\\programdata\\anaconda3\\lib\\site-packages (from astunparse>=1.6.0->tensorflow-intel==2.16.1->tensorflow) (0.38.4)\n",
      "Requirement already satisfied: mdurl~=0.1 in c:\\users\\kwfen\\appdata\\roaming\\python\\python310\\site-packages (from markdown-it-py>=2.2.0->rich->keras) (0.1.2)\n",
      "Requirement already satisfied: certifi>=2017.4.17 in c:\\programdata\\anaconda3\\lib\\site-packages (from requests<3,>=2.21.0->tensorflow-intel==2.16.1->tensorflow) (2022.12.7)\n",
      "Requirement already satisfied: charset-normalizer<3,>=2 in c:\\programdata\\anaconda3\\lib\\site-packages (from requests<3,>=2.21.0->tensorflow-intel==2.16.1->tensorflow) (2.0.4)\n",
      "Requirement already satisfied: idna<4,>=2.5 in c:\\programdata\\anaconda3\\lib\\site-packages (from requests<3,>=2.21.0->tensorflow-intel==2.16.1->tensorflow) (3.4)\n",
      "Requirement already satisfied: urllib3<1.27,>=1.21.1 in c:\\programdata\\anaconda3\\lib\\site-packages (from requests<3,>=2.21.0->tensorflow-intel==2.16.1->tensorflow) (1.26.14)\n",
      "Requirement already satisfied: markdown>=2.6.8 in c:\\programdata\\anaconda3\\lib\\site-packages (from tensorboard<2.17,>=2.16->tensorflow-intel==2.16.1->tensorflow) (3.4.1)\n",
      "Requirement already satisfied: tensorboard-data-server<0.8.0,>=0.7.0 in c:\\users\\kwfen\\appdata\\roaming\\python\\python310\\site-packages (from tensorboard<2.17,>=2.16->tensorflow-intel==2.16.1->tensorflow) (0.7.2)\n",
      "Requirement already satisfied: werkzeug>=1.0.1 in c:\\programdata\\anaconda3\\lib\\site-packages (from tensorboard<2.17,>=2.16->tensorflow-intel==2.16.1->tensorflow) (2.2.2)\n",
      "Requirement already satisfied: MarkupSafe>=2.1.1 in c:\\programdata\\anaconda3\\lib\\site-packages (from werkzeug>=1.0.1->tensorboard<2.17,>=2.16->tensorflow-intel==2.16.1->tensorflow) (2.1.1)\n"
     ]
    }
   ],
   "source": [
    "#!pip install gensim --upgrade\n",
    "#!pip install keras --upgrade\n",
    "#!pip install pandas --upgrade\n",
    "#!pip install Keras-Preprocessing\n",
    "!pip install --upgrade keras tensorflow"
   ]
  },
  {
   "cell_type": "code",
   "execution_count": 39,
   "metadata": {},
   "outputs": [
    {
     "name": "stdout",
     "output_type": "stream",
     "text": [
      "Defaulting to user installation because normal site-packages is not writeable\n",
      "Collecting scikeras\n",
      "  Downloading scikeras-0.13.0-py3-none-any.whl (26 kB)\n",
      "Requirement already satisfied: keras>=3.2.0 in c:\\users\\kwfen\\appdata\\roaming\\python\\python310\\site-packages (from scikeras) (3.3.3)\n",
      "Collecting scikit-learn>=1.4.2\n",
      "  Downloading scikit_learn-1.5.0-cp310-cp310-win_amd64.whl (11.0 MB)\n",
      "     --------------------------------------- 11.0/11.0 MB 12.1 MB/s eta 0:00:00\n",
      "Requirement already satisfied: namex in c:\\users\\kwfen\\appdata\\roaming\\python\\python310\\site-packages (from keras>=3.2.0->scikeras) (0.0.8)\n",
      "Requirement already satisfied: rich in c:\\users\\kwfen\\appdata\\roaming\\python\\python310\\site-packages (from keras>=3.2.0->scikeras) (13.7.1)\n",
      "Requirement already satisfied: ml-dtypes in c:\\users\\kwfen\\appdata\\roaming\\python\\python310\\site-packages (from keras>=3.2.0->scikeras) (0.3.2)\n",
      "Requirement already satisfied: optree in c:\\users\\kwfen\\appdata\\roaming\\python\\python310\\site-packages (from keras>=3.2.0->scikeras) (0.11.0)\n",
      "Requirement already satisfied: h5py in c:\\users\\kwfen\\appdata\\roaming\\python\\python310\\site-packages (from keras>=3.2.0->scikeras) (3.11.0)\n",
      "Requirement already satisfied: numpy in c:\\programdata\\anaconda3\\lib\\site-packages (from keras>=3.2.0->scikeras) (1.23.5)\n",
      "Requirement already satisfied: absl-py in c:\\users\\kwfen\\appdata\\roaming\\python\\python310\\site-packages (from keras>=3.2.0->scikeras) (2.1.0)\n",
      "Collecting threadpoolctl>=3.1.0\n",
      "  Downloading threadpoolctl-3.5.0-py3-none-any.whl (18 kB)\n",
      "Requirement already satisfied: scipy>=1.6.0 in c:\\programdata\\anaconda3\\lib\\site-packages (from scikit-learn>=1.4.2->scikeras) (1.10.0)\n",
      "Collecting joblib>=1.2.0\n",
      "  Downloading joblib-1.4.2-py3-none-any.whl (301 kB)\n",
      "     ------------------------------------- 301.8/301.8 kB 18.2 MB/s eta 0:00:00\n",
      "Requirement already satisfied: typing-extensions>=4.0.0 in c:\\users\\kwfen\\appdata\\roaming\\python\\python310\\site-packages (from optree->keras>=3.2.0->scikeras) (4.12.1)\n",
      "Requirement already satisfied: pygments<3.0.0,>=2.13.0 in c:\\users\\kwfen\\appdata\\roaming\\python\\python310\\site-packages (from rich->keras>=3.2.0->scikeras) (2.18.0)\n",
      "Requirement already satisfied: markdown-it-py>=2.2.0 in c:\\users\\kwfen\\appdata\\roaming\\python\\python310\\site-packages (from rich->keras>=3.2.0->scikeras) (3.0.0)\n",
      "Requirement already satisfied: mdurl~=0.1 in c:\\users\\kwfen\\appdata\\roaming\\python\\python310\\site-packages (from markdown-it-py>=2.2.0->rich->keras>=3.2.0->scikeras) (0.1.2)\n",
      "Installing collected packages: threadpoolctl, joblib, scikit-learn, scikeras\n",
      "Successfully installed joblib-1.4.2 scikeras-0.13.0 scikit-learn-1.5.0 threadpoolctl-3.5.0\n"
     ]
    }
   ],
   "source": [
    "!pip install scikeras\n",
    "\n",
    "from scikeras.wrappers import KerasClassifier"
   ]
  },
  {
   "cell_type": "code",
   "execution_count": 1,
   "metadata": {},
   "outputs": [
    {
     "name": "stderr",
     "output_type": "stream",
     "text": [
      "C:\\Users\\kwfen\\AppData\\Roaming\\Python\\Python310\\site-packages\\pandas\\core\\arrays\\masked.py:60: UserWarning: Pandas requires version '1.3.6' or newer of 'bottleneck' (version '1.3.5' currently installed).\n",
      "  from pandas.core import (\n"
     ]
    },
    {
     "name": "stdout",
     "output_type": "stream",
     "text": [
      "2.16.1\n"
     ]
    }
   ],
   "source": [
    "import tensorflow as tf\n",
    "print(tf.__version__)"
   ]
  },
  {
   "cell_type": "code",
   "execution_count": 42,
   "metadata": {
    "_uuid": "303e72966af732ddef0bd8108a321095314e44af"
   },
   "outputs": [],
   "source": [
    "# DataFrame\n",
    "import pandas as pd\n",
    "\n",
    "# Matplot\n",
    "import matplotlib.pyplot as plt\n",
    "%matplotlib inline\n",
    "\n",
    "# Scikit-learn\n",
    "from sklearn.model_selection import train_test_split\n",
    "from sklearn.preprocessing import LabelEncoder\n",
    "from sklearn.metrics import confusion_matrix, classification_report, accuracy_score\n",
    "from sklearn.manifold import TSNE\n",
    "from sklearn.feature_extraction.text import TfidfVectorizer\n",
    "\n",
    "# Keras\n",
    "from tensorflow.keras.preprocessing.text import Tokenizer\n",
    "from keras.preprocessing.sequence import pad_sequences\n",
    "from keras.models import Sequential\n",
    "from keras.layers import Activation, Dense, Dropout, Embedding, Flatten, Conv1D, MaxPooling1D, LSTM\n",
    "from keras import utils\n",
    "from keras.callbacks import ReduceLROnPlateau, EarlyStopping\n",
    "\n",
    "# nltk\n",
    "import nltk\n",
    "from nltk.corpus import stopwords\n",
    "from  nltk.stem import SnowballStemmer\n",
    "\n",
    "# Word2vec\n",
    "import gensim\n",
    "\n",
    "# Utility\n",
    "import re\n",
    "import numpy as np\n",
    "import os\n",
    "from collections import Counter\n",
    "import logging\n",
    "import time\n",
    "import pickle\n",
    "import itertools\n",
    "\n",
    "from sklearn.model_selection import GridSearchCV\n",
    "#from keras.wrappers.scikit_learn import KerasClassifier\n",
    "from scikeras.wrappers import KerasClassifier\n",
    "\n",
    "from keras.models import Sequential\n",
    "from keras.layers import Dense, Dropout, LSTM\n",
    "from keras.callbacks import ReduceLROnPlateau, EarlyStopping\n",
    "from sklearn.model_selection import GridSearchCV\n",
    "from keras.optimizers import Adam\n",
    "from keras.regularizers import l2\n",
    "\n",
    "# Set log\n",
    "logging.basicConfig(format='%(asctime)s : %(levelname)s : %(message)s', level=logging.INFO)"
   ]
  },
  {
   "cell_type": "code",
   "execution_count": 3,
   "metadata": {
    "_uuid": "35e1a89dead5fd160e4c9a024a21d2e569fc89ff"
   },
   "outputs": [
    {
     "name": "stderr",
     "output_type": "stream",
     "text": [
      "[nltk_data] Downloading package stopwords to\n",
      "[nltk_data]     C:\\Users\\kwfen\\AppData\\Roaming\\nltk_data...\n",
      "[nltk_data]   Package stopwords is already up-to-date!\n"
     ]
    },
    {
     "data": {
      "text/plain": [
       "True"
      ]
     },
     "execution_count": 3,
     "metadata": {},
     "output_type": "execute_result"
    }
   ],
   "source": [
    "nltk.download('stopwords')"
   ]
  },
  {
   "cell_type": "markdown",
   "metadata": {
    "_uuid": "e8b01a07df001e4abcc745900336c4db06e455f3"
   },
   "source": [
    "### Settings"
   ]
  },
  {
   "cell_type": "code",
   "execution_count": 4,
   "metadata": {
    "_uuid": "180f0dd2a95419e4602b5c0229822b0111c826f6"
   },
   "outputs": [],
   "source": [
    "# DATASET\n",
    "DATASET_COLUMNS = [\"target\", \"ids\", \"date\", \"flag\", \"user\", \"text\"]\n",
    "DATASET_ENCODING = \"ISO-8859-1\"\n",
    "TRAIN_SIZE = 0.8\n",
    "\n",
    "# TEXT CLENAING\n",
    "TEXT_CLEANING_RE = \"@\\S+|https?:\\S+|http?:\\S|[^A-Za-z0-9]+\"\n",
    "\n",
    "# WORD2VEC \n",
    "W2V_SIZE = 300\n",
    "W2V_WINDOW = 7\n",
    "W2V_EPOCH = 32\n",
    "W2V_MIN_COUNT = 10\n",
    "\n",
    "# KERAS\n",
    "SEQUENCE_LENGTH = 300\n",
    "EPOCHS = 8\n",
    "BATCH_SIZE = 1024\n",
    "\n",
    "# SENTIMENT\n",
    "POSITIVE = \"POSITIVE\"\n",
    "NEGATIVE = \"NEGATIVE\"\n",
    "NEUTRAL = \"NEUTRAL\"\n",
    "SENTIMENT_THRESHOLDS = (0.4, 0.7)\n",
    "\n",
    "# EXPORT\n",
    "KERAS_MODEL = \"model.h5\"\n",
    "WORD2VEC_MODEL = \"model.w2v\"\n",
    "TOKENIZER_MODEL = \"tokenizer.pkl\"\n",
    "ENCODER_MODEL = \"encoder.pkl\""
   ]
  },
  {
   "cell_type": "markdown",
   "metadata": {
    "_uuid": "1c3beecc618be68480b3d4f0de08d9d863da1dc1"
   },
   "source": [
    "### Read Dataset"
   ]
  },
  {
   "cell_type": "markdown",
   "metadata": {
    "_uuid": "563b3c44f1092dba0b853747b098e00509098cca"
   },
   "source": [
    "### Dataset details\n",
    "* **target**: the polarity of the tweet (0 = negative, 2 = neutral, 4 = positive)\n",
    "* **ids**: The id of the tweet ( 2087)\n",
    "* **date**: the date of the tweet (Sat May 16 23:58:44 UTC 2009)\n",
    "* **flag**: The query (lyx). If there is no query, then this value is NO_QUERY.\n",
    "* **user**: the user that tweeted (robotickilldozr)\n",
    "* **text**: the text of the tweet (Lyx is cool)"
   ]
  },
  {
   "cell_type": "code",
   "execution_count": 7,
   "metadata": {
    "_uuid": "bba8f91cd70de4f5ea0fb0870ae2029b6e3dcc24"
   },
   "outputs": [],
   "source": [
    "file_path = '../../archive/training.1600000.processed.noemoticon.csv'\n",
    "df = pd.read_csv(file_path, encoding =DATASET_ENCODING , names=DATASET_COLUMNS)"
   ]
  },
  {
   "cell_type": "code",
   "execution_count": 8,
   "metadata": {
    "_uuid": "936d499c00c4f1648bc16ca9d283c3b39be7fb10"
   },
   "outputs": [
    {
     "data": {
      "text/plain": [
       "(1600000, 6)"
      ]
     },
     "execution_count": 8,
     "metadata": {},
     "output_type": "execute_result"
    }
   ],
   "source": [
    "df.shape"
   ]
  },
  {
   "cell_type": "code",
   "execution_count": 9,
   "metadata": {
    "_uuid": "7486ed895b813c5246f97b31b6162b0f65ff763b"
   },
   "outputs": [
    {
     "data": {
      "text/html": [
       "<div>\n",
       "<style scoped>\n",
       "    .dataframe tbody tr th:only-of-type {\n",
       "        vertical-align: middle;\n",
       "    }\n",
       "\n",
       "    .dataframe tbody tr th {\n",
       "        vertical-align: top;\n",
       "    }\n",
       "\n",
       "    .dataframe thead th {\n",
       "        text-align: right;\n",
       "    }\n",
       "</style>\n",
       "<table border=\"1\" class=\"dataframe\">\n",
       "  <thead>\n",
       "    <tr style=\"text-align: right;\">\n",
       "      <th></th>\n",
       "      <th>target</th>\n",
       "      <th>ids</th>\n",
       "      <th>date</th>\n",
       "      <th>flag</th>\n",
       "      <th>user</th>\n",
       "      <th>text</th>\n",
       "    </tr>\n",
       "  </thead>\n",
       "  <tbody>\n",
       "    <tr>\n",
       "      <th>0</th>\n",
       "      <td>0</td>\n",
       "      <td>1467810369</td>\n",
       "      <td>Mon Apr 06 22:19:45 PDT 2009</td>\n",
       "      <td>NO_QUERY</td>\n",
       "      <td>_TheSpecialOne_</td>\n",
       "      <td>@switchfoot http://twitpic.com/2y1zl - Awww, t...</td>\n",
       "    </tr>\n",
       "    <tr>\n",
       "      <th>1</th>\n",
       "      <td>0</td>\n",
       "      <td>1467810672</td>\n",
       "      <td>Mon Apr 06 22:19:49 PDT 2009</td>\n",
       "      <td>NO_QUERY</td>\n",
       "      <td>scotthamilton</td>\n",
       "      <td>is upset that he can't update his Facebook by ...</td>\n",
       "    </tr>\n",
       "    <tr>\n",
       "      <th>2</th>\n",
       "      <td>0</td>\n",
       "      <td>1467810917</td>\n",
       "      <td>Mon Apr 06 22:19:53 PDT 2009</td>\n",
       "      <td>NO_QUERY</td>\n",
       "      <td>mattycus</td>\n",
       "      <td>@Kenichan I dived many times for the ball. Man...</td>\n",
       "    </tr>\n",
       "    <tr>\n",
       "      <th>3</th>\n",
       "      <td>0</td>\n",
       "      <td>1467811184</td>\n",
       "      <td>Mon Apr 06 22:19:57 PDT 2009</td>\n",
       "      <td>NO_QUERY</td>\n",
       "      <td>ElleCTF</td>\n",
       "      <td>my whole body feels itchy and like its on fire</td>\n",
       "    </tr>\n",
       "    <tr>\n",
       "      <th>4</th>\n",
       "      <td>0</td>\n",
       "      <td>1467811193</td>\n",
       "      <td>Mon Apr 06 22:19:57 PDT 2009</td>\n",
       "      <td>NO_QUERY</td>\n",
       "      <td>Karoli</td>\n",
       "      <td>@nationwideclass no, it's not behaving at all....</td>\n",
       "    </tr>\n",
       "  </tbody>\n",
       "</table>\n",
       "</div>"
      ],
      "text/plain": [
       "   target         ids                          date      flag  \\\n",
       "0       0  1467810369  Mon Apr 06 22:19:45 PDT 2009  NO_QUERY   \n",
       "1       0  1467810672  Mon Apr 06 22:19:49 PDT 2009  NO_QUERY   \n",
       "2       0  1467810917  Mon Apr 06 22:19:53 PDT 2009  NO_QUERY   \n",
       "3       0  1467811184  Mon Apr 06 22:19:57 PDT 2009  NO_QUERY   \n",
       "4       0  1467811193  Mon Apr 06 22:19:57 PDT 2009  NO_QUERY   \n",
       "\n",
       "              user                                               text  \n",
       "0  _TheSpecialOne_  @switchfoot http://twitpic.com/2y1zl - Awww, t...  \n",
       "1    scotthamilton  is upset that he can't update his Facebook by ...  \n",
       "2         mattycus  @Kenichan I dived many times for the ball. Man...  \n",
       "3          ElleCTF    my whole body feels itchy and like its on fire   \n",
       "4           Karoli  @nationwideclass no, it's not behaving at all....  "
      ]
     },
     "execution_count": 9,
     "metadata": {},
     "output_type": "execute_result"
    }
   ],
   "source": [
    "df.head(5)"
   ]
  },
  {
   "cell_type": "markdown",
   "metadata": {
    "_uuid": "3f9a7bb129e184967b13261fb5d253af451c75c5"
   },
   "source": [
    "### Map target label to String\n",
    "* **0** -> **NEGATIVE**\n",
    "* **2** -> **NEUTRAL**\n",
    "* **4** -> **POSITIVE**"
   ]
  },
  {
   "cell_type": "code",
   "execution_count": 10,
   "metadata": {
    "_uuid": "14074b59106cb9550440839e48b832223fc9502f"
   },
   "outputs": [],
   "source": [
    "decode_map = {0: \"NEGATIVE\", 2: \"NEUTRAL\", 4: \"POSITIVE\"}\n",
    "def decode_sentiment(label):\n",
    "    return decode_map[int(label)]"
   ]
  },
  {
   "cell_type": "code",
   "execution_count": 11,
   "metadata": {
    "_uuid": "4449d473187f647a195a6ac6986b009da32a7f4b"
   },
   "outputs": [
    {
     "name": "stdout",
     "output_type": "stream",
     "text": [
      "CPU times: total: 46.9 ms\n",
      "Wall time: 273 ms\n"
     ]
    }
   ],
   "source": [
    "%%time\n",
    "df.target = df.target.apply(lambda x: decode_sentiment(x))"
   ]
  },
  {
   "cell_type": "code",
   "execution_count": 12,
   "metadata": {
    "_uuid": "19eb327803192f31cce3512aacb232f4d6b38715"
   },
   "outputs": [
    {
     "data": {
      "text/plain": [
       "Text(0.5, 1.0, 'Dataset labels distribuition')"
      ]
     },
     "execution_count": 12,
     "metadata": {},
     "output_type": "execute_result"
    },
    {
     "data": {
      "image/png": "[encoded data removed]",
      "text/plain": [
       "<Figure size 1600x800 with 1 Axes>"
      ]
     },
     "metadata": {},
     "output_type": "display_data"
    }
   ],
   "source": [
    "target_cnt = Counter(df.target)\n",
    "\n",
    "plt.figure(figsize=(16,8))\n",
    "plt.bar(target_cnt.keys(), target_cnt.values())\n",
    "plt.title(\"Dataset labels distribuition\")"
   ]
  },
  {
   "cell_type": "markdown",
   "metadata": {
    "_uuid": "4329b1573518b03e497213efa7676220734ebb4b"
   },
   "source": [
    "### Pre-Process dataset"
   ]
  },
  {
   "cell_type": "code",
   "execution_count": 13,
   "metadata": {
    "_uuid": "8aeee8b7b9ea11b749c7f91cd4787a7b50ed1a91"
   },
   "outputs": [],
   "source": [
    "stop_words = stopwords.words(\"english\")\n",
    "stemmer = SnowballStemmer(\"english\")"
   ]
  },
  {
   "cell_type": "code",
   "execution_count": 14,
   "metadata": {
    "_uuid": "649ebcb97969b9ac4301138783704bb3d7846a49"
   },
   "outputs": [],
   "source": [
    "def preprocess(text, stem=False):\n",
    "    # Remove link,user and special characters\n",
    "    text = re.sub(TEXT_CLEANING_RE, ' ', str(text).lower()).strip()\n",
    "    tokens = []\n",
    "    for token in text.split():\n",
    "        if token not in stop_words:\n",
    "            if stem:\n",
    "                tokens.append(stemmer.stem(token))\n",
    "            else:\n",
    "                tokens.append(token)\n",
    "    return \" \".join(tokens)"
   ]
  },
  {
   "cell_type": "code",
   "execution_count": 15,
   "metadata": {
    "_uuid": "f7f3e77ab9291d14687c49e71ba9b2b1e3323432"
   },
   "outputs": [
    {
     "name": "stdout",
     "output_type": "stream",
     "text": [
      "CPU times: total: 5.12 s\n",
      "Wall time: 30.5 s\n"
     ]
    }
   ],
   "source": [
    "%%time\n",
    "df.text = df.text.apply(lambda x: preprocess(x))"
   ]
  },
  {
   "cell_type": "markdown",
   "metadata": {
    "_uuid": "f5f9714a8507409bbe780eebf2855a33e8e6ba37"
   },
   "source": [
    "### Split train and test"
   ]
  },
  {
   "cell_type": "code",
   "execution_count": 16,
   "metadata": {
    "_uuid": "d2b1179c968e3f3910c790ecf0c5b2cbb34b0e68"
   },
   "outputs": [
    {
     "name": "stdout",
     "output_type": "stream",
     "text": [
      "TRAIN size: 1280000\n",
      "TEST size: 320000\n"
     ]
    }
   ],
   "source": [
    "df_train, df_test = train_test_split(df, test_size=1-TRAIN_SIZE, random_state=42)\n",
    "print(\"TRAIN size:\", len(df_train))\n",
    "print(\"TEST size:\", len(df_test))"
   ]
  },
  {
   "cell_type": "markdown",
   "metadata": {
    "_uuid": "f08a28aab2c3d16d8b9681a7d5d07587153a1cd6"
   },
   "source": [
    "### Word2Vec "
   ]
  },
  {
   "cell_type": "code",
   "execution_count": 17,
   "metadata": {
    "_uuid": "2461bf564de1b4414841933d0c1d1bee5f5cc5a6"
   },
   "outputs": [
    {
     "name": "stdout",
     "output_type": "stream",
     "text": [
      "CPU times: total: 1.05 s\n",
      "Wall time: 3.45 s\n"
     ]
    }
   ],
   "source": [
    "%%time\n",
    "documents = [_text.split() for _text in df_train.text] "
   ]
  },
  {
   "cell_type": "code",
   "execution_count": 18,
   "metadata": {
    "_uuid": "8e19b9f25801ba86420decc266d2b3e6fb44f1ea"
   },
   "outputs": [
    {
     "name": "stderr",
     "output_type": "stream",
     "text": [
      "2024-06-14 00:07:41,449 : INFO : Word2Vec lifecycle event {'params': 'Word2Vec<vocab=0, vector_size=100, alpha=0.025>', 'datetime': '2024-06-14T00:07:41.449585', 'gensim': '4.3.2', 'python': '3.10.9 | packaged by Anaconda, Inc. | (main, Mar  1 2023, 18:18:15) [MSC v.1916 64 bit (AMD64)]', 'platform': 'Windows-10-10.0.22631-SP0', 'event': 'created'}\n"
     ]
    }
   ],
   "source": [
    "W2V_SIZE = 100\n",
    "W2V_WINDOW = 5\n",
    "W2V_MIN_COUNT = 1\n",
    "W2V_WORKERS = 8\n",
    "w2v_model = gensim.models.Word2Vec(vector_size=W2V_SIZE, \n",
    "                                   window=W2V_WINDOW, \n",
    "                                   min_count=W2V_MIN_COUNT, \n",
    "                                   workers=W2V_WORKERS)"
   ]
  },
  {
   "cell_type": "code",
   "execution_count": 19,
   "metadata": {
    "_uuid": "58d655af07653c594bec6bebcfb302a973b0ad9c"
   },
   "outputs": [
    {
     "name": "stderr",
     "output_type": "stream",
     "text": [
      "2024-06-14 00:07:41,464 : INFO : collecting all words and their counts\n",
      "2024-06-14 00:07:41,464 : INFO : PROGRESS: at sentence #0, processed 0 words, keeping 0 word types\n",
      "2024-06-14 00:07:41,474 : INFO : PROGRESS: at sentence #10000, processed 72565 words, keeping 14005 word types\n",
      "2024-06-14 00:07:41,487 : INFO : PROGRESS: at sentence #20000, processed 144393 words, keeping 21587 word types\n",
      "2024-06-14 00:07:41,500 : INFO : PROGRESS: at sentence #30000, processed 215826 words, keeping 27541 word types\n",
      "2024-06-14 00:07:41,511 : INFO : PROGRESS: at sentence #40000, processed 288271 words, keeping 32764 word types\n",
      "2024-06-14 00:07:41,522 : INFO : PROGRESS: at sentence #50000, processed 359772 words, keeping 37587 word types\n",
      "2024-06-14 00:07:41,532 : INFO : PROGRESS: at sentence #60000, processed 431431 words, keeping 42198 word types\n",
      "2024-06-14 00:07:41,544 : INFO : PROGRESS: at sentence #70000, processed 503103 words, keeping 46458 word types\n",
      "2024-06-14 00:07:41,554 : INFO : PROGRESS: at sentence #80000, processed 575709 words, keeping 50476 word types\n",
      "2024-06-14 00:07:41,565 : INFO : PROGRESS: at sentence #90000, processed 647100 words, keeping 54140 word types\n",
      "2024-06-14 00:07:41,577 : INFO : PROGRESS: at sentence #100000, processed 718681 words, keeping 57777 word types\n",
      "2024-06-14 00:07:41,588 : INFO : PROGRESS: at sentence #110000, processed 790696 words, keeping 61207 word types\n",
      "2024-06-14 00:07:41,601 : INFO : PROGRESS: at sentence #120000, processed 863134 words, keeping 64583 word types\n",
      "2024-06-14 00:07:41,612 : INFO : PROGRESS: at sentence #130000, processed 935111 words, keeping 67865 word types\n",
      "2024-06-14 00:07:41,624 : INFO : PROGRESS: at sentence #140000, processed 1006668 words, keeping 70966 word types\n",
      "2024-06-14 00:07:41,635 : INFO : PROGRESS: at sentence #150000, processed 1078512 words, keeping 74119 word types\n",
      "2024-06-14 00:07:41,646 : INFO : PROGRESS: at sentence #160000, processed 1149914 words, keeping 77187 word types\n",
      "2024-06-14 00:07:41,657 : INFO : PROGRESS: at sentence #170000, processed 1222145 words, keeping 80267 word types\n",
      "2024-06-14 00:07:41,670 : INFO : PROGRESS: at sentence #180000, processed 1294708 words, keeping 83393 word types\n",
      "2024-06-14 00:07:41,681 : INFO : PROGRESS: at sentence #190000, processed 1367608 words, keeping 86329 word types\n",
      "2024-06-14 00:07:41,695 : INFO : PROGRESS: at sentence #200000, processed 1439469 words, keeping 89103 word types\n",
      "2024-06-14 00:07:41,707 : INFO : PROGRESS: at sentence #210000, processed 1512099 words, keeping 91840 word types\n",
      "2024-06-14 00:07:41,718 : INFO : PROGRESS: at sentence #220000, processed 1584149 words, keeping 94636 word types\n",
      "2024-06-14 00:07:41,728 : INFO : PROGRESS: at sentence #230000, processed 1656354 words, keeping 97353 word types\n",
      "2024-06-14 00:07:41,740 : INFO : PROGRESS: at sentence #240000, processed 1728573 words, keeping 99975 word types\n",
      "2024-06-14 00:07:41,750 : INFO : PROGRESS: at sentence #250000, processed 1801102 words, keeping 102594 word types\n",
      "2024-06-14 00:07:41,762 : INFO : PROGRESS: at sentence #260000, processed 1873103 words, keeping 105162 word types\n",
      "2024-06-14 00:07:41,772 : INFO : PROGRESS: at sentence #270000, processed 1945245 words, keeping 107626 word types\n",
      "2024-06-14 00:07:41,783 : INFO : PROGRESS: at sentence #280000, processed 2017163 words, keeping 110141 word types\n",
      "2024-06-14 00:07:41,793 : INFO : PROGRESS: at sentence #290000, processed 2089574 words, keeping 112539 word types\n",
      "2024-06-14 00:07:41,804 : INFO : PROGRESS: at sentence #300000, processed 2160996 words, keeping 114893 word types\n",
      "2024-06-14 00:07:41,815 : INFO : PROGRESS: at sentence #310000, processed 2232913 words, keeping 117298 word types\n",
      "2024-06-14 00:07:41,826 : INFO : PROGRESS: at sentence #320000, processed 2305039 words, keeping 119693 word types\n",
      "2024-06-14 00:07:41,839 : INFO : PROGRESS: at sentence #330000, processed 2377119 words, keeping 122131 word types\n",
      "2024-06-14 00:07:41,850 : INFO : PROGRESS: at sentence #340000, processed 2449370 words, keeping 124416 word types\n",
      "2024-06-14 00:07:41,861 : INFO : PROGRESS: at sentence #350000, processed 2521564 words, keeping 126669 word types\n",
      "2024-06-14 00:07:41,871 : INFO : PROGRESS: at sentence #360000, processed 2593681 words, keeping 128912 word types\n",
      "2024-06-14 00:07:41,886 : INFO : PROGRESS: at sentence #370000, processed 2665692 words, keeping 131135 word types\n",
      "2024-06-14 00:07:41,898 : INFO : PROGRESS: at sentence #380000, processed 2737859 words, keeping 133403 word types\n",
      "2024-06-14 00:07:41,909 : INFO : PROGRESS: at sentence #390000, processed 2809848 words, keeping 135551 word types\n",
      "2024-06-14 00:07:41,921 : INFO : PROGRESS: at sentence #400000, processed 2882438 words, keeping 137742 word types\n",
      "2024-06-14 00:07:41,933 : INFO : PROGRESS: at sentence #410000, processed 2954075 words, keeping 139909 word types\n",
      "2024-06-14 00:07:41,943 : INFO : PROGRESS: at sentence #420000, processed 3026247 words, keeping 142144 word types\n",
      "2024-06-14 00:07:41,955 : INFO : PROGRESS: at sentence #430000, processed 3098659 words, keeping 144364 word types\n",
      "2024-06-14 00:07:41,967 : INFO : PROGRESS: at sentence #440000, processed 3170663 words, keeping 146439 word types\n",
      "2024-06-14 00:07:41,978 : INFO : PROGRESS: at sentence #450000, processed 3243344 words, keeping 148526 word types\n",
      "2024-06-14 00:07:41,990 : INFO : PROGRESS: at sentence #460000, processed 3315466 words, keeping 150610 word types\n",
      "2024-06-14 00:07:42,000 : INFO : PROGRESS: at sentence #470000, processed 3388295 words, keeping 152737 word types\n",
      "2024-06-14 00:07:42,011 : INFO : PROGRESS: at sentence #480000, processed 3460120 words, keeping 154757 word types\n",
      "2024-06-14 00:07:42,025 : INFO : PROGRESS: at sentence #490000, processed 3531883 words, keeping 156825 word types\n",
      "2024-06-14 00:07:42,037 : INFO : PROGRESS: at sentence #500000, processed 3604217 words, keeping 158859 word types\n",
      "2024-06-14 00:07:42,048 : INFO : PROGRESS: at sentence #510000, processed 3676427 words, keeping 160852 word types\n",
      "2024-06-14 00:07:42,061 : INFO : PROGRESS: at sentence #520000, processed 3749045 words, keeping 162863 word types\n",
      "2024-06-14 00:07:42,073 : INFO : PROGRESS: at sentence #530000, processed 3821622 words, keeping 164929 word types\n",
      "2024-06-14 00:07:42,084 : INFO : PROGRESS: at sentence #540000, processed 3893627 words, keeping 166840 word types\n",
      "2024-06-14 00:07:42,096 : INFO : PROGRESS: at sentence #550000, processed 3965477 words, keeping 168799 word types\n",
      "2024-06-14 00:07:42,109 : INFO : PROGRESS: at sentence #560000, processed 4038050 words, keeping 170802 word types\n",
      "2024-06-14 00:07:42,119 : INFO : PROGRESS: at sentence #570000, processed 4110296 words, keeping 172760 word types\n",
      "2024-06-14 00:07:42,131 : INFO : PROGRESS: at sentence #580000, processed 4182385 words, keeping 174635 word types\n",
      "2024-06-14 00:07:42,150 : INFO : PROGRESS: at sentence #590000, processed 4254632 words, keeping 176470 word types\n",
      "2024-06-14 00:07:42,161 : INFO : PROGRESS: at sentence #600000, processed 4326859 words, keeping 178350 word types\n",
      "2024-06-14 00:07:42,173 : INFO : PROGRESS: at sentence #610000, processed 4399183 words, keeping 180290 word types\n",
      "2024-06-14 00:07:42,183 : INFO : PROGRESS: at sentence #620000, processed 4471343 words, keeping 182129 word types\n",
      "2024-06-14 00:07:42,196 : INFO : PROGRESS: at sentence #630000, processed 4543286 words, keeping 184005 word types\n",
      "2024-06-14 00:07:42,208 : INFO : PROGRESS: at sentence #640000, processed 4615780 words, keeping 185835 word types\n",
      "2024-06-14 00:07:42,220 : INFO : PROGRESS: at sentence #650000, processed 4688481 words, keeping 187705 word types\n",
      "2024-06-14 00:07:42,233 : INFO : PROGRESS: at sentence #660000, processed 4760481 words, keeping 189439 word types\n",
      "2024-06-14 00:07:42,244 : INFO : PROGRESS: at sentence #670000, processed 4833024 words, keeping 191232 word types\n",
      "2024-06-14 00:07:42,256 : INFO : PROGRESS: at sentence #680000, processed 4904516 words, keeping 193177 word types\n",
      "2024-06-14 00:07:42,267 : INFO : PROGRESS: at sentence #690000, processed 4976968 words, keeping 194960 word types\n",
      "2024-06-14 00:07:42,279 : INFO : PROGRESS: at sentence #700000, processed 5049412 words, keeping 196725 word types\n",
      "2024-06-14 00:07:42,291 : INFO : PROGRESS: at sentence #710000, processed 5121976 words, keeping 198516 word types\n"
     ]
    },
    {
     "name": "stderr",
     "output_type": "stream",
     "text": [
      "2024-06-14 00:07:42,302 : INFO : PROGRESS: at sentence #720000, processed 5193881 words, keeping 200325 word types\n",
      "2024-06-14 00:07:42,313 : INFO : PROGRESS: at sentence #730000, processed 5265467 words, keeping 202133 word types\n",
      "2024-06-14 00:07:42,325 : INFO : PROGRESS: at sentence #740000, processed 5337518 words, keeping 203818 word types\n",
      "2024-06-14 00:07:42,338 : INFO : PROGRESS: at sentence #750000, processed 5409321 words, keeping 205535 word types\n",
      "2024-06-14 00:07:42,349 : INFO : PROGRESS: at sentence #760000, processed 5481512 words, keeping 207282 word types\n",
      "2024-06-14 00:07:42,360 : INFO : PROGRESS: at sentence #770000, processed 5554093 words, keeping 209076 word types\n",
      "2024-06-14 00:07:42,372 : INFO : PROGRESS: at sentence #780000, processed 5625382 words, keeping 210805 word types\n",
      "2024-06-14 00:07:42,385 : INFO : PROGRESS: at sentence #790000, processed 5698066 words, keeping 212618 word types\n",
      "2024-06-14 00:07:42,396 : INFO : PROGRESS: at sentence #800000, processed 5770880 words, keeping 214374 word types\n",
      "2024-06-14 00:07:42,407 : INFO : PROGRESS: at sentence #810000, processed 5843418 words, keeping 216009 word types\n",
      "2024-06-14 00:07:42,418 : INFO : PROGRESS: at sentence #820000, processed 5915628 words, keeping 217804 word types\n",
      "2024-06-14 00:07:42,430 : INFO : PROGRESS: at sentence #830000, processed 5987499 words, keeping 219585 word types\n",
      "2024-06-14 00:07:42,442 : INFO : PROGRESS: at sentence #840000, processed 6058973 words, keeping 221344 word types\n",
      "2024-06-14 00:07:42,454 : INFO : PROGRESS: at sentence #850000, processed 6131125 words, keeping 223002 word types\n",
      "2024-06-14 00:07:42,464 : INFO : PROGRESS: at sentence #860000, processed 6202951 words, keeping 224643 word types\n",
      "2024-06-14 00:07:42,477 : INFO : PROGRESS: at sentence #870000, processed 6275461 words, keeping 226362 word types\n",
      "2024-06-14 00:07:42,489 : INFO : PROGRESS: at sentence #880000, processed 6347661 words, keeping 227986 word types\n",
      "2024-06-14 00:07:42,504 : INFO : PROGRESS: at sentence #890000, processed 6419806 words, keeping 229634 word types\n",
      "2024-06-14 00:07:42,516 : INFO : PROGRESS: at sentence #900000, processed 6491644 words, keeping 231389 word types\n",
      "2024-06-14 00:07:42,533 : INFO : PROGRESS: at sentence #910000, processed 6564022 words, keeping 233050 word types\n",
      "2024-06-14 00:07:42,545 : INFO : PROGRESS: at sentence #920000, processed 6636228 words, keeping 234686 word types\n",
      "2024-06-14 00:07:42,555 : INFO : PROGRESS: at sentence #930000, processed 6708573 words, keeping 236393 word types\n",
      "2024-06-14 00:07:42,568 : INFO : PROGRESS: at sentence #940000, processed 6779956 words, keeping 238052 word types\n",
      "2024-06-14 00:07:42,580 : INFO : PROGRESS: at sentence #950000, processed 6852599 words, keeping 239716 word types\n",
      "2024-06-14 00:07:42,597 : INFO : PROGRESS: at sentence #960000, processed 6924717 words, keeping 241354 word types\n",
      "2024-06-14 00:07:42,608 : INFO : PROGRESS: at sentence #970000, processed 6996992 words, keeping 242980 word types\n",
      "2024-06-14 00:07:42,619 : INFO : PROGRESS: at sentence #980000, processed 7068402 words, keeping 244646 word types\n",
      "2024-06-14 00:07:42,630 : INFO : PROGRESS: at sentence #990000, processed 7140346 words, keeping 246186 word types\n",
      "2024-06-14 00:07:42,641 : INFO : PROGRESS: at sentence #1000000, processed 7211757 words, keeping 247726 word types\n",
      "2024-06-14 00:07:42,652 : INFO : PROGRESS: at sentence #1010000, processed 7283267 words, keeping 249288 word types\n",
      "2024-06-14 00:07:42,664 : INFO : PROGRESS: at sentence #1020000, processed 7355299 words, keeping 250860 word types\n",
      "2024-06-14 00:07:42,676 : INFO : PROGRESS: at sentence #1030000, processed 7426918 words, keeping 252366 word types\n",
      "2024-06-14 00:07:42,689 : INFO : PROGRESS: at sentence #1040000, processed 7498815 words, keeping 253930 word types\n",
      "2024-06-14 00:07:42,702 : INFO : PROGRESS: at sentence #1050000, processed 7570499 words, keeping 255471 word types\n",
      "2024-06-14 00:07:42,713 : INFO : PROGRESS: at sentence #1060000, processed 7643251 words, keeping 257035 word types\n",
      "2024-06-14 00:07:42,726 : INFO : PROGRESS: at sentence #1070000, processed 7714721 words, keeping 258509 word types\n",
      "2024-06-14 00:07:42,737 : INFO : PROGRESS: at sentence #1080000, processed 7787371 words, keeping 260071 word types\n",
      "2024-06-14 00:07:42,749 : INFO : PROGRESS: at sentence #1090000, processed 7859336 words, keeping 261683 word types\n",
      "2024-06-14 00:07:42,760 : INFO : PROGRESS: at sentence #1100000, processed 7932029 words, keeping 263278 word types\n",
      "2024-06-14 00:07:42,770 : INFO : PROGRESS: at sentence #1110000, processed 8004146 words, keeping 264800 word types\n",
      "2024-06-14 00:07:42,783 : INFO : PROGRESS: at sentence #1120000, processed 8075880 words, keeping 266309 word types\n",
      "2024-06-14 00:07:42,793 : INFO : PROGRESS: at sentence #1130000, processed 8148163 words, keeping 267826 word types\n",
      "2024-06-14 00:07:42,805 : INFO : PROGRESS: at sentence #1140000, processed 8220487 words, keeping 269391 word types\n",
      "2024-06-14 00:07:42,819 : INFO : PROGRESS: at sentence #1150000, processed 8292498 words, keeping 270894 word types\n",
      "2024-06-14 00:07:42,830 : INFO : PROGRESS: at sentence #1160000, processed 8363838 words, keeping 272400 word types\n",
      "2024-06-14 00:07:42,841 : INFO : PROGRESS: at sentence #1170000, processed 8435510 words, keeping 273970 word types\n",
      "2024-06-14 00:07:42,851 : INFO : PROGRESS: at sentence #1180000, processed 8507795 words, keeping 275521 word types\n",
      "2024-06-14 00:07:42,862 : INFO : PROGRESS: at sentence #1190000, processed 8579080 words, keeping 277007 word types\n",
      "2024-06-14 00:07:42,872 : INFO : PROGRESS: at sentence #1200000, processed 8650606 words, keeping 278457 word types\n",
      "2024-06-14 00:07:42,882 : INFO : PROGRESS: at sentence #1210000, processed 8721893 words, keeping 279959 word types\n",
      "2024-06-14 00:07:42,894 : INFO : PROGRESS: at sentence #1220000, processed 8793795 words, keeping 281427 word types\n",
      "2024-06-14 00:07:42,904 : INFO : PROGRESS: at sentence #1230000, processed 8865726 words, keeping 282981 word types\n",
      "2024-06-14 00:07:42,916 : INFO : PROGRESS: at sentence #1240000, processed 8938173 words, keeping 284542 word types\n",
      "2024-06-14 00:07:42,927 : INFO : PROGRESS: at sentence #1250000, processed 9010842 words, keeping 286064 word types\n",
      "2024-06-14 00:07:42,939 : INFO : PROGRESS: at sentence #1260000, processed 9083261 words, keeping 287521 word types\n",
      "2024-06-14 00:07:42,951 : INFO : PROGRESS: at sentence #1270000, processed 9155616 words, keeping 288987 word types\n",
      "2024-06-14 00:07:42,964 : INFO : collected 290418 word types from a corpus of 9227204 raw words and 1280000 sentences\n",
      "2024-06-14 00:07:42,964 : INFO : Creating a fresh vocabulary\n",
      "2024-06-14 00:07:43,593 : INFO : Word2Vec lifecycle event {'msg': 'effective_min_count=1 retains 290418 unique words (100.00% of original 290418, drops 0)', 'datetime': '2024-06-14T00:07:43.593329', 'gensim': '4.3.2', 'python': '3.10.9 | packaged by Anaconda, Inc. | (main, Mar  1 2023, 18:18:15) [MSC v.1916 64 bit (AMD64)]', 'platform': 'Windows-10-10.0.22631-SP0', 'event': 'prepare_vocab'}\n",
      "2024-06-14 00:07:43,594 : INFO : Word2Vec lifecycle event {'msg': 'effective_min_count=1 leaves 9227204 word corpus (100.00% of original 9227204, drops 0)', 'datetime': '2024-06-14T00:07:43.594330', 'gensim': '4.3.2', 'python': '3.10.9 | packaged by Anaconda, Inc. | (main, Mar  1 2023, 18:18:15) [MSC v.1916 64 bit (AMD64)]', 'platform': 'Windows-10-10.0.22631-SP0', 'event': 'prepare_vocab'}\n",
      "2024-06-14 00:07:44,467 : INFO : deleting the raw counts dictionary of 290418 items\n",
      "2024-06-14 00:07:44,471 : INFO : sample=0.001 downsamples 42 most-common words\n",
      "2024-06-14 00:07:44,472 : INFO : Word2Vec lifecycle event {'msg': 'downsampling leaves estimated 8708796.701248538 word corpus (94.4%% of prior 9227204)', 'datetime': '2024-06-14T00:07:44.472168', 'gensim': '4.3.2', 'python': '3.10.9 | packaged by Anaconda, Inc. | (main, Mar  1 2023, 18:18:15) [MSC v.1916 64 bit (AMD64)]', 'platform': 'Windows-10-10.0.22631-SP0', 'event': 'prepare_vocab'}\n",
      "2024-06-14 00:07:45,666 : INFO : estimated required memory for 290418 words and 100 dimensions: 377543400 bytes\n",
      "2024-06-14 00:07:45,667 : INFO : resetting layer weights\n",
      "2024-06-14 00:07:45,752 : INFO : Word2Vec lifecycle event {'update': False, 'trim_rule': 'None', 'datetime': '2024-06-14T00:07:45.752379', 'gensim': '4.3.2', 'python': '3.10.9 | packaged by Anaconda, Inc. | (main, Mar  1 2023, 18:18:15) [MSC v.1916 64 bit (AMD64)]', 'platform': 'Windows-10-10.0.22631-SP0', 'event': 'build_vocab'}\n"
     ]
    }
   ],
   "source": [
    "w2v_model.build_vocab(documents)"
   ]
  },
  {
   "cell_type": "code",
   "execution_count": 20,
   "metadata": {
    "_uuid": "72a5628ca81fd4b8983c12d93ae0bf950b86b6ae"
   },
   "outputs": [
    {
     "name": "stdout",
     "output_type": "stream",
     "text": [
      "Vocabulary size: 290418\n"
     ]
    }
   ],
   "source": [
    "# Get the keys from the model's dictionary (the vocabulary)\n",
    "words = w2v_model.wv.index_to_key\n",
    "\n",
    "# Calculate vocabulary size\n",
    "vocab_size = len(words)\n",
    "\n",
    "print(\"Vocabulary size:\", vocab_size)"
   ]
  },
  {
   "cell_type": "code",
   "execution_count": 21,
   "metadata": {
    "_uuid": "68c3e4a5ba07cac3dee67f78ecdd1404c7f83f14"
   },
   "outputs": [
    {
     "name": "stderr",
     "output_type": "stream",
     "text": [
      "2024-06-14 00:07:45,786 : INFO : Word2Vec lifecycle event {'msg': 'training model with 8 workers on 290418 vocabulary and 100 features, using sg=0 hs=0 sample=0.001 negative=5 window=5 shrink_windows=True', 'datetime': '2024-06-14T00:07:45.786110', 'gensim': '4.3.2', 'python': '3.10.9 | packaged by Anaconda, Inc. | (main, Mar  1 2023, 18:18:15) [MSC v.1916 64 bit (AMD64)]', 'platform': 'Windows-10-10.0.22631-SP0', 'event': 'train'}\n",
      "2024-06-14 00:07:46,807 : INFO : EPOCH 0 - PROGRESS: at 30.89% examples, 2683415 words/s, in_qsize 15, out_qsize 0\n",
      "2024-06-14 00:07:47,808 : INFO : EPOCH 0 - PROGRESS: at 66.80% examples, 2905740 words/s, in_qsize 15, out_qsize 0\n",
      "2024-06-14 00:07:48,687 : INFO : EPOCH 0: training on 9227204 raw words (8708922 effective words) took 2.9s, 3021440 effective words/s\n",
      "2024-06-14 00:07:49,696 : INFO : EPOCH 1 - PROGRESS: at 34.35% examples, 2988347 words/s, in_qsize 16, out_qsize 0\n",
      "2024-06-14 00:07:50,697 : INFO : EPOCH 1 - PROGRESS: at 68.53% examples, 2982922 words/s, in_qsize 14, out_qsize 1\n",
      "2024-06-14 00:07:51,554 : INFO : EPOCH 1: training on 9227204 raw words (8708857 effective words) took 2.9s, 3045325 effective words/s\n",
      "2024-06-14 00:07:52,568 : INFO : EPOCH 2 - PROGRESS: at 34.24% examples, 2980227 words/s, in_qsize 15, out_qsize 0\n",
      "2024-06-14 00:07:53,568 : INFO : EPOCH 2 - PROGRESS: at 70.05% examples, 3050733 words/s, in_qsize 15, out_qsize 0\n",
      "2024-06-14 00:07:54,396 : INFO : EPOCH 2: training on 9227204 raw words (8708805 effective words) took 2.8s, 3079051 effective words/s\n",
      "2024-06-14 00:07:55,410 : INFO : EPOCH 3 - PROGRESS: at 35.21% examples, 3064656 words/s, in_qsize 15, out_qsize 0\n",
      "2024-06-14 00:07:56,411 : INFO : EPOCH 3 - PROGRESS: at 70.80% examples, 3084335 words/s, in_qsize 14, out_qsize 1\n",
      "2024-06-14 00:07:57,188 : INFO : EPOCH 3: training on 9227204 raw words (8708882 effective words) took 2.8s, 3134224 effective words/s\n",
      "2024-06-14 00:07:58,205 : INFO : EPOCH 4 - PROGRESS: at 36.07% examples, 3131697 words/s, in_qsize 16, out_qsize 0\n",
      "2024-06-14 00:07:59,212 : INFO : EPOCH 4 - PROGRESS: at 70.37% examples, 3051169 words/s, in_qsize 15, out_qsize 0\n",
      "2024-06-14 00:08:00,036 : INFO : EPOCH 4: training on 9227204 raw words (8708373 effective words) took 2.8s, 3072432 effective words/s\n",
      "2024-06-14 00:08:01,059 : INFO : EPOCH 5 - PROGRESS: at 35.75% examples, 3109214 words/s, in_qsize 15, out_qsize 0\n",
      "2024-06-14 00:08:02,062 : INFO : EPOCH 5 - PROGRESS: at 72.10% examples, 3136498 words/s, in_qsize 15, out_qsize 1\n",
      "2024-06-14 00:08:02,819 : INFO : EPOCH 5: training on 9227204 raw words (8708787 effective words) took 2.8s, 3153581 effective words/s\n",
      "2024-06-14 00:08:03,836 : INFO : EPOCH 6 - PROGRESS: at 34.89% examples, 3019575 words/s, in_qsize 15, out_qsize 0\n",
      "2024-06-14 00:08:04,838 : INFO : EPOCH 6 - PROGRESS: at 70.05% examples, 3039836 words/s, in_qsize 15, out_qsize 0\n",
      "2024-06-14 00:08:05,636 : INFO : EPOCH 6: training on 9227204 raw words (8708983 effective words) took 2.8s, 3103985 effective words/s\n",
      "2024-06-14 00:08:06,649 : INFO : EPOCH 7 - PROGRESS: at 36.07% examples, 3135697 words/s, in_qsize 14, out_qsize 1\n",
      "2024-06-14 00:08:07,651 : INFO : EPOCH 7 - PROGRESS: at 71.88% examples, 3125493 words/s, in_qsize 16, out_qsize 0\n",
      "2024-06-14 00:08:08,435 : INFO : EPOCH 7: training on 9227204 raw words (8709657 effective words) took 2.8s, 3123996 effective words/s\n",
      "2024-06-14 00:08:09,447 : INFO : EPOCH 8 - PROGRESS: at 35.32% examples, 3069578 words/s, in_qsize 15, out_qsize 0\n",
      "2024-06-14 00:08:10,447 : INFO : EPOCH 8 - PROGRESS: at 71.78% examples, 3123490 words/s, in_qsize 16, out_qsize 0\n",
      "2024-06-14 00:08:11,203 : INFO : EPOCH 8: training on 9227204 raw words (8708830 effective words) took 2.8s, 3157883 effective words/s\n",
      "2024-06-14 00:08:12,221 : INFO : EPOCH 9 - PROGRESS: at 36.08% examples, 3126610 words/s, in_qsize 16, out_qsize 2\n",
      "2024-06-14 00:08:13,224 : INFO : EPOCH 9 - PROGRESS: at 70.59% examples, 3064511 words/s, in_qsize 14, out_qsize 1\n",
      "2024-06-14 00:08:14,065 : INFO : EPOCH 9: training on 9227204 raw words (8708906 effective words) took 2.8s, 3057270 effective words/s\n",
      "2024-06-14 00:08:15,079 : INFO : EPOCH 10 - PROGRESS: at 34.35% examples, 2989454 words/s, in_qsize 16, out_qsize 1\n",
      "2024-06-14 00:08:16,082 : INFO : EPOCH 10 - PROGRESS: at 71.46% examples, 3107442 words/s, in_qsize 15, out_qsize 0\n",
      "2024-06-14 00:08:16,868 : INFO : EPOCH 10: training on 9227204 raw words (8708960 effective words) took 2.8s, 3121774 effective words/s\n",
      "2024-06-14 00:08:17,886 : INFO : EPOCH 11 - PROGRESS: at 36.18% examples, 3140763 words/s, in_qsize 16, out_qsize 0\n",
      "2024-06-14 00:08:18,890 : INFO : EPOCH 11 - PROGRESS: at 71.13% examples, 3087882 words/s, in_qsize 15, out_qsize 0\n",
      "2024-06-14 00:08:19,666 : INFO : EPOCH 11: training on 9227204 raw words (8709173 effective words) took 2.8s, 3129101 effective words/s\n",
      "2024-06-14 00:08:20,692 : INFO : EPOCH 12 - PROGRESS: at 34.46% examples, 2975658 words/s, in_qsize 15, out_qsize 0\n",
      "2024-06-14 00:08:21,692 : INFO : EPOCH 12 - PROGRESS: at 70.91% examples, 3076469 words/s, in_qsize 15, out_qsize 0\n",
      "2024-06-14 00:08:22,482 : INFO : EPOCH 12: training on 9227204 raw words (8707289 effective words) took 2.8s, 3111001 effective words/s\n",
      "2024-06-14 00:08:23,504 : INFO : EPOCH 13 - PROGRESS: at 33.16% examples, 2878606 words/s, in_qsize 15, out_qsize 0\n",
      "2024-06-14 00:08:24,507 : INFO : EPOCH 13 - PROGRESS: at 68.74% examples, 2986080 words/s, in_qsize 16, out_qsize 2\n",
      "2024-06-14 00:08:25,448 : INFO : EPOCH 13: training on 9227204 raw words (8709187 effective words) took 2.9s, 2954928 effective words/s\n",
      "2024-06-14 00:08:26,471 : INFO : EPOCH 14 - PROGRESS: at 34.57% examples, 2995017 words/s, in_qsize 13, out_qsize 2\n",
      "2024-06-14 00:08:27,471 : INFO : EPOCH 14 - PROGRESS: at 71.34% examples, 3101366 words/s, in_qsize 16, out_qsize 0\n",
      "2024-06-14 00:08:28,223 : INFO : EPOCH 14: training on 9227204 raw words (8708954 effective words) took 2.8s, 3157913 effective words/s\n",
      "2024-06-14 00:08:29,237 : INFO : EPOCH 15 - PROGRESS: at 34.78% examples, 3027415 words/s, in_qsize 15, out_qsize 0\n",
      "2024-06-14 00:08:30,238 : INFO : EPOCH 15 - PROGRESS: at 71.78% examples, 3126168 words/s, in_qsize 16, out_qsize 0\n",
      "2024-06-14 00:08:30,988 : INFO : EPOCH 15: training on 9227204 raw words (8708953 effective words) took 2.8s, 3166007 effective words/s\n",
      "2024-06-14 00:08:32,004 : INFO : EPOCH 16 - PROGRESS: at 36.18% examples, 3144746 words/s, in_qsize 16, out_qsize 0\n",
      "2024-06-14 00:08:33,004 : INFO : EPOCH 16 - PROGRESS: at 72.10% examples, 3137464 words/s, in_qsize 16, out_qsize 0\n",
      "2024-06-14 00:08:33,776 : INFO : EPOCH 16: training on 9227204 raw words (8708521 effective words) took 2.8s, 3139130 effective words/s\n",
      "2024-06-14 00:08:34,795 : INFO : EPOCH 17 - PROGRESS: at 35.75% examples, 3093442 words/s, in_qsize 16, out_qsize 0\n",
      "2024-06-14 00:08:35,798 : INFO : EPOCH 17 - PROGRESS: at 70.37% examples, 3051905 words/s, in_qsize 16, out_qsize 0\n",
      "2024-06-14 00:08:36,591 : INFO : EPOCH 17: training on 9227204 raw words (8709460 effective words) took 2.8s, 3108564 effective words/s\n",
      "2024-06-14 00:08:37,606 : INFO : EPOCH 18 - PROGRESS: at 35.32% examples, 3072355 words/s, in_qsize 15, out_qsize 0\n",
      "2024-06-14 00:08:38,606 : INFO : EPOCH 18 - PROGRESS: at 71.67% examples, 3121496 words/s, in_qsize 16, out_qsize 0\n",
      "2024-06-14 00:08:39,360 : INFO : EPOCH 18: training on 9227204 raw words (8708916 effective words) took 2.8s, 3159767 effective words/s\n",
      "2024-06-14 00:08:40,380 : INFO : EPOCH 19 - PROGRESS: at 34.13% examples, 2959977 words/s, in_qsize 15, out_qsize 0\n",
      "2024-06-14 00:08:41,383 : INFO : EPOCH 19 - PROGRESS: at 70.16% examples, 3045896 words/s, in_qsize 15, out_qsize 0\n",
      "2024-06-14 00:08:42,211 : INFO : EPOCH 19: training on 9227204 raw words (8708700 effective words) took 2.8s, 3071846 effective words/s\n",
      "2024-06-14 00:08:43,227 : INFO : EPOCH 20 - PROGRESS: at 35.43% examples, 3083835 words/s, in_qsize 14, out_qsize 1\n",
      "2024-06-14 00:08:44,231 : INFO : EPOCH 20 - PROGRESS: at 72.10% examples, 3135877 words/s, in_qsize 14, out_qsize 1\n",
      "2024-06-14 00:08:44,943 : INFO : EPOCH 20: training on 9227204 raw words (8709388 effective words) took 2.7s, 3206497 effective words/s\n",
      "2024-06-14 00:08:45,967 : INFO : EPOCH 21 - PROGRESS: at 36.07% examples, 3109233 words/s, in_qsize 16, out_qsize 0\n"
     ]
    },
    {
     "name": "stderr",
     "output_type": "stream",
     "text": [
      "2024-06-14 00:08:46,969 : INFO : EPOCH 21 - PROGRESS: at 71.78% examples, 3107479 words/s, in_qsize 15, out_qsize 0\n",
      "2024-06-14 00:08:47,772 : INFO : EPOCH 21: training on 9227204 raw words (8708611 effective words) took 2.8s, 3093265 effective words/s\n",
      "2024-06-14 00:08:48,801 : INFO : EPOCH 22 - PROGRESS: at 34.35% examples, 2985104 words/s, in_qsize 15, out_qsize 0\n",
      "2024-06-14 00:08:49,803 : INFO : EPOCH 22 - PROGRESS: at 70.80% examples, 3079774 words/s, in_qsize 16, out_qsize 0\n",
      "2024-06-14 00:08:50,602 : INFO : EPOCH 22: training on 9227204 raw words (8709213 effective words) took 2.8s, 3106887 effective words/s\n",
      "2024-06-14 00:08:51,624 : INFO : EPOCH 23 - PROGRESS: at 35.32% examples, 3049654 words/s, in_qsize 15, out_qsize 0\n",
      "2024-06-14 00:08:52,629 : INFO : EPOCH 23 - PROGRESS: at 72.10% examples, 3122023 words/s, in_qsize 15, out_qsize 0\n",
      "2024-06-14 00:08:53,380 : INFO : EPOCH 23: training on 9227204 raw words (8709054 effective words) took 2.8s, 3151131 effective words/s\n",
      "2024-06-14 00:08:54,399 : INFO : EPOCH 24 - PROGRESS: at 35.54% examples, 3076186 words/s, in_qsize 15, out_qsize 0\n",
      "2024-06-14 00:08:55,406 : INFO : EPOCH 24 - PROGRESS: at 71.35% examples, 3087742 words/s, in_qsize 15, out_qsize 0\n",
      "2024-06-14 00:08:56,198 : INFO : EPOCH 24: training on 9227204 raw words (8709779 effective words) took 2.8s, 3104172 effective words/s\n",
      "2024-06-14 00:08:57,215 : INFO : EPOCH 25 - PROGRESS: at 35.75% examples, 3106175 words/s, in_qsize 16, out_qsize 1\n",
      "2024-06-14 00:08:58,220 : INFO : EPOCH 25 - PROGRESS: at 71.35% examples, 3096100 words/s, in_qsize 15, out_qsize 0\n",
      "2024-06-14 00:08:58,992 : INFO : EPOCH 25: training on 9227204 raw words (8707799 effective words) took 2.8s, 3132812 effective words/s\n",
      "2024-06-14 00:09:00,011 : INFO : EPOCH 26 - PROGRESS: at 36.40% examples, 3155708 words/s, in_qsize 16, out_qsize 0\n",
      "2024-06-14 00:09:01,011 : INFO : EPOCH 26 - PROGRESS: at 73.83% examples, 3209496 words/s, in_qsize 15, out_qsize 0\n",
      "2024-06-14 00:09:01,703 : INFO : EPOCH 26: training on 9227204 raw words (8709377 effective words) took 2.7s, 3229830 effective words/s\n",
      "2024-06-14 00:09:02,719 : INFO : EPOCH 27 - PROGRESS: at 37.05% examples, 3216813 words/s, in_qsize 15, out_qsize 0\n",
      "2024-06-14 00:09:03,720 : INFO : EPOCH 27 - PROGRESS: at 71.45% examples, 3108365 words/s, in_qsize 15, out_qsize 0\n",
      "2024-06-14 00:09:04,486 : INFO : EPOCH 27: training on 9227204 raw words (8708890 effective words) took 2.8s, 3145377 effective words/s\n",
      "2024-06-14 00:09:05,503 : INFO : EPOCH 28 - PROGRESS: at 36.40% examples, 3162464 words/s, in_qsize 13, out_qsize 2\n",
      "2024-06-14 00:09:06,510 : INFO : EPOCH 28 - PROGRESS: at 71.77% examples, 3113417 words/s, in_qsize 14, out_qsize 1\n",
      "2024-06-14 00:09:07,346 : INFO : EPOCH 28: training on 9227204 raw words (8709039 effective words) took 2.8s, 3061442 effective words/s\n",
      "2024-06-14 00:09:08,364 : INFO : EPOCH 29 - PROGRESS: at 33.59% examples, 2910694 words/s, in_qsize 16, out_qsize 0\n",
      "2024-06-14 00:09:09,367 : INFO : EPOCH 29 - PROGRESS: at 70.48% examples, 3060015 words/s, in_qsize 14, out_qsize 1\n",
      "2024-06-14 00:09:10,138 : INFO : EPOCH 29: training on 9227204 raw words (8708230 effective words) took 2.8s, 3134537 effective words/s\n",
      "2024-06-14 00:09:11,158 : INFO : EPOCH 30 - PROGRESS: at 35.00% examples, 3031033 words/s, in_qsize 16, out_qsize 2\n",
      "2024-06-14 00:09:12,159 : INFO : EPOCH 30 - PROGRESS: at 70.48% examples, 3061194 words/s, in_qsize 15, out_qsize 0\n",
      "2024-06-14 00:09:12,964 : INFO : EPOCH 30: training on 9227204 raw words (8707929 effective words) took 2.8s, 3097306 effective words/s\n",
      "2024-06-14 00:09:13,981 : INFO : EPOCH 31 - PROGRESS: at 35.32% examples, 3068852 words/s, in_qsize 15, out_qsize 0\n",
      "2024-06-14 00:09:14,983 : INFO : EPOCH 31 - PROGRESS: at 70.59% examples, 3068283 words/s, in_qsize 15, out_qsize 0\n",
      "2024-06-14 00:09:15,797 : INFO : EPOCH 31: training on 9227204 raw words (8708350 effective words) took 2.8s, 3090085 effective words/s\n",
      "2024-06-14 00:09:15,798 : INFO : Word2Vec lifecycle event {'msg': 'training on 295270528 raw words (278682774 effective words) took 90.0s, 3096066 effective words/s', 'datetime': '2024-06-14T00:09:15.798480', 'gensim': '4.3.2', 'python': '3.10.9 | packaged by Anaconda, Inc. | (main, Mar  1 2023, 18:18:15) [MSC v.1916 64 bit (AMD64)]', 'platform': 'Windows-10-10.0.22631-SP0', 'event': 'train'}\n"
     ]
    },
    {
     "name": "stdout",
     "output_type": "stream",
     "text": [
      "CPU times: total: 37.2 s\n",
      "Wall time: 1min 30s\n"
     ]
    },
    {
     "data": {
      "text/plain": [
       "(278682774, 295270528)"
      ]
     },
     "execution_count": 21,
     "metadata": {},
     "output_type": "execute_result"
    }
   ],
   "source": [
    "%%time\n",
    "w2v_model.train(documents, total_examples=len(documents), epochs=W2V_EPOCH)"
   ]
  },
  {
   "cell_type": "code",
   "execution_count": 23,
   "metadata": {
    "_uuid": "27cc2651c74227115d8bfd8c40e5618048e05edd"
   },
   "outputs": [
    {
     "name": "stdout",
     "output_type": "stream",
     "text": [
      "luv: 0.6613520979881287\n",
      "loved: 0.6476112008094788\n",
      "loves: 0.6360829472541809\n",
      "adore: 0.6337177753448486\n",
      "amazing: 0.562732458114624\n",
      "awesome: 0.5539453625679016\n",
      "loving: 0.5308435559272766\n",
      "loooove: 0.522794246673584\n",
      "looooove: 0.5223526358604431\n",
      "fav: 0.5118126273155212\n"
     ]
    }
   ],
   "source": [
    "# Find the most similar words to a given word\n",
    "similar_words = w2v_model.wv.most_similar(\"love\")\n",
    "\n",
    "# Print the similar words\n",
    "for word, similarity in similar_words:\n",
    "    print(f\"{word}: {similarity}\")"
   ]
  },
  {
   "cell_type": "markdown",
   "metadata": {
    "_uuid": "e13563644468037258598637b49373ca96b9b879"
   },
   "source": [
    "### Tokenize Text"
   ]
  },
  {
   "cell_type": "code",
   "execution_count": 24,
   "metadata": {
    "_uuid": "6852bc709a7cd20173cbeeb218505078f8f37c57"
   },
   "outputs": [
    {
     "name": "stdout",
     "output_type": "stream",
     "text": [
      "Total words 290419\n",
      "CPU times: total: 2.23 s\n",
      "Wall time: 9.76 s\n"
     ]
    }
   ],
   "source": [
    "%%time\n",
    "tokenizer = Tokenizer()\n",
    "tokenizer.fit_on_texts(df_train.text)\n",
    "\n",
    "vocab_size = len(tokenizer.word_index) + 1\n",
    "print(\"Total words\", vocab_size)"
   ]
  },
  {
   "cell_type": "code",
   "execution_count": 25,
   "metadata": {
    "_uuid": "45de439df3015030c71f84c2d170346936a1d68f"
   },
   "outputs": [
    {
     "name": "stdout",
     "output_type": "stream",
     "text": [
      "CPU times: total: 2.42 s\n",
      "Wall time: 13.9 s\n"
     ]
    }
   ],
   "source": [
    "%%time\n",
    "x_train = pad_sequences(tokenizer.texts_to_sequences(df_train.text), maxlen=SEQUENCE_LENGTH)\n",
    "x_test = pad_sequences(tokenizer.texts_to_sequences(df_test.text), maxlen=SEQUENCE_LENGTH)"
   ]
  },
  {
   "cell_type": "markdown",
   "metadata": {
    "_uuid": "03b35903fc6260e190d6928d240ef7432de117fc"
   },
   "source": [
    "### Label Encoder "
   ]
  },
  {
   "cell_type": "code",
   "execution_count": 26,
   "metadata": {
    "_uuid": "33676e0efa39e97d89bd650b8b4eae933a22fbf0"
   },
   "outputs": [
    {
     "data": {
      "text/plain": [
       "['POSITIVE', 'NEGATIVE', 'NEUTRAL']"
      ]
     },
     "execution_count": 26,
     "metadata": {},
     "output_type": "execute_result"
    }
   ],
   "source": [
    "labels = df_train.target.unique().tolist()\n",
    "labels.append(NEUTRAL)\n",
    "labels"
   ]
  },
  {
   "cell_type": "code",
   "execution_count": 27,
   "metadata": {
    "_uuid": "04239a9bef76e7922fd86098a5601dfde8ee4665"
   },
   "outputs": [
    {
     "name": "stdout",
     "output_type": "stream",
     "text": [
      "y_train (1280000, 1)\n",
      "y_test (320000, 1)\n"
     ]
    }
   ],
   "source": [
    "encoder = LabelEncoder()\n",
    "encoder.fit(df_train.target.tolist())\n",
    "\n",
    "y_train = encoder.transform(df_train.target.tolist())\n",
    "y_test = encoder.transform(df_test.target.tolist())\n",
    "\n",
    "y_train = y_train.reshape(-1,1)\n",
    "y_test = y_test.reshape(-1,1)\n",
    "\n",
    "print(\"y_train\",y_train.shape)\n",
    "print(\"y_test\",y_test.shape)"
   ]
  },
  {
   "cell_type": "code",
   "execution_count": 28,
   "metadata": {
    "_uuid": "04299c886911ca135583ab64878f213939a2990c"
   },
   "outputs": [
    {
     "name": "stdout",
     "output_type": "stream",
     "text": [
      "x_train (1280000, 300)\n",
      "y_train (1280000, 1)\n",
      "\n",
      "x_test (320000, 300)\n",
      "y_test (320000, 1)\n"
     ]
    }
   ],
   "source": [
    "print(\"x_train\", x_train.shape)\n",
    "print(\"y_train\", y_train.shape)\n",
    "print()\n",
    "print(\"x_test\", x_test.shape)\n",
    "print(\"y_test\", y_test.shape)"
   ]
  },
  {
   "cell_type": "code",
   "execution_count": 29,
   "metadata": {
    "_uuid": "232533fb27b7be99d9b8c2f8fb22c9c6bf121a6f"
   },
   "outputs": [
    {
     "data": {
      "text/plain": [
       "array([[1],\n",
       "       [1],\n",
       "       [1],\n",
       "       [0],\n",
       "       [1],\n",
       "       [1],\n",
       "       [1],\n",
       "       [1],\n",
       "       [1],\n",
       "       [1]])"
      ]
     },
     "execution_count": 29,
     "metadata": {},
     "output_type": "execute_result"
    }
   ],
   "source": [
    "y_train[:10]"
   ]
  },
  {
   "cell_type": "markdown",
   "metadata": {
    "_uuid": "233c0ea94055a03e2e7df3e2a13d036ec963484f"
   },
   "source": [
    "### Embedding layer"
   ]
  },
  {
   "cell_type": "code",
   "execution_count": 30,
   "metadata": {
    "_uuid": "9ab488374b59e3f30f8b1ea92767d853c4846bac"
   },
   "outputs": [
    {
     "name": "stdout",
     "output_type": "stream",
     "text": [
      "(290419, 100)\n"
     ]
    }
   ],
   "source": [
    "embedding_matrix = np.zeros((vocab_size, W2V_SIZE))\n",
    "for word, i in tokenizer.word_index.items():\n",
    "  if word in w2v_model.wv:\n",
    "    embedding_matrix[i] = w2v_model.wv[word]\n",
    "print(embedding_matrix.shape)"
   ]
  },
  {
   "cell_type": "code",
   "execution_count": 31,
   "metadata": {
    "_uuid": "833279d91e4286065968237fb5f2a0c2dd4d246c"
   },
   "outputs": [
    {
     "name": "stderr",
     "output_type": "stream",
     "text": [
      "C:\\Users\\kwfen\\AppData\\Roaming\\Python\\Python310\\site-packages\\keras\\src\\layers\\core\\embedding.py:90: UserWarning: Argument `input_length` is deprecated. Just remove it.\n",
      "  warnings.warn(\n"
     ]
    }
   ],
   "source": [
    "embedding_layer = Embedding(vocab_size, W2V_SIZE, weights=[embedding_matrix], input_length=SEQUENCE_LENGTH, trainable=False)"
   ]
  },
  {
   "cell_type": "markdown",
   "metadata": {
    "_uuid": "b299ef78f94c2085942c993a2d58753a7476305a"
   },
   "source": [
    "### Build Model"
   ]
  },
  {
   "cell_type": "code",
   "execution_count": 91,
   "metadata": {},
   "outputs": [],
   "source": [
    "def create_model(optimizer='adam', lstm_units=100, dropout_rate=0.2):\n",
    "    model = Sequential()\n",
    "    model.add(embedding_layer)\n",
    "    model.add(Dropout(0.5))\n",
    "    model.add(LSTM(100, dropout=0.2, recurrent_dropout=0.2))\n",
    "    model.add(Dense(1, activation='sigmoid'))\n",
    "    model.compile(loss='binary_crossentropy',\n",
    "                  optimizer=\"adam\",\n",
    "                  metrics=['accuracy'])    \n",
    "    return model"
   ]
  },
  {
   "cell_type": "code",
   "execution_count": 104,
   "metadata": {},
   "outputs": [],
   "source": [
    "model = KerasClassifier(model=create_model, verbose=1, dropout_rate=0.2, lstm_units=50)\n"
   ]
  },
  {
   "cell_type": "code",
   "execution_count": 105,
   "metadata": {},
   "outputs": [],
   "source": [
    "param_grid = {\n",
    "    'optimizer': ['adam', 'rmsprop'],\n",
    "    'lstm_units': [50, 100, 150],\n",
    "    'dropout_rate': [0.2, 0.3, 0.4],\n",
    "#    'batch_size': [32, 64, 128],\n",
    "#    'epochs': [10, 20]\n",
    "}"
   ]
  },
  {
   "cell_type": "code",
   "execution_count": 106,
   "metadata": {},
   "outputs": [],
   "source": [
    "grid = GridSearchCV(estimator=model, param_grid=param_grid, cv=3, verbose=1)"
   ]
  },
  {
   "cell_type": "code",
   "execution_count": 107,
   "metadata": {},
   "outputs": [
    {
     "name": "stdout",
     "output_type": "stream",
     "text": [
      "Fitting 3 folds for each of 18 candidates, totalling 54 fits\n"
     ]
    },
    {
     "ename": "ValueError",
     "evalue": "\nAll the 54 fits failed.\nIt is very likely that your model is misconfigured.\nYou can try to debug the error by setting error_score='raise'.\n\nBelow are more details about the failures:\n--------------------------------------------------------------------------------\n1 fits failed with the following error:\nTraceback (most recent call last):\n  File \"C:\\ProgramData\\anaconda3\\lib\\site-packages\\sklearn\\model_selection\\_validation.py\", line 686, in _fit_and_score\n    estimator.fit(X_train, y_train, **fit_params)\n  File \"C:\\Users\\kwfen\\AppData\\Roaming\\Python\\Python310\\site-packages\\scikeras\\wrappers.py\", line 1501, in fit\n    super().fit(X=X, y=y, sample_weight=sample_weight, **kwargs)\n  File \"C:\\Users\\kwfen\\AppData\\Roaming\\Python\\Python310\\site-packages\\scikeras\\wrappers.py\", line 770, in fit\n    self._fit(\n  File \"C:\\Users\\kwfen\\AppData\\Roaming\\Python\\Python310\\site-packages\\scikeras\\wrappers.py\", line 936, in _fit\n    self._check_model_compatibility(y)\n  File \"C:\\Users\\kwfen\\AppData\\Roaming\\Python\\Python310\\site-packages\\scikeras\\wrappers.py\", line 559, in _check_model_compatibility\n    if self.n_outputs_expected_ != len(self.model_.outputs):\n  File \"C:\\Users\\kwfen\\AppData\\Roaming\\Python\\Python310\\site-packages\\keras\\src\\models\\sequential.py\", line 283, in outputs\n    raise ValueError(\nValueError: Sequential model 'sequential_90' has no defined outputs yet.\n\n--------------------------------------------------------------------------------\n1 fits failed with the following error:\nTraceback (most recent call last):\n  File \"C:\\ProgramData\\anaconda3\\lib\\site-packages\\sklearn\\model_selection\\_validation.py\", line 686, in _fit_and_score\n    estimator.fit(X_train, y_train, **fit_params)\n  File \"C:\\Users\\kwfen\\AppData\\Roaming\\Python\\Python310\\site-packages\\scikeras\\wrappers.py\", line 1501, in fit\n    super().fit(X=X, y=y, sample_weight=sample_weight, **kwargs)\n  File \"C:\\Users\\kwfen\\AppData\\Roaming\\Python\\Python310\\site-packages\\scikeras\\wrappers.py\", line 770, in fit\n    self._fit(\n  File \"C:\\Users\\kwfen\\AppData\\Roaming\\Python\\Python310\\site-packages\\scikeras\\wrappers.py\", line 936, in _fit\n    self._check_model_compatibility(y)\n  File \"C:\\Users\\kwfen\\AppData\\Roaming\\Python\\Python310\\site-packages\\scikeras\\wrappers.py\", line 559, in _check_model_compatibility\n    if self.n_outputs_expected_ != len(self.model_.outputs):\n  File \"C:\\Users\\kwfen\\AppData\\Roaming\\Python\\Python310\\site-packages\\keras\\src\\models\\sequential.py\", line 283, in outputs\n    raise ValueError(\nValueError: Sequential model 'sequential_91' has no defined outputs yet.\n\n--------------------------------------------------------------------------------\n1 fits failed with the following error:\nTraceback (most recent call last):\n  File \"C:\\ProgramData\\anaconda3\\lib\\site-packages\\sklearn\\model_selection\\_validation.py\", line 686, in _fit_and_score\n    estimator.fit(X_train, y_train, **fit_params)\n  File \"C:\\Users\\kwfen\\AppData\\Roaming\\Python\\Python310\\site-packages\\scikeras\\wrappers.py\", line 1501, in fit\n    super().fit(X=X, y=y, sample_weight=sample_weight, **kwargs)\n  File \"C:\\Users\\kwfen\\AppData\\Roaming\\Python\\Python310\\site-packages\\scikeras\\wrappers.py\", line 770, in fit\n    self._fit(\n  File \"C:\\Users\\kwfen\\AppData\\Roaming\\Python\\Python310\\site-packages\\scikeras\\wrappers.py\", line 936, in _fit\n    self._check_model_compatibility(y)\n  File \"C:\\Users\\kwfen\\AppData\\Roaming\\Python\\Python310\\site-packages\\scikeras\\wrappers.py\", line 559, in _check_model_compatibility\n    if self.n_outputs_expected_ != len(self.model_.outputs):\n  File \"C:\\Users\\kwfen\\AppData\\Roaming\\Python\\Python310\\site-packages\\keras\\src\\models\\sequential.py\", line 283, in outputs\n    raise ValueError(\nValueError: Sequential model 'sequential_92' has no defined outputs yet.\n\n--------------------------------------------------------------------------------\n1 fits failed with the following error:\nTraceback (most recent call last):\n  File \"C:\\ProgramData\\anaconda3\\lib\\site-packages\\sklearn\\model_selection\\_validation.py\", line 686, in _fit_and_score\n    estimator.fit(X_train, y_train, **fit_params)\n  File \"C:\\Users\\kwfen\\AppData\\Roaming\\Python\\Python310\\site-packages\\scikeras\\wrappers.py\", line 1501, in fit\n    super().fit(X=X, y=y, sample_weight=sample_weight, **kwargs)\n  File \"C:\\Users\\kwfen\\AppData\\Roaming\\Python\\Python310\\site-packages\\scikeras\\wrappers.py\", line 770, in fit\n    self._fit(\n  File \"C:\\Users\\kwfen\\AppData\\Roaming\\Python\\Python310\\site-packages\\scikeras\\wrappers.py\", line 936, in _fit\n    self._check_model_compatibility(y)\n  File \"C:\\Users\\kwfen\\AppData\\Roaming\\Python\\Python310\\site-packages\\scikeras\\wrappers.py\", line 559, in _check_model_compatibility\n    if self.n_outputs_expected_ != len(self.model_.outputs):\n  File \"C:\\Users\\kwfen\\AppData\\Roaming\\Python\\Python310\\site-packages\\keras\\src\\models\\sequential.py\", line 283, in outputs\n    raise ValueError(\nValueError: Sequential model 'sequential_93' has no defined outputs yet.\n\n--------------------------------------------------------------------------------\n1 fits failed with the following error:\nTraceback (most recent call last):\n  File \"C:\\ProgramData\\anaconda3\\lib\\site-packages\\sklearn\\model_selection\\_validation.py\", line 686, in _fit_and_score\n    estimator.fit(X_train, y_train, **fit_params)\n  File \"C:\\Users\\kwfen\\AppData\\Roaming\\Python\\Python310\\site-packages\\scikeras\\wrappers.py\", line 1501, in fit\n    super().fit(X=X, y=y, sample_weight=sample_weight, **kwargs)\n  File \"C:\\Users\\kwfen\\AppData\\Roaming\\Python\\Python310\\site-packages\\scikeras\\wrappers.py\", line 770, in fit\n    self._fit(\n  File \"C:\\Users\\kwfen\\AppData\\Roaming\\Python\\Python310\\site-packages\\scikeras\\wrappers.py\", line 936, in _fit\n    self._check_model_compatibility(y)\n  File \"C:\\Users\\kwfen\\AppData\\Roaming\\Python\\Python310\\site-packages\\scikeras\\wrappers.py\", line 559, in _check_model_compatibility\n    if self.n_outputs_expected_ != len(self.model_.outputs):\n  File \"C:\\Users\\kwfen\\AppData\\Roaming\\Python\\Python310\\site-packages\\keras\\src\\models\\sequential.py\", line 283, in outputs\n    raise ValueError(\nValueError: Sequential model 'sequential_94' has no defined outputs yet.\n\n--------------------------------------------------------------------------------\n1 fits failed with the following error:\nTraceback (most recent call last):\n  File \"C:\\ProgramData\\anaconda3\\lib\\site-packages\\sklearn\\model_selection\\_validation.py\", line 686, in _fit_and_score\n    estimator.fit(X_train, y_train, **fit_params)\n  File \"C:\\Users\\kwfen\\AppData\\Roaming\\Python\\Python310\\site-packages\\scikeras\\wrappers.py\", line 1501, in fit\n    super().fit(X=X, y=y, sample_weight=sample_weight, **kwargs)\n  File \"C:\\Users\\kwfen\\AppData\\Roaming\\Python\\Python310\\site-packages\\scikeras\\wrappers.py\", line 770, in fit\n    self._fit(\n  File \"C:\\Users\\kwfen\\AppData\\Roaming\\Python\\Python310\\site-packages\\scikeras\\wrappers.py\", line 936, in _fit\n    self._check_model_compatibility(y)\n  File \"C:\\Users\\kwfen\\AppData\\Roaming\\Python\\Python310\\site-packages\\scikeras\\wrappers.py\", line 559, in _check_model_compatibility\n    if self.n_outputs_expected_ != len(self.model_.outputs):\n  File \"C:\\Users\\kwfen\\AppData\\Roaming\\Python\\Python310\\site-packages\\keras\\src\\models\\sequential.py\", line 283, in outputs\n    raise ValueError(\nValueError: Sequential model 'sequential_95' has no defined outputs yet.\n\n--------------------------------------------------------------------------------\n1 fits failed with the following error:\nTraceback (most recent call last):\n  File \"C:\\ProgramData\\anaconda3\\lib\\site-packages\\sklearn\\model_selection\\_validation.py\", line 686, in _fit_and_score\n    estimator.fit(X_train, y_train, **fit_params)\n  File \"C:\\Users\\kwfen\\AppData\\Roaming\\Python\\Python310\\site-packages\\scikeras\\wrappers.py\", line 1501, in fit\n    super().fit(X=X, y=y, sample_weight=sample_weight, **kwargs)\n  File \"C:\\Users\\kwfen\\AppData\\Roaming\\Python\\Python310\\site-packages\\scikeras\\wrappers.py\", line 770, in fit\n    self._fit(\n  File \"C:\\Users\\kwfen\\AppData\\Roaming\\Python\\Python310\\site-packages\\scikeras\\wrappers.py\", line 936, in _fit\n    self._check_model_compatibility(y)\n  File \"C:\\Users\\kwfen\\AppData\\Roaming\\Python\\Python310\\site-packages\\scikeras\\wrappers.py\", line 559, in _check_model_compatibility\n    if self.n_outputs_expected_ != len(self.model_.outputs):\n  File \"C:\\Users\\kwfen\\AppData\\Roaming\\Python\\Python310\\site-packages\\keras\\src\\models\\sequential.py\", line 283, in outputs\n    raise ValueError(\nValueError: Sequential model 'sequential_96' has no defined outputs yet.\n\n--------------------------------------------------------------------------------\n1 fits failed with the following error:\nTraceback (most recent call last):\n  File \"C:\\ProgramData\\anaconda3\\lib\\site-packages\\sklearn\\model_selection\\_validation.py\", line 686, in _fit_and_score\n    estimator.fit(X_train, y_train, **fit_params)\n  File \"C:\\Users\\kwfen\\AppData\\Roaming\\Python\\Python310\\site-packages\\scikeras\\wrappers.py\", line 1501, in fit\n    super().fit(X=X, y=y, sample_weight=sample_weight, **kwargs)\n  File \"C:\\Users\\kwfen\\AppData\\Roaming\\Python\\Python310\\site-packages\\scikeras\\wrappers.py\", line 770, in fit\n    self._fit(\n  File \"C:\\Users\\kwfen\\AppData\\Roaming\\Python\\Python310\\site-packages\\scikeras\\wrappers.py\", line 936, in _fit\n    self._check_model_compatibility(y)\n  File \"C:\\Users\\kwfen\\AppData\\Roaming\\Python\\Python310\\site-packages\\scikeras\\wrappers.py\", line 559, in _check_model_compatibility\n    if self.n_outputs_expected_ != len(self.model_.outputs):\n  File \"C:\\Users\\kwfen\\AppData\\Roaming\\Python\\Python310\\site-packages\\keras\\src\\models\\sequential.py\", line 283, in outputs\n    raise ValueError(\nValueError: Sequential model 'sequential_97' has no defined outputs yet.\n\n--------------------------------------------------------------------------------\n1 fits failed with the following error:\nTraceback (most recent call last):\n  File \"C:\\ProgramData\\anaconda3\\lib\\site-packages\\sklearn\\model_selection\\_validation.py\", line 686, in _fit_and_score\n    estimator.fit(X_train, y_train, **fit_params)\n  File \"C:\\Users\\kwfen\\AppData\\Roaming\\Python\\Python310\\site-packages\\scikeras\\wrappers.py\", line 1501, in fit\n    super().fit(X=X, y=y, sample_weight=sample_weight, **kwargs)\n  File \"C:\\Users\\kwfen\\AppData\\Roaming\\Python\\Python310\\site-packages\\scikeras\\wrappers.py\", line 770, in fit\n    self._fit(\n  File \"C:\\Users\\kwfen\\AppData\\Roaming\\Python\\Python310\\site-packages\\scikeras\\wrappers.py\", line 936, in _fit\n    self._check_model_compatibility(y)\n  File \"C:\\Users\\kwfen\\AppData\\Roaming\\Python\\Python310\\site-packages\\scikeras\\wrappers.py\", line 559, in _check_model_compatibility\n    if self.n_outputs_expected_ != len(self.model_.outputs):\n  File \"C:\\Users\\kwfen\\AppData\\Roaming\\Python\\Python310\\site-packages\\keras\\src\\models\\sequential.py\", line 283, in outputs\n    raise ValueError(\nValueError: Sequential model 'sequential_98' has no defined outputs yet.\n\n--------------------------------------------------------------------------------\n1 fits failed with the following error:\nTraceback (most recent call last):\n  File \"C:\\ProgramData\\anaconda3\\lib\\site-packages\\sklearn\\model_selection\\_validation.py\", line 686, in _fit_and_score\n    estimator.fit(X_train, y_train, **fit_params)\n  File \"C:\\Users\\kwfen\\AppData\\Roaming\\Python\\Python310\\site-packages\\scikeras\\wrappers.py\", line 1501, in fit\n    super().fit(X=X, y=y, sample_weight=sample_weight, **kwargs)\n  File \"C:\\Users\\kwfen\\AppData\\Roaming\\Python\\Python310\\site-packages\\scikeras\\wrappers.py\", line 770, in fit\n    self._fit(\n  File \"C:\\Users\\kwfen\\AppData\\Roaming\\Python\\Python310\\site-packages\\scikeras\\wrappers.py\", line 936, in _fit\n    self._check_model_compatibility(y)\n  File \"C:\\Users\\kwfen\\AppData\\Roaming\\Python\\Python310\\site-packages\\scikeras\\wrappers.py\", line 559, in _check_model_compatibility\n    if self.n_outputs_expected_ != len(self.model_.outputs):\n  File \"C:\\Users\\kwfen\\AppData\\Roaming\\Python\\Python310\\site-packages\\keras\\src\\models\\sequential.py\", line 283, in outputs\n    raise ValueError(\nValueError: Sequential model 'sequential_99' has no defined outputs yet.\n\n--------------------------------------------------------------------------------\n1 fits failed with the following error:\nTraceback (most recent call last):\n  File \"C:\\ProgramData\\anaconda3\\lib\\site-packages\\sklearn\\model_selection\\_validation.py\", line 686, in _fit_and_score\n    estimator.fit(X_train, y_train, **fit_params)\n  File \"C:\\Users\\kwfen\\AppData\\Roaming\\Python\\Python310\\site-packages\\scikeras\\wrappers.py\", line 1501, in fit\n    super().fit(X=X, y=y, sample_weight=sample_weight, **kwargs)\n  File \"C:\\Users\\kwfen\\AppData\\Roaming\\Python\\Python310\\site-packages\\scikeras\\wrappers.py\", line 770, in fit\n    self._fit(\n  File \"C:\\Users\\kwfen\\AppData\\Roaming\\Python\\Python310\\site-packages\\scikeras\\wrappers.py\", line 936, in _fit\n    self._check_model_compatibility(y)\n  File \"C:\\Users\\kwfen\\AppData\\Roaming\\Python\\Python310\\site-packages\\scikeras\\wrappers.py\", line 559, in _check_model_compatibility\n    if self.n_outputs_expected_ != len(self.model_.outputs):\n  File \"C:\\Users\\kwfen\\AppData\\Roaming\\Python\\Python310\\site-packages\\keras\\src\\models\\sequential.py\", line 283, in outputs\n    raise ValueError(\nValueError: Sequential model 'sequential_100' has no defined outputs yet.\n\n--------------------------------------------------------------------------------\n1 fits failed with the following error:\nTraceback (most recent call last):\n  File \"C:\\ProgramData\\anaconda3\\lib\\site-packages\\sklearn\\model_selection\\_validation.py\", line 686, in _fit_and_score\n    estimator.fit(X_train, y_train, **fit_params)\n  File \"C:\\Users\\kwfen\\AppData\\Roaming\\Python\\Python310\\site-packages\\scikeras\\wrappers.py\", line 1501, in fit\n    super().fit(X=X, y=y, sample_weight=sample_weight, **kwargs)\n  File \"C:\\Users\\kwfen\\AppData\\Roaming\\Python\\Python310\\site-packages\\scikeras\\wrappers.py\", line 770, in fit\n    self._fit(\n  File \"C:\\Users\\kwfen\\AppData\\Roaming\\Python\\Python310\\site-packages\\scikeras\\wrappers.py\", line 936, in _fit\n    self._check_model_compatibility(y)\n  File \"C:\\Users\\kwfen\\AppData\\Roaming\\Python\\Python310\\site-packages\\scikeras\\wrappers.py\", line 559, in _check_model_compatibility\n    if self.n_outputs_expected_ != len(self.model_.outputs):\n  File \"C:\\Users\\kwfen\\AppData\\Roaming\\Python\\Python310\\site-packages\\keras\\src\\models\\sequential.py\", line 283, in outputs\n    raise ValueError(\nValueError: Sequential model 'sequential_101' has no defined outputs yet.\n\n--------------------------------------------------------------------------------\n1 fits failed with the following error:\nTraceback (most recent call last):\n  File \"C:\\ProgramData\\anaconda3\\lib\\site-packages\\sklearn\\model_selection\\_validation.py\", line 686, in _fit_and_score\n    estimator.fit(X_train, y_train, **fit_params)\n  File \"C:\\Users\\kwfen\\AppData\\Roaming\\Python\\Python310\\site-packages\\scikeras\\wrappers.py\", line 1501, in fit\n    super().fit(X=X, y=y, sample_weight=sample_weight, **kwargs)\n  File \"C:\\Users\\kwfen\\AppData\\Roaming\\Python\\Python310\\site-packages\\scikeras\\wrappers.py\", line 770, in fit\n    self._fit(\n  File \"C:\\Users\\kwfen\\AppData\\Roaming\\Python\\Python310\\site-packages\\scikeras\\wrappers.py\", line 936, in _fit\n    self._check_model_compatibility(y)\n  File \"C:\\Users\\kwfen\\AppData\\Roaming\\Python\\Python310\\site-packages\\scikeras\\wrappers.py\", line 559, in _check_model_compatibility\n    if self.n_outputs_expected_ != len(self.model_.outputs):\n  File \"C:\\Users\\kwfen\\AppData\\Roaming\\Python\\Python310\\site-packages\\keras\\src\\models\\sequential.py\", line 283, in outputs\n    raise ValueError(\nValueError: Sequential model 'sequential_102' has no defined outputs yet.\n\n--------------------------------------------------------------------------------\n1 fits failed with the following error:\nTraceback (most recent call last):\n  File \"C:\\ProgramData\\anaconda3\\lib\\site-packages\\sklearn\\model_selection\\_validation.py\", line 686, in _fit_and_score\n    estimator.fit(X_train, y_train, **fit_params)\n  File \"C:\\Users\\kwfen\\AppData\\Roaming\\Python\\Python310\\site-packages\\scikeras\\wrappers.py\", line 1501, in fit\n    super().fit(X=X, y=y, sample_weight=sample_weight, **kwargs)\n  File \"C:\\Users\\kwfen\\AppData\\Roaming\\Python\\Python310\\site-packages\\scikeras\\wrappers.py\", line 770, in fit\n    self._fit(\n  File \"C:\\Users\\kwfen\\AppData\\Roaming\\Python\\Python310\\site-packages\\scikeras\\wrappers.py\", line 936, in _fit\n    self._check_model_compatibility(y)\n  File \"C:\\Users\\kwfen\\AppData\\Roaming\\Python\\Python310\\site-packages\\scikeras\\wrappers.py\", line 559, in _check_model_compatibility\n    if self.n_outputs_expected_ != len(self.model_.outputs):\n  File \"C:\\Users\\kwfen\\AppData\\Roaming\\Python\\Python310\\site-packages\\keras\\src\\models\\sequential.py\", line 283, in outputs\n    raise ValueError(\nValueError: Sequential model 'sequential_103' has no defined outputs yet.\n\n--------------------------------------------------------------------------------\n1 fits failed with the following error:\nTraceback (most recent call last):\n  File \"C:\\ProgramData\\anaconda3\\lib\\site-packages\\sklearn\\model_selection\\_validation.py\", line 686, in _fit_and_score\n    estimator.fit(X_train, y_train, **fit_params)\n  File \"C:\\Users\\kwfen\\AppData\\Roaming\\Python\\Python310\\site-packages\\scikeras\\wrappers.py\", line 1501, in fit\n    super().fit(X=X, y=y, sample_weight=sample_weight, **kwargs)\n  File \"C:\\Users\\kwfen\\AppData\\Roaming\\Python\\Python310\\site-packages\\scikeras\\wrappers.py\", line 770, in fit\n    self._fit(\n  File \"C:\\Users\\kwfen\\AppData\\Roaming\\Python\\Python310\\site-packages\\scikeras\\wrappers.py\", line 936, in _fit\n    self._check_model_compatibility(y)\n  File \"C:\\Users\\kwfen\\AppData\\Roaming\\Python\\Python310\\site-packages\\scikeras\\wrappers.py\", line 559, in _check_model_compatibility\n    if self.n_outputs_expected_ != len(self.model_.outputs):\n  File \"C:\\Users\\kwfen\\AppData\\Roaming\\Python\\Python310\\site-packages\\keras\\src\\models\\sequential.py\", line 283, in outputs\n    raise ValueError(\nValueError: Sequential model 'sequential_104' has no defined outputs yet.\n\n--------------------------------------------------------------------------------\n1 fits failed with the following error:\nTraceback (most recent call last):\n  File \"C:\\ProgramData\\anaconda3\\lib\\site-packages\\sklearn\\model_selection\\_validation.py\", line 686, in _fit_and_score\n    estimator.fit(X_train, y_train, **fit_params)\n  File \"C:\\Users\\kwfen\\AppData\\Roaming\\Python\\Python310\\site-packages\\scikeras\\wrappers.py\", line 1501, in fit\n    super().fit(X=X, y=y, sample_weight=sample_weight, **kwargs)\n  File \"C:\\Users\\kwfen\\AppData\\Roaming\\Python\\Python310\\site-packages\\scikeras\\wrappers.py\", line 770, in fit\n    self._fit(\n  File \"C:\\Users\\kwfen\\AppData\\Roaming\\Python\\Python310\\site-packages\\scikeras\\wrappers.py\", line 936, in _fit\n    self._check_model_compatibility(y)\n  File \"C:\\Users\\kwfen\\AppData\\Roaming\\Python\\Python310\\site-packages\\scikeras\\wrappers.py\", line 559, in _check_model_compatibility\n    if self.n_outputs_expected_ != len(self.model_.outputs):\n  File \"C:\\Users\\kwfen\\AppData\\Roaming\\Python\\Python310\\site-packages\\keras\\src\\models\\sequential.py\", line 283, in outputs\n    raise ValueError(\nValueError: Sequential model 'sequential_105' has no defined outputs yet.\n\n--------------------------------------------------------------------------------\n1 fits failed with the following error:\nTraceback (most recent call last):\n  File \"C:\\ProgramData\\anaconda3\\lib\\site-packages\\sklearn\\model_selection\\_validation.py\", line 686, in _fit_and_score\n    estimator.fit(X_train, y_train, **fit_params)\n  File \"C:\\Users\\kwfen\\AppData\\Roaming\\Python\\Python310\\site-packages\\scikeras\\wrappers.py\", line 1501, in fit\n    super().fit(X=X, y=y, sample_weight=sample_weight, **kwargs)\n  File \"C:\\Users\\kwfen\\AppData\\Roaming\\Python\\Python310\\site-packages\\scikeras\\wrappers.py\", line 770, in fit\n    self._fit(\n  File \"C:\\Users\\kwfen\\AppData\\Roaming\\Python\\Python310\\site-packages\\scikeras\\wrappers.py\", line 936, in _fit\n    self._check_model_compatibility(y)\n  File \"C:\\Users\\kwfen\\AppData\\Roaming\\Python\\Python310\\site-packages\\scikeras\\wrappers.py\", line 559, in _check_model_compatibility\n    if self.n_outputs_expected_ != len(self.model_.outputs):\n  File \"C:\\Users\\kwfen\\AppData\\Roaming\\Python\\Python310\\site-packages\\keras\\src\\models\\sequential.py\", line 283, in outputs\n    raise ValueError(\nValueError: Sequential model 'sequential_106' has no defined outputs yet.\n\n--------------------------------------------------------------------------------\n1 fits failed with the following error:\nTraceback (most recent call last):\n  File \"C:\\ProgramData\\anaconda3\\lib\\site-packages\\sklearn\\model_selection\\_validation.py\", line 686, in _fit_and_score\n    estimator.fit(X_train, y_train, **fit_params)\n  File \"C:\\Users\\kwfen\\AppData\\Roaming\\Python\\Python310\\site-packages\\scikeras\\wrappers.py\", line 1501, in fit\n    super().fit(X=X, y=y, sample_weight=sample_weight, **kwargs)\n  File \"C:\\Users\\kwfen\\AppData\\Roaming\\Python\\Python310\\site-packages\\scikeras\\wrappers.py\", line 770, in fit\n    self._fit(\n  File \"C:\\Users\\kwfen\\AppData\\Roaming\\Python\\Python310\\site-packages\\scikeras\\wrappers.py\", line 936, in _fit\n    self._check_model_compatibility(y)\n  File \"C:\\Users\\kwfen\\AppData\\Roaming\\Python\\Python310\\site-packages\\scikeras\\wrappers.py\", line 559, in _check_model_compatibility\n    if self.n_outputs_expected_ != len(self.model_.outputs):\n  File \"C:\\Users\\kwfen\\AppData\\Roaming\\Python\\Python310\\site-packages\\keras\\src\\models\\sequential.py\", line 283, in outputs\n    raise ValueError(\nValueError: Sequential model 'sequential_107' has no defined outputs yet.\n\n--------------------------------------------------------------------------------\n1 fits failed with the following error:\nTraceback (most recent call last):\n  File \"C:\\ProgramData\\anaconda3\\lib\\site-packages\\sklearn\\model_selection\\_validation.py\", line 686, in _fit_and_score\n    estimator.fit(X_train, y_train, **fit_params)\n  File \"C:\\Users\\kwfen\\AppData\\Roaming\\Python\\Python310\\site-packages\\scikeras\\wrappers.py\", line 1501, in fit\n    super().fit(X=X, y=y, sample_weight=sample_weight, **kwargs)\n  File \"C:\\Users\\kwfen\\AppData\\Roaming\\Python\\Python310\\site-packages\\scikeras\\wrappers.py\", line 770, in fit\n    self._fit(\n  File \"C:\\Users\\kwfen\\AppData\\Roaming\\Python\\Python310\\site-packages\\scikeras\\wrappers.py\", line 936, in _fit\n    self._check_model_compatibility(y)\n  File \"C:\\Users\\kwfen\\AppData\\Roaming\\Python\\Python310\\site-packages\\scikeras\\wrappers.py\", line 559, in _check_model_compatibility\n    if self.n_outputs_expected_ != len(self.model_.outputs):\n  File \"C:\\Users\\kwfen\\AppData\\Roaming\\Python\\Python310\\site-packages\\keras\\src\\models\\sequential.py\", line 283, in outputs\n    raise ValueError(\nValueError: Sequential model 'sequential_108' has no defined outputs yet.\n\n--------------------------------------------------------------------------------\n1 fits failed with the following error:\nTraceback (most recent call last):\n  File \"C:\\ProgramData\\anaconda3\\lib\\site-packages\\sklearn\\model_selection\\_validation.py\", line 686, in _fit_and_score\n    estimator.fit(X_train, y_train, **fit_params)\n  File \"C:\\Users\\kwfen\\AppData\\Roaming\\Python\\Python310\\site-packages\\scikeras\\wrappers.py\", line 1501, in fit\n    super().fit(X=X, y=y, sample_weight=sample_weight, **kwargs)\n  File \"C:\\Users\\kwfen\\AppData\\Roaming\\Python\\Python310\\site-packages\\scikeras\\wrappers.py\", line 770, in fit\n    self._fit(\n  File \"C:\\Users\\kwfen\\AppData\\Roaming\\Python\\Python310\\site-packages\\scikeras\\wrappers.py\", line 936, in _fit\n    self._check_model_compatibility(y)\n  File \"C:\\Users\\kwfen\\AppData\\Roaming\\Python\\Python310\\site-packages\\scikeras\\wrappers.py\", line 559, in _check_model_compatibility\n    if self.n_outputs_expected_ != len(self.model_.outputs):\n  File \"C:\\Users\\kwfen\\AppData\\Roaming\\Python\\Python310\\site-packages\\keras\\src\\models\\sequential.py\", line 283, in outputs\n    raise ValueError(\nValueError: Sequential model 'sequential_109' has no defined outputs yet.\n\n--------------------------------------------------------------------------------\n1 fits failed with the following error:\nTraceback (most recent call last):\n  File \"C:\\ProgramData\\anaconda3\\lib\\site-packages\\sklearn\\model_selection\\_validation.py\", line 686, in _fit_and_score\n    estimator.fit(X_train, y_train, **fit_params)\n  File \"C:\\Users\\kwfen\\AppData\\Roaming\\Python\\Python310\\site-packages\\scikeras\\wrappers.py\", line 1501, in fit\n    super().fit(X=X, y=y, sample_weight=sample_weight, **kwargs)\n  File \"C:\\Users\\kwfen\\AppData\\Roaming\\Python\\Python310\\site-packages\\scikeras\\wrappers.py\", line 770, in fit\n    self._fit(\n  File \"C:\\Users\\kwfen\\AppData\\Roaming\\Python\\Python310\\site-packages\\scikeras\\wrappers.py\", line 936, in _fit\n    self._check_model_compatibility(y)\n  File \"C:\\Users\\kwfen\\AppData\\Roaming\\Python\\Python310\\site-packages\\scikeras\\wrappers.py\", line 559, in _check_model_compatibility\n    if self.n_outputs_expected_ != len(self.model_.outputs):\n  File \"C:\\Users\\kwfen\\AppData\\Roaming\\Python\\Python310\\site-packages\\keras\\src\\models\\sequential.py\", line 283, in outputs\n    raise ValueError(\nValueError: Sequential model 'sequential_110' has no defined outputs yet.\n\n--------------------------------------------------------------------------------\n1 fits failed with the following error:\nTraceback (most recent call last):\n  File \"C:\\ProgramData\\anaconda3\\lib\\site-packages\\sklearn\\model_selection\\_validation.py\", line 686, in _fit_and_score\n    estimator.fit(X_train, y_train, **fit_params)\n  File \"C:\\Users\\kwfen\\AppData\\Roaming\\Python\\Python310\\site-packages\\scikeras\\wrappers.py\", line 1501, in fit\n    super().fit(X=X, y=y, sample_weight=sample_weight, **kwargs)\n  File \"C:\\Users\\kwfen\\AppData\\Roaming\\Python\\Python310\\site-packages\\scikeras\\wrappers.py\", line 770, in fit\n    self._fit(\n  File \"C:\\Users\\kwfen\\AppData\\Roaming\\Python\\Python310\\site-packages\\scikeras\\wrappers.py\", line 936, in _fit\n    self._check_model_compatibility(y)\n  File \"C:\\Users\\kwfen\\AppData\\Roaming\\Python\\Python310\\site-packages\\scikeras\\wrappers.py\", line 559, in _check_model_compatibility\n    if self.n_outputs_expected_ != len(self.model_.outputs):\n  File \"C:\\Users\\kwfen\\AppData\\Roaming\\Python\\Python310\\site-packages\\keras\\src\\models\\sequential.py\", line 283, in outputs\n    raise ValueError(\nValueError: Sequential model 'sequential_111' has no defined outputs yet.\n\n--------------------------------------------------------------------------------\n1 fits failed with the following error:\nTraceback (most recent call last):\n  File \"C:\\ProgramData\\anaconda3\\lib\\site-packages\\sklearn\\model_selection\\_validation.py\", line 686, in _fit_and_score\n    estimator.fit(X_train, y_train, **fit_params)\n  File \"C:\\Users\\kwfen\\AppData\\Roaming\\Python\\Python310\\site-packages\\scikeras\\wrappers.py\", line 1501, in fit\n    super().fit(X=X, y=y, sample_weight=sample_weight, **kwargs)\n  File \"C:\\Users\\kwfen\\AppData\\Roaming\\Python\\Python310\\site-packages\\scikeras\\wrappers.py\", line 770, in fit\n    self._fit(\n  File \"C:\\Users\\kwfen\\AppData\\Roaming\\Python\\Python310\\site-packages\\scikeras\\wrappers.py\", line 936, in _fit\n    self._check_model_compatibility(y)\n  File \"C:\\Users\\kwfen\\AppData\\Roaming\\Python\\Python310\\site-packages\\scikeras\\wrappers.py\", line 559, in _check_model_compatibility\n    if self.n_outputs_expected_ != len(self.model_.outputs):\n  File \"C:\\Users\\kwfen\\AppData\\Roaming\\Python\\Python310\\site-packages\\keras\\src\\models\\sequential.py\", line 283, in outputs\n    raise ValueError(\nValueError: Sequential model 'sequential_112' has no defined outputs yet.\n\n--------------------------------------------------------------------------------\n1 fits failed with the following error:\nTraceback (most recent call last):\n  File \"C:\\ProgramData\\anaconda3\\lib\\site-packages\\sklearn\\model_selection\\_validation.py\", line 686, in _fit_and_score\n    estimator.fit(X_train, y_train, **fit_params)\n  File \"C:\\Users\\kwfen\\AppData\\Roaming\\Python\\Python310\\site-packages\\scikeras\\wrappers.py\", line 1501, in fit\n    super().fit(X=X, y=y, sample_weight=sample_weight, **kwargs)\n  File \"C:\\Users\\kwfen\\AppData\\Roaming\\Python\\Python310\\site-packages\\scikeras\\wrappers.py\", line 770, in fit\n    self._fit(\n  File \"C:\\Users\\kwfen\\AppData\\Roaming\\Python\\Python310\\site-packages\\scikeras\\wrappers.py\", line 936, in _fit\n    self._check_model_compatibility(y)\n  File \"C:\\Users\\kwfen\\AppData\\Roaming\\Python\\Python310\\site-packages\\scikeras\\wrappers.py\", line 559, in _check_model_compatibility\n    if self.n_outputs_expected_ != len(self.model_.outputs):\n  File \"C:\\Users\\kwfen\\AppData\\Roaming\\Python\\Python310\\site-packages\\keras\\src\\models\\sequential.py\", line 283, in outputs\n    raise ValueError(\nValueError: Sequential model 'sequential_113' has no defined outputs yet.\n\n--------------------------------------------------------------------------------\n1 fits failed with the following error:\nTraceback (most recent call last):\n  File \"C:\\ProgramData\\anaconda3\\lib\\site-packages\\sklearn\\model_selection\\_validation.py\", line 686, in _fit_and_score\n    estimator.fit(X_train, y_train, **fit_params)\n  File \"C:\\Users\\kwfen\\AppData\\Roaming\\Python\\Python310\\site-packages\\scikeras\\wrappers.py\", line 1501, in fit\n    super().fit(X=X, y=y, sample_weight=sample_weight, **kwargs)\n  File \"C:\\Users\\kwfen\\AppData\\Roaming\\Python\\Python310\\site-packages\\scikeras\\wrappers.py\", line 770, in fit\n    self._fit(\n  File \"C:\\Users\\kwfen\\AppData\\Roaming\\Python\\Python310\\site-packages\\scikeras\\wrappers.py\", line 936, in _fit\n    self._check_model_compatibility(y)\n  File \"C:\\Users\\kwfen\\AppData\\Roaming\\Python\\Python310\\site-packages\\scikeras\\wrappers.py\", line 559, in _check_model_compatibility\n    if self.n_outputs_expected_ != len(self.model_.outputs):\n  File \"C:\\Users\\kwfen\\AppData\\Roaming\\Python\\Python310\\site-packages\\keras\\src\\models\\sequential.py\", line 283, in outputs\n    raise ValueError(\nValueError: Sequential model 'sequential_114' has no defined outputs yet.\n\n--------------------------------------------------------------------------------\n1 fits failed with the following error:\nTraceback (most recent call last):\n  File \"C:\\ProgramData\\anaconda3\\lib\\site-packages\\sklearn\\model_selection\\_validation.py\", line 686, in _fit_and_score\n    estimator.fit(X_train, y_train, **fit_params)\n  File \"C:\\Users\\kwfen\\AppData\\Roaming\\Python\\Python310\\site-packages\\scikeras\\wrappers.py\", line 1501, in fit\n    super().fit(X=X, y=y, sample_weight=sample_weight, **kwargs)\n  File \"C:\\Users\\kwfen\\AppData\\Roaming\\Python\\Python310\\site-packages\\scikeras\\wrappers.py\", line 770, in fit\n    self._fit(\n  File \"C:\\Users\\kwfen\\AppData\\Roaming\\Python\\Python310\\site-packages\\scikeras\\wrappers.py\", line 936, in _fit\n    self._check_model_compatibility(y)\n  File \"C:\\Users\\kwfen\\AppData\\Roaming\\Python\\Python310\\site-packages\\scikeras\\wrappers.py\", line 559, in _check_model_compatibility\n    if self.n_outputs_expected_ != len(self.model_.outputs):\n  File \"C:\\Users\\kwfen\\AppData\\Roaming\\Python\\Python310\\site-packages\\keras\\src\\models\\sequential.py\", line 283, in outputs\n    raise ValueError(\nValueError: Sequential model 'sequential_115' has no defined outputs yet.\n\n--------------------------------------------------------------------------------\n1 fits failed with the following error:\nTraceback (most recent call last):\n  File \"C:\\ProgramData\\anaconda3\\lib\\site-packages\\sklearn\\model_selection\\_validation.py\", line 686, in _fit_and_score\n    estimator.fit(X_train, y_train, **fit_params)\n  File \"C:\\Users\\kwfen\\AppData\\Roaming\\Python\\Python310\\site-packages\\scikeras\\wrappers.py\", line 1501, in fit\n    super().fit(X=X, y=y, sample_weight=sample_weight, **kwargs)\n  File \"C:\\Users\\kwfen\\AppData\\Roaming\\Python\\Python310\\site-packages\\scikeras\\wrappers.py\", line 770, in fit\n    self._fit(\n  File \"C:\\Users\\kwfen\\AppData\\Roaming\\Python\\Python310\\site-packages\\scikeras\\wrappers.py\", line 936, in _fit\n    self._check_model_compatibility(y)\n  File \"C:\\Users\\kwfen\\AppData\\Roaming\\Python\\Python310\\site-packages\\scikeras\\wrappers.py\", line 559, in _check_model_compatibility\n    if self.n_outputs_expected_ != len(self.model_.outputs):\n  File \"C:\\Users\\kwfen\\AppData\\Roaming\\Python\\Python310\\site-packages\\keras\\src\\models\\sequential.py\", line 283, in outputs\n    raise ValueError(\nValueError: Sequential model 'sequential_116' has no defined outputs yet.\n\n--------------------------------------------------------------------------------\n1 fits failed with the following error:\nTraceback (most recent call last):\n  File \"C:\\ProgramData\\anaconda3\\lib\\site-packages\\sklearn\\model_selection\\_validation.py\", line 686, in _fit_and_score\n    estimator.fit(X_train, y_train, **fit_params)\n  File \"C:\\Users\\kwfen\\AppData\\Roaming\\Python\\Python310\\site-packages\\scikeras\\wrappers.py\", line 1501, in fit\n    super().fit(X=X, y=y, sample_weight=sample_weight, **kwargs)\n  File \"C:\\Users\\kwfen\\AppData\\Roaming\\Python\\Python310\\site-packages\\scikeras\\wrappers.py\", line 770, in fit\n    self._fit(\n  File \"C:\\Users\\kwfen\\AppData\\Roaming\\Python\\Python310\\site-packages\\scikeras\\wrappers.py\", line 936, in _fit\n    self._check_model_compatibility(y)\n  File \"C:\\Users\\kwfen\\AppData\\Roaming\\Python\\Python310\\site-packages\\scikeras\\wrappers.py\", line 559, in _check_model_compatibility\n    if self.n_outputs_expected_ != len(self.model_.outputs):\n  File \"C:\\Users\\kwfen\\AppData\\Roaming\\Python\\Python310\\site-packages\\keras\\src\\models\\sequential.py\", line 283, in outputs\n    raise ValueError(\nValueError: Sequential model 'sequential_117' has no defined outputs yet.\n\n--------------------------------------------------------------------------------\n1 fits failed with the following error:\nTraceback (most recent call last):\n  File \"C:\\ProgramData\\anaconda3\\lib\\site-packages\\sklearn\\model_selection\\_validation.py\", line 686, in _fit_and_score\n    estimator.fit(X_train, y_train, **fit_params)\n  File \"C:\\Users\\kwfen\\AppData\\Roaming\\Python\\Python310\\site-packages\\scikeras\\wrappers.py\", line 1501, in fit\n    super().fit(X=X, y=y, sample_weight=sample_weight, **kwargs)\n  File \"C:\\Users\\kwfen\\AppData\\Roaming\\Python\\Python310\\site-packages\\scikeras\\wrappers.py\", line 770, in fit\n    self._fit(\n  File \"C:\\Users\\kwfen\\AppData\\Roaming\\Python\\Python310\\site-packages\\scikeras\\wrappers.py\", line 936, in _fit\n    self._check_model_compatibility(y)\n  File \"C:\\Users\\kwfen\\AppData\\Roaming\\Python\\Python310\\site-packages\\scikeras\\wrappers.py\", line 559, in _check_model_compatibility\n    if self.n_outputs_expected_ != len(self.model_.outputs):\n  File \"C:\\Users\\kwfen\\AppData\\Roaming\\Python\\Python310\\site-packages\\keras\\src\\models\\sequential.py\", line 283, in outputs\n    raise ValueError(\nValueError: Sequential model 'sequential_118' has no defined outputs yet.\n\n--------------------------------------------------------------------------------\n1 fits failed with the following error:\nTraceback (most recent call last):\n  File \"C:\\ProgramData\\anaconda3\\lib\\site-packages\\sklearn\\model_selection\\_validation.py\", line 686, in _fit_and_score\n    estimator.fit(X_train, y_train, **fit_params)\n  File \"C:\\Users\\kwfen\\AppData\\Roaming\\Python\\Python310\\site-packages\\scikeras\\wrappers.py\", line 1501, in fit\n    super().fit(X=X, y=y, sample_weight=sample_weight, **kwargs)\n  File \"C:\\Users\\kwfen\\AppData\\Roaming\\Python\\Python310\\site-packages\\scikeras\\wrappers.py\", line 770, in fit\n    self._fit(\n  File \"C:\\Users\\kwfen\\AppData\\Roaming\\Python\\Python310\\site-packages\\scikeras\\wrappers.py\", line 936, in _fit\n    self._check_model_compatibility(y)\n  File \"C:\\Users\\kwfen\\AppData\\Roaming\\Python\\Python310\\site-packages\\scikeras\\wrappers.py\", line 559, in _check_model_compatibility\n    if self.n_outputs_expected_ != len(self.model_.outputs):\n  File \"C:\\Users\\kwfen\\AppData\\Roaming\\Python\\Python310\\site-packages\\keras\\src\\models\\sequential.py\", line 283, in outputs\n    raise ValueError(\nValueError: Sequential model 'sequential_119' has no defined outputs yet.\n\n--------------------------------------------------------------------------------\n1 fits failed with the following error:\nTraceback (most recent call last):\n  File \"C:\\ProgramData\\anaconda3\\lib\\site-packages\\sklearn\\model_selection\\_validation.py\", line 686, in _fit_and_score\n    estimator.fit(X_train, y_train, **fit_params)\n  File \"C:\\Users\\kwfen\\AppData\\Roaming\\Python\\Python310\\site-packages\\scikeras\\wrappers.py\", line 1501, in fit\n    super().fit(X=X, y=y, sample_weight=sample_weight, **kwargs)\n  File \"C:\\Users\\kwfen\\AppData\\Roaming\\Python\\Python310\\site-packages\\scikeras\\wrappers.py\", line 770, in fit\n    self._fit(\n  File \"C:\\Users\\kwfen\\AppData\\Roaming\\Python\\Python310\\site-packages\\scikeras\\wrappers.py\", line 936, in _fit\n    self._check_model_compatibility(y)\n  File \"C:\\Users\\kwfen\\AppData\\Roaming\\Python\\Python310\\site-packages\\scikeras\\wrappers.py\", line 559, in _check_model_compatibility\n    if self.n_outputs_expected_ != len(self.model_.outputs):\n  File \"C:\\Users\\kwfen\\AppData\\Roaming\\Python\\Python310\\site-packages\\keras\\src\\models\\sequential.py\", line 283, in outputs\n    raise ValueError(\nValueError: Sequential model 'sequential_120' has no defined outputs yet.\n\n--------------------------------------------------------------------------------\n1 fits failed with the following error:\nTraceback (most recent call last):\n  File \"C:\\ProgramData\\anaconda3\\lib\\site-packages\\sklearn\\model_selection\\_validation.py\", line 686, in _fit_and_score\n    estimator.fit(X_train, y_train, **fit_params)\n  File \"C:\\Users\\kwfen\\AppData\\Roaming\\Python\\Python310\\site-packages\\scikeras\\wrappers.py\", line 1501, in fit\n    super().fit(X=X, y=y, sample_weight=sample_weight, **kwargs)\n  File \"C:\\Users\\kwfen\\AppData\\Roaming\\Python\\Python310\\site-packages\\scikeras\\wrappers.py\", line 770, in fit\n    self._fit(\n  File \"C:\\Users\\kwfen\\AppData\\Roaming\\Python\\Python310\\site-packages\\scikeras\\wrappers.py\", line 936, in _fit\n    self._check_model_compatibility(y)\n  File \"C:\\Users\\kwfen\\AppData\\Roaming\\Python\\Python310\\site-packages\\scikeras\\wrappers.py\", line 559, in _check_model_compatibility\n    if self.n_outputs_expected_ != len(self.model_.outputs):\n  File \"C:\\Users\\kwfen\\AppData\\Roaming\\Python\\Python310\\site-packages\\keras\\src\\models\\sequential.py\", line 283, in outputs\n    raise ValueError(\nValueError: Sequential model 'sequential_121' has no defined outputs yet.\n\n--------------------------------------------------------------------------------\n1 fits failed with the following error:\nTraceback (most recent call last):\n  File \"C:\\ProgramData\\anaconda3\\lib\\site-packages\\sklearn\\model_selection\\_validation.py\", line 686, in _fit_and_score\n    estimator.fit(X_train, y_train, **fit_params)\n  File \"C:\\Users\\kwfen\\AppData\\Roaming\\Python\\Python310\\site-packages\\scikeras\\wrappers.py\", line 1501, in fit\n    super().fit(X=X, y=y, sample_weight=sample_weight, **kwargs)\n  File \"C:\\Users\\kwfen\\AppData\\Roaming\\Python\\Python310\\site-packages\\scikeras\\wrappers.py\", line 770, in fit\n    self._fit(\n  File \"C:\\Users\\kwfen\\AppData\\Roaming\\Python\\Python310\\site-packages\\scikeras\\wrappers.py\", line 936, in _fit\n    self._check_model_compatibility(y)\n  File \"C:\\Users\\kwfen\\AppData\\Roaming\\Python\\Python310\\site-packages\\scikeras\\wrappers.py\", line 559, in _check_model_compatibility\n    if self.n_outputs_expected_ != len(self.model_.outputs):\n  File \"C:\\Users\\kwfen\\AppData\\Roaming\\Python\\Python310\\site-packages\\keras\\src\\models\\sequential.py\", line 283, in outputs\n    raise ValueError(\nValueError: Sequential model 'sequential_122' has no defined outputs yet.\n\n--------------------------------------------------------------------------------\n1 fits failed with the following error:\nTraceback (most recent call last):\n  File \"C:\\ProgramData\\anaconda3\\lib\\site-packages\\sklearn\\model_selection\\_validation.py\", line 686, in _fit_and_score\n    estimator.fit(X_train, y_train, **fit_params)\n  File \"C:\\Users\\kwfen\\AppData\\Roaming\\Python\\Python310\\site-packages\\scikeras\\wrappers.py\", line 1501, in fit\n    super().fit(X=X, y=y, sample_weight=sample_weight, **kwargs)\n  File \"C:\\Users\\kwfen\\AppData\\Roaming\\Python\\Python310\\site-packages\\scikeras\\wrappers.py\", line 770, in fit\n    self._fit(\n  File \"C:\\Users\\kwfen\\AppData\\Roaming\\Python\\Python310\\site-packages\\scikeras\\wrappers.py\", line 936, in _fit\n    self._check_model_compatibility(y)\n  File \"C:\\Users\\kwfen\\AppData\\Roaming\\Python\\Python310\\site-packages\\scikeras\\wrappers.py\", line 559, in _check_model_compatibility\n    if self.n_outputs_expected_ != len(self.model_.outputs):\n  File \"C:\\Users\\kwfen\\AppData\\Roaming\\Python\\Python310\\site-packages\\keras\\src\\models\\sequential.py\", line 283, in outputs\n    raise ValueError(\nValueError: Sequential model 'sequential_123' has no defined outputs yet.\n\n--------------------------------------------------------------------------------\n1 fits failed with the following error:\nTraceback (most recent call last):\n  File \"C:\\ProgramData\\anaconda3\\lib\\site-packages\\sklearn\\model_selection\\_validation.py\", line 686, in _fit_and_score\n    estimator.fit(X_train, y_train, **fit_params)\n  File \"C:\\Users\\kwfen\\AppData\\Roaming\\Python\\Python310\\site-packages\\scikeras\\wrappers.py\", line 1501, in fit\n    super().fit(X=X, y=y, sample_weight=sample_weight, **kwargs)\n  File \"C:\\Users\\kwfen\\AppData\\Roaming\\Python\\Python310\\site-packages\\scikeras\\wrappers.py\", line 770, in fit\n    self._fit(\n  File \"C:\\Users\\kwfen\\AppData\\Roaming\\Python\\Python310\\site-packages\\scikeras\\wrappers.py\", line 936, in _fit\n    self._check_model_compatibility(y)\n  File \"C:\\Users\\kwfen\\AppData\\Roaming\\Python\\Python310\\site-packages\\scikeras\\wrappers.py\", line 559, in _check_model_compatibility\n    if self.n_outputs_expected_ != len(self.model_.outputs):\n  File \"C:\\Users\\kwfen\\AppData\\Roaming\\Python\\Python310\\site-packages\\keras\\src\\models\\sequential.py\", line 283, in outputs\n    raise ValueError(\nValueError: Sequential model 'sequential_124' has no defined outputs yet.\n\n--------------------------------------------------------------------------------\n1 fits failed with the following error:\nTraceback (most recent call last):\n  File \"C:\\ProgramData\\anaconda3\\lib\\site-packages\\sklearn\\model_selection\\_validation.py\", line 686, in _fit_and_score\n    estimator.fit(X_train, y_train, **fit_params)\n  File \"C:\\Users\\kwfen\\AppData\\Roaming\\Python\\Python310\\site-packages\\scikeras\\wrappers.py\", line 1501, in fit\n    super().fit(X=X, y=y, sample_weight=sample_weight, **kwargs)\n  File \"C:\\Users\\kwfen\\AppData\\Roaming\\Python\\Python310\\site-packages\\scikeras\\wrappers.py\", line 770, in fit\n    self._fit(\n  File \"C:\\Users\\kwfen\\AppData\\Roaming\\Python\\Python310\\site-packages\\scikeras\\wrappers.py\", line 936, in _fit\n    self._check_model_compatibility(y)\n  File \"C:\\Users\\kwfen\\AppData\\Roaming\\Python\\Python310\\site-packages\\scikeras\\wrappers.py\", line 559, in _check_model_compatibility\n    if self.n_outputs_expected_ != len(self.model_.outputs):\n  File \"C:\\Users\\kwfen\\AppData\\Roaming\\Python\\Python310\\site-packages\\keras\\src\\models\\sequential.py\", line 283, in outputs\n    raise ValueError(\nValueError: Sequential model 'sequential_125' has no defined outputs yet.\n\n--------------------------------------------------------------------------------\n1 fits failed with the following error:\nTraceback (most recent call last):\n  File \"C:\\ProgramData\\anaconda3\\lib\\site-packages\\sklearn\\model_selection\\_validation.py\", line 686, in _fit_and_score\n    estimator.fit(X_train, y_train, **fit_params)\n  File \"C:\\Users\\kwfen\\AppData\\Roaming\\Python\\Python310\\site-packages\\scikeras\\wrappers.py\", line 1501, in fit\n    super().fit(X=X, y=y, sample_weight=sample_weight, **kwargs)\n  File \"C:\\Users\\kwfen\\AppData\\Roaming\\Python\\Python310\\site-packages\\scikeras\\wrappers.py\", line 770, in fit\n    self._fit(\n  File \"C:\\Users\\kwfen\\AppData\\Roaming\\Python\\Python310\\site-packages\\scikeras\\wrappers.py\", line 936, in _fit\n    self._check_model_compatibility(y)\n  File \"C:\\Users\\kwfen\\AppData\\Roaming\\Python\\Python310\\site-packages\\scikeras\\wrappers.py\", line 559, in _check_model_compatibility\n    if self.n_outputs_expected_ != len(self.model_.outputs):\n  File \"C:\\Users\\kwfen\\AppData\\Roaming\\Python\\Python310\\site-packages\\keras\\src\\models\\sequential.py\", line 283, in outputs\n    raise ValueError(\nValueError: Sequential model 'sequential_126' has no defined outputs yet.\n\n--------------------------------------------------------------------------------\n1 fits failed with the following error:\nTraceback (most recent call last):\n  File \"C:\\ProgramData\\anaconda3\\lib\\site-packages\\sklearn\\model_selection\\_validation.py\", line 686, in _fit_and_score\n    estimator.fit(X_train, y_train, **fit_params)\n  File \"C:\\Users\\kwfen\\AppData\\Roaming\\Python\\Python310\\site-packages\\scikeras\\wrappers.py\", line 1501, in fit\n    super().fit(X=X, y=y, sample_weight=sample_weight, **kwargs)\n  File \"C:\\Users\\kwfen\\AppData\\Roaming\\Python\\Python310\\site-packages\\scikeras\\wrappers.py\", line 770, in fit\n    self._fit(\n  File \"C:\\Users\\kwfen\\AppData\\Roaming\\Python\\Python310\\site-packages\\scikeras\\wrappers.py\", line 936, in _fit\n    self._check_model_compatibility(y)\n  File \"C:\\Users\\kwfen\\AppData\\Roaming\\Python\\Python310\\site-packages\\scikeras\\wrappers.py\", line 559, in _check_model_compatibility\n    if self.n_outputs_expected_ != len(self.model_.outputs):\n  File \"C:\\Users\\kwfen\\AppData\\Roaming\\Python\\Python310\\site-packages\\keras\\src\\models\\sequential.py\", line 283, in outputs\n    raise ValueError(\nValueError: Sequential model 'sequential_127' has no defined outputs yet.\n\n--------------------------------------------------------------------------------\n1 fits failed with the following error:\nTraceback (most recent call last):\n  File \"C:\\ProgramData\\anaconda3\\lib\\site-packages\\sklearn\\model_selection\\_validation.py\", line 686, in _fit_and_score\n    estimator.fit(X_train, y_train, **fit_params)\n  File \"C:\\Users\\kwfen\\AppData\\Roaming\\Python\\Python310\\site-packages\\scikeras\\wrappers.py\", line 1501, in fit\n    super().fit(X=X, y=y, sample_weight=sample_weight, **kwargs)\n  File \"C:\\Users\\kwfen\\AppData\\Roaming\\Python\\Python310\\site-packages\\scikeras\\wrappers.py\", line 770, in fit\n    self._fit(\n  File \"C:\\Users\\kwfen\\AppData\\Roaming\\Python\\Python310\\site-packages\\scikeras\\wrappers.py\", line 936, in _fit\n    self._check_model_compatibility(y)\n  File \"C:\\Users\\kwfen\\AppData\\Roaming\\Python\\Python310\\site-packages\\scikeras\\wrappers.py\", line 559, in _check_model_compatibility\n    if self.n_outputs_expected_ != len(self.model_.outputs):\n  File \"C:\\Users\\kwfen\\AppData\\Roaming\\Python\\Python310\\site-packages\\keras\\src\\models\\sequential.py\", line 283, in outputs\n    raise ValueError(\nValueError: Sequential model 'sequential_128' has no defined outputs yet.\n\n--------------------------------------------------------------------------------\n1 fits failed with the following error:\nTraceback (most recent call last):\n  File \"C:\\ProgramData\\anaconda3\\lib\\site-packages\\sklearn\\model_selection\\_validation.py\", line 686, in _fit_and_score\n    estimator.fit(X_train, y_train, **fit_params)\n  File \"C:\\Users\\kwfen\\AppData\\Roaming\\Python\\Python310\\site-packages\\scikeras\\wrappers.py\", line 1501, in fit\n    super().fit(X=X, y=y, sample_weight=sample_weight, **kwargs)\n  File \"C:\\Users\\kwfen\\AppData\\Roaming\\Python\\Python310\\site-packages\\scikeras\\wrappers.py\", line 770, in fit\n    self._fit(\n  File \"C:\\Users\\kwfen\\AppData\\Roaming\\Python\\Python310\\site-packages\\scikeras\\wrappers.py\", line 936, in _fit\n    self._check_model_compatibility(y)\n  File \"C:\\Users\\kwfen\\AppData\\Roaming\\Python\\Python310\\site-packages\\scikeras\\wrappers.py\", line 559, in _check_model_compatibility\n    if self.n_outputs_expected_ != len(self.model_.outputs):\n  File \"C:\\Users\\kwfen\\AppData\\Roaming\\Python\\Python310\\site-packages\\keras\\src\\models\\sequential.py\", line 283, in outputs\n    raise ValueError(\nValueError: Sequential model 'sequential_129' has no defined outputs yet.\n\n--------------------------------------------------------------------------------\n1 fits failed with the following error:\nTraceback (most recent call last):\n  File \"C:\\ProgramData\\anaconda3\\lib\\site-packages\\sklearn\\model_selection\\_validation.py\", line 686, in _fit_and_score\n    estimator.fit(X_train, y_train, **fit_params)\n  File \"C:\\Users\\kwfen\\AppData\\Roaming\\Python\\Python310\\site-packages\\scikeras\\wrappers.py\", line 1501, in fit\n    super().fit(X=X, y=y, sample_weight=sample_weight, **kwargs)\n  File \"C:\\Users\\kwfen\\AppData\\Roaming\\Python\\Python310\\site-packages\\scikeras\\wrappers.py\", line 770, in fit\n    self._fit(\n  File \"C:\\Users\\kwfen\\AppData\\Roaming\\Python\\Python310\\site-packages\\scikeras\\wrappers.py\", line 936, in _fit\n    self._check_model_compatibility(y)\n  File \"C:\\Users\\kwfen\\AppData\\Roaming\\Python\\Python310\\site-packages\\scikeras\\wrappers.py\", line 559, in _check_model_compatibility\n    if self.n_outputs_expected_ != len(self.model_.outputs):\n  File \"C:\\Users\\kwfen\\AppData\\Roaming\\Python\\Python310\\site-packages\\keras\\src\\models\\sequential.py\", line 283, in outputs\n    raise ValueError(\nValueError: Sequential model 'sequential_130' has no defined outputs yet.\n\n--------------------------------------------------------------------------------\n1 fits failed with the following error:\nTraceback (most recent call last):\n  File \"C:\\ProgramData\\anaconda3\\lib\\site-packages\\sklearn\\model_selection\\_validation.py\", line 686, in _fit_and_score\n    estimator.fit(X_train, y_train, **fit_params)\n  File \"C:\\Users\\kwfen\\AppData\\Roaming\\Python\\Python310\\site-packages\\scikeras\\wrappers.py\", line 1501, in fit\n    super().fit(X=X, y=y, sample_weight=sample_weight, **kwargs)\n  File \"C:\\Users\\kwfen\\AppData\\Roaming\\Python\\Python310\\site-packages\\scikeras\\wrappers.py\", line 770, in fit\n    self._fit(\n  File \"C:\\Users\\kwfen\\AppData\\Roaming\\Python\\Python310\\site-packages\\scikeras\\wrappers.py\", line 936, in _fit\n    self._check_model_compatibility(y)\n  File \"C:\\Users\\kwfen\\AppData\\Roaming\\Python\\Python310\\site-packages\\scikeras\\wrappers.py\", line 559, in _check_model_compatibility\n    if self.n_outputs_expected_ != len(self.model_.outputs):\n  File \"C:\\Users\\kwfen\\AppData\\Roaming\\Python\\Python310\\site-packages\\keras\\src\\models\\sequential.py\", line 283, in outputs\n    raise ValueError(\nValueError: Sequential model 'sequential_131' has no defined outputs yet.\n\n--------------------------------------------------------------------------------\n1 fits failed with the following error:\nTraceback (most recent call last):\n  File \"C:\\ProgramData\\anaconda3\\lib\\site-packages\\sklearn\\model_selection\\_validation.py\", line 686, in _fit_and_score\n    estimator.fit(X_train, y_train, **fit_params)\n  File \"C:\\Users\\kwfen\\AppData\\Roaming\\Python\\Python310\\site-packages\\scikeras\\wrappers.py\", line 1501, in fit\n    super().fit(X=X, y=y, sample_weight=sample_weight, **kwargs)\n  File \"C:\\Users\\kwfen\\AppData\\Roaming\\Python\\Python310\\site-packages\\scikeras\\wrappers.py\", line 770, in fit\n    self._fit(\n  File \"C:\\Users\\kwfen\\AppData\\Roaming\\Python\\Python310\\site-packages\\scikeras\\wrappers.py\", line 936, in _fit\n    self._check_model_compatibility(y)\n  File \"C:\\Users\\kwfen\\AppData\\Roaming\\Python\\Python310\\site-packages\\scikeras\\wrappers.py\", line 559, in _check_model_compatibility\n    if self.n_outputs_expected_ != len(self.model_.outputs):\n  File \"C:\\Users\\kwfen\\AppData\\Roaming\\Python\\Python310\\site-packages\\keras\\src\\models\\sequential.py\", line 283, in outputs\n    raise ValueError(\nValueError: Sequential model 'sequential_132' has no defined outputs yet.\n\n--------------------------------------------------------------------------------\n1 fits failed with the following error:\nTraceback (most recent call last):\n  File \"C:\\ProgramData\\anaconda3\\lib\\site-packages\\sklearn\\model_selection\\_validation.py\", line 686, in _fit_and_score\n    estimator.fit(X_train, y_train, **fit_params)\n  File \"C:\\Users\\kwfen\\AppData\\Roaming\\Python\\Python310\\site-packages\\scikeras\\wrappers.py\", line 1501, in fit\n    super().fit(X=X, y=y, sample_weight=sample_weight, **kwargs)\n  File \"C:\\Users\\kwfen\\AppData\\Roaming\\Python\\Python310\\site-packages\\scikeras\\wrappers.py\", line 770, in fit\n    self._fit(\n  File \"C:\\Users\\kwfen\\AppData\\Roaming\\Python\\Python310\\site-packages\\scikeras\\wrappers.py\", line 936, in _fit\n    self._check_model_compatibility(y)\n  File \"C:\\Users\\kwfen\\AppData\\Roaming\\Python\\Python310\\site-packages\\scikeras\\wrappers.py\", line 559, in _check_model_compatibility\n    if self.n_outputs_expected_ != len(self.model_.outputs):\n  File \"C:\\Users\\kwfen\\AppData\\Roaming\\Python\\Python310\\site-packages\\keras\\src\\models\\sequential.py\", line 283, in outputs\n    raise ValueError(\nValueError: Sequential model 'sequential_133' has no defined outputs yet.\n\n--------------------------------------------------------------------------------\n1 fits failed with the following error:\nTraceback (most recent call last):\n  File \"C:\\ProgramData\\anaconda3\\lib\\site-packages\\sklearn\\model_selection\\_validation.py\", line 686, in _fit_and_score\n    estimator.fit(X_train, y_train, **fit_params)\n  File \"C:\\Users\\kwfen\\AppData\\Roaming\\Python\\Python310\\site-packages\\scikeras\\wrappers.py\", line 1501, in fit\n    super().fit(X=X, y=y, sample_weight=sample_weight, **kwargs)\n  File \"C:\\Users\\kwfen\\AppData\\Roaming\\Python\\Python310\\site-packages\\scikeras\\wrappers.py\", line 770, in fit\n    self._fit(\n  File \"C:\\Users\\kwfen\\AppData\\Roaming\\Python\\Python310\\site-packages\\scikeras\\wrappers.py\", line 936, in _fit\n    self._check_model_compatibility(y)\n  File \"C:\\Users\\kwfen\\AppData\\Roaming\\Python\\Python310\\site-packages\\scikeras\\wrappers.py\", line 559, in _check_model_compatibility\n    if self.n_outputs_expected_ != len(self.model_.outputs):\n  File \"C:\\Users\\kwfen\\AppData\\Roaming\\Python\\Python310\\site-packages\\keras\\src\\models\\sequential.py\", line 283, in outputs\n    raise ValueError(\nValueError: Sequential model 'sequential_134' has no defined outputs yet.\n\n--------------------------------------------------------------------------------\n1 fits failed with the following error:\nTraceback (most recent call last):\n  File \"C:\\ProgramData\\anaconda3\\lib\\site-packages\\sklearn\\model_selection\\_validation.py\", line 686, in _fit_and_score\n    estimator.fit(X_train, y_train, **fit_params)\n  File \"C:\\Users\\kwfen\\AppData\\Roaming\\Python\\Python310\\site-packages\\scikeras\\wrappers.py\", line 1501, in fit\n    super().fit(X=X, y=y, sample_weight=sample_weight, **kwargs)\n  File \"C:\\Users\\kwfen\\AppData\\Roaming\\Python\\Python310\\site-packages\\scikeras\\wrappers.py\", line 770, in fit\n    self._fit(\n  File \"C:\\Users\\kwfen\\AppData\\Roaming\\Python\\Python310\\site-packages\\scikeras\\wrappers.py\", line 936, in _fit\n    self._check_model_compatibility(y)\n  File \"C:\\Users\\kwfen\\AppData\\Roaming\\Python\\Python310\\site-packages\\scikeras\\wrappers.py\", line 559, in _check_model_compatibility\n    if self.n_outputs_expected_ != len(self.model_.outputs):\n  File \"C:\\Users\\kwfen\\AppData\\Roaming\\Python\\Python310\\site-packages\\keras\\src\\models\\sequential.py\", line 283, in outputs\n    raise ValueError(\nValueError: Sequential model 'sequential_135' has no defined outputs yet.\n\n--------------------------------------------------------------------------------\n1 fits failed with the following error:\nTraceback (most recent call last):\n  File \"C:\\ProgramData\\anaconda3\\lib\\site-packages\\sklearn\\model_selection\\_validation.py\", line 686, in _fit_and_score\n    estimator.fit(X_train, y_train, **fit_params)\n  File \"C:\\Users\\kwfen\\AppData\\Roaming\\Python\\Python310\\site-packages\\scikeras\\wrappers.py\", line 1501, in fit\n    super().fit(X=X, y=y, sample_weight=sample_weight, **kwargs)\n  File \"C:\\Users\\kwfen\\AppData\\Roaming\\Python\\Python310\\site-packages\\scikeras\\wrappers.py\", line 770, in fit\n    self._fit(\n  File \"C:\\Users\\kwfen\\AppData\\Roaming\\Python\\Python310\\site-packages\\scikeras\\wrappers.py\", line 936, in _fit\n    self._check_model_compatibility(y)\n  File \"C:\\Users\\kwfen\\AppData\\Roaming\\Python\\Python310\\site-packages\\scikeras\\wrappers.py\", line 559, in _check_model_compatibility\n    if self.n_outputs_expected_ != len(self.model_.outputs):\n  File \"C:\\Users\\kwfen\\AppData\\Roaming\\Python\\Python310\\site-packages\\keras\\src\\models\\sequential.py\", line 283, in outputs\n    raise ValueError(\nValueError: Sequential model 'sequential_136' has no defined outputs yet.\n\n--------------------------------------------------------------------------------\n1 fits failed with the following error:\nTraceback (most recent call last):\n  File \"C:\\ProgramData\\anaconda3\\lib\\site-packages\\sklearn\\model_selection\\_validation.py\", line 686, in _fit_and_score\n    estimator.fit(X_train, y_train, **fit_params)\n  File \"C:\\Users\\kwfen\\AppData\\Roaming\\Python\\Python310\\site-packages\\scikeras\\wrappers.py\", line 1501, in fit\n    super().fit(X=X, y=y, sample_weight=sample_weight, **kwargs)\n  File \"C:\\Users\\kwfen\\AppData\\Roaming\\Python\\Python310\\site-packages\\scikeras\\wrappers.py\", line 770, in fit\n    self._fit(\n  File \"C:\\Users\\kwfen\\AppData\\Roaming\\Python\\Python310\\site-packages\\scikeras\\wrappers.py\", line 936, in _fit\n    self._check_model_compatibility(y)\n  File \"C:\\Users\\kwfen\\AppData\\Roaming\\Python\\Python310\\site-packages\\scikeras\\wrappers.py\", line 559, in _check_model_compatibility\n    if self.n_outputs_expected_ != len(self.model_.outputs):\n  File \"C:\\Users\\kwfen\\AppData\\Roaming\\Python\\Python310\\site-packages\\keras\\src\\models\\sequential.py\", line 283, in outputs\n    raise ValueError(\nValueError: Sequential model 'sequential_137' has no defined outputs yet.\n\n--------------------------------------------------------------------------------\n1 fits failed with the following error:\nTraceback (most recent call last):\n  File \"C:\\ProgramData\\anaconda3\\lib\\site-packages\\sklearn\\model_selection\\_validation.py\", line 686, in _fit_and_score\n    estimator.fit(X_train, y_train, **fit_params)\n  File \"C:\\Users\\kwfen\\AppData\\Roaming\\Python\\Python310\\site-packages\\scikeras\\wrappers.py\", line 1501, in fit\n    super().fit(X=X, y=y, sample_weight=sample_weight, **kwargs)\n  File \"C:\\Users\\kwfen\\AppData\\Roaming\\Python\\Python310\\site-packages\\scikeras\\wrappers.py\", line 770, in fit\n    self._fit(\n  File \"C:\\Users\\kwfen\\AppData\\Roaming\\Python\\Python310\\site-packages\\scikeras\\wrappers.py\", line 936, in _fit\n    self._check_model_compatibility(y)\n  File \"C:\\Users\\kwfen\\AppData\\Roaming\\Python\\Python310\\site-packages\\scikeras\\wrappers.py\", line 559, in _check_model_compatibility\n    if self.n_outputs_expected_ != len(self.model_.outputs):\n  File \"C:\\Users\\kwfen\\AppData\\Roaming\\Python\\Python310\\site-packages\\keras\\src\\models\\sequential.py\", line 283, in outputs\n    raise ValueError(\nValueError: Sequential model 'sequential_138' has no defined outputs yet.\n\n--------------------------------------------------------------------------------\n1 fits failed with the following error:\nTraceback (most recent call last):\n  File \"C:\\ProgramData\\anaconda3\\lib\\site-packages\\sklearn\\model_selection\\_validation.py\", line 686, in _fit_and_score\n    estimator.fit(X_train, y_train, **fit_params)\n  File \"C:\\Users\\kwfen\\AppData\\Roaming\\Python\\Python310\\site-packages\\scikeras\\wrappers.py\", line 1501, in fit\n    super().fit(X=X, y=y, sample_weight=sample_weight, **kwargs)\n  File \"C:\\Users\\kwfen\\AppData\\Roaming\\Python\\Python310\\site-packages\\scikeras\\wrappers.py\", line 770, in fit\n    self._fit(\n  File \"C:\\Users\\kwfen\\AppData\\Roaming\\Python\\Python310\\site-packages\\scikeras\\wrappers.py\", line 936, in _fit\n    self._check_model_compatibility(y)\n  File \"C:\\Users\\kwfen\\AppData\\Roaming\\Python\\Python310\\site-packages\\scikeras\\wrappers.py\", line 559, in _check_model_compatibility\n    if self.n_outputs_expected_ != len(self.model_.outputs):\n  File \"C:\\Users\\kwfen\\AppData\\Roaming\\Python\\Python310\\site-packages\\keras\\src\\models\\sequential.py\", line 283, in outputs\n    raise ValueError(\nValueError: Sequential model 'sequential_139' has no defined outputs yet.\n\n--------------------------------------------------------------------------------\n1 fits failed with the following error:\nTraceback (most recent call last):\n  File \"C:\\ProgramData\\anaconda3\\lib\\site-packages\\sklearn\\model_selection\\_validation.py\", line 686, in _fit_and_score\n    estimator.fit(X_train, y_train, **fit_params)\n  File \"C:\\Users\\kwfen\\AppData\\Roaming\\Python\\Python310\\site-packages\\scikeras\\wrappers.py\", line 1501, in fit\n    super().fit(X=X, y=y, sample_weight=sample_weight, **kwargs)\n  File \"C:\\Users\\kwfen\\AppData\\Roaming\\Python\\Python310\\site-packages\\scikeras\\wrappers.py\", line 770, in fit\n    self._fit(\n  File \"C:\\Users\\kwfen\\AppData\\Roaming\\Python\\Python310\\site-packages\\scikeras\\wrappers.py\", line 936, in _fit\n    self._check_model_compatibility(y)\n  File \"C:\\Users\\kwfen\\AppData\\Roaming\\Python\\Python310\\site-packages\\scikeras\\wrappers.py\", line 559, in _check_model_compatibility\n    if self.n_outputs_expected_ != len(self.model_.outputs):\n  File \"C:\\Users\\kwfen\\AppData\\Roaming\\Python\\Python310\\site-packages\\keras\\src\\models\\sequential.py\", line 283, in outputs\n    raise ValueError(\nValueError: Sequential model 'sequential_140' has no defined outputs yet.\n\n--------------------------------------------------------------------------------\n1 fits failed with the following error:\nTraceback (most recent call last):\n  File \"C:\\ProgramData\\anaconda3\\lib\\site-packages\\sklearn\\model_selection\\_validation.py\", line 686, in _fit_and_score\n    estimator.fit(X_train, y_train, **fit_params)\n  File \"C:\\Users\\kwfen\\AppData\\Roaming\\Python\\Python310\\site-packages\\scikeras\\wrappers.py\", line 1501, in fit\n    super().fit(X=X, y=y, sample_weight=sample_weight, **kwargs)\n  File \"C:\\Users\\kwfen\\AppData\\Roaming\\Python\\Python310\\site-packages\\scikeras\\wrappers.py\", line 770, in fit\n    self._fit(\n  File \"C:\\Users\\kwfen\\AppData\\Roaming\\Python\\Python310\\site-packages\\scikeras\\wrappers.py\", line 936, in _fit\n    self._check_model_compatibility(y)\n  File \"C:\\Users\\kwfen\\AppData\\Roaming\\Python\\Python310\\site-packages\\scikeras\\wrappers.py\", line 559, in _check_model_compatibility\n    if self.n_outputs_expected_ != len(self.model_.outputs):\n  File \"C:\\Users\\kwfen\\AppData\\Roaming\\Python\\Python310\\site-packages\\keras\\src\\models\\sequential.py\", line 283, in outputs\n    raise ValueError(\nValueError: Sequential model 'sequential_141' has no defined outputs yet.\n\n--------------------------------------------------------------------------------\n1 fits failed with the following error:\nTraceback (most recent call last):\n  File \"C:\\ProgramData\\anaconda3\\lib\\site-packages\\sklearn\\model_selection\\_validation.py\", line 686, in _fit_and_score\n    estimator.fit(X_train, y_train, **fit_params)\n  File \"C:\\Users\\kwfen\\AppData\\Roaming\\Python\\Python310\\site-packages\\scikeras\\wrappers.py\", line 1501, in fit\n    super().fit(X=X, y=y, sample_weight=sample_weight, **kwargs)\n  File \"C:\\Users\\kwfen\\AppData\\Roaming\\Python\\Python310\\site-packages\\scikeras\\wrappers.py\", line 770, in fit\n    self._fit(\n  File \"C:\\Users\\kwfen\\AppData\\Roaming\\Python\\Python310\\site-packages\\scikeras\\wrappers.py\", line 936, in _fit\n    self._check_model_compatibility(y)\n  File \"C:\\Users\\kwfen\\AppData\\Roaming\\Python\\Python310\\site-packages\\scikeras\\wrappers.py\", line 559, in _check_model_compatibility\n    if self.n_outputs_expected_ != len(self.model_.outputs):\n  File \"C:\\Users\\kwfen\\AppData\\Roaming\\Python\\Python310\\site-packages\\keras\\src\\models\\sequential.py\", line 283, in outputs\n    raise ValueError(\nValueError: Sequential model 'sequential_142' has no defined outputs yet.\n\n--------------------------------------------------------------------------------\n1 fits failed with the following error:\nTraceback (most recent call last):\n  File \"C:\\ProgramData\\anaconda3\\lib\\site-packages\\sklearn\\model_selection\\_validation.py\", line 686, in _fit_and_score\n    estimator.fit(X_train, y_train, **fit_params)\n  File \"C:\\Users\\kwfen\\AppData\\Roaming\\Python\\Python310\\site-packages\\scikeras\\wrappers.py\", line 1501, in fit\n    super().fit(X=X, y=y, sample_weight=sample_weight, **kwargs)\n  File \"C:\\Users\\kwfen\\AppData\\Roaming\\Python\\Python310\\site-packages\\scikeras\\wrappers.py\", line 770, in fit\n    self._fit(\n  File \"C:\\Users\\kwfen\\AppData\\Roaming\\Python\\Python310\\site-packages\\scikeras\\wrappers.py\", line 936, in _fit\n    self._check_model_compatibility(y)\n  File \"C:\\Users\\kwfen\\AppData\\Roaming\\Python\\Python310\\site-packages\\scikeras\\wrappers.py\", line 559, in _check_model_compatibility\n    if self.n_outputs_expected_ != len(self.model_.outputs):\n  File \"C:\\Users\\kwfen\\AppData\\Roaming\\Python\\Python310\\site-packages\\keras\\src\\models\\sequential.py\", line 283, in outputs\n    raise ValueError(\nValueError: Sequential model 'sequential_143' has no defined outputs yet.\n",
     "output_type": "error",
     "traceback": [
      "\u001b[1;31m---------------------------------------------------------------------------\u001b[0m",
      "\u001b[1;31mValueError\u001b[0m                                Traceback (most recent call last)",
      "File \u001b[1;32m<timed exec>:1\u001b[0m\n",
      "File \u001b[1;32mC:\\ProgramData\\anaconda3\\lib\\site-packages\\sklearn\\model_selection\\_search.py:874\u001b[0m, in \u001b[0;36mBaseSearchCV.fit\u001b[1;34m(self, X, y, groups, **fit_params)\u001b[0m\n\u001b[0;32m    868\u001b[0m     results \u001b[38;5;241m=\u001b[39m \u001b[38;5;28mself\u001b[39m\u001b[38;5;241m.\u001b[39m_format_results(\n\u001b[0;32m    869\u001b[0m         all_candidate_params, n_splits, all_out, all_more_results\n\u001b[0;32m    870\u001b[0m     )\n\u001b[0;32m    872\u001b[0m     \u001b[38;5;28;01mreturn\u001b[39;00m results\n\u001b[1;32m--> 874\u001b[0m \u001b[38;5;28;43mself\u001b[39;49m\u001b[38;5;241;43m.\u001b[39;49m\u001b[43m_run_search\u001b[49m\u001b[43m(\u001b[49m\u001b[43mevaluate_candidates\u001b[49m\u001b[43m)\u001b[49m\n\u001b[0;32m    876\u001b[0m \u001b[38;5;66;03m# multimetric is determined here because in the case of a callable\u001b[39;00m\n\u001b[0;32m    877\u001b[0m \u001b[38;5;66;03m# self.scoring the return type is only known after calling\u001b[39;00m\n\u001b[0;32m    878\u001b[0m first_test_score \u001b[38;5;241m=\u001b[39m all_out[\u001b[38;5;241m0\u001b[39m][\u001b[38;5;124m\"\u001b[39m\u001b[38;5;124mtest_scores\u001b[39m\u001b[38;5;124m\"\u001b[39m]\n",
      "File \u001b[1;32mC:\\ProgramData\\anaconda3\\lib\\site-packages\\sklearn\\model_selection\\_search.py:1388\u001b[0m, in \u001b[0;36mGridSearchCV._run_search\u001b[1;34m(self, evaluate_candidates)\u001b[0m\n\u001b[0;32m   1386\u001b[0m \u001b[38;5;28;01mdef\u001b[39;00m \u001b[38;5;21m_run_search\u001b[39m(\u001b[38;5;28mself\u001b[39m, evaluate_candidates):\n\u001b[0;32m   1387\u001b[0m \u001b[38;5;250m    \u001b[39m\u001b[38;5;124;03m\"\"\"Search all candidates in param_grid\"\"\"\u001b[39;00m\n\u001b[1;32m-> 1388\u001b[0m     \u001b[43mevaluate_candidates\u001b[49m\u001b[43m(\u001b[49m\u001b[43mParameterGrid\u001b[49m\u001b[43m(\u001b[49m\u001b[38;5;28;43mself\u001b[39;49m\u001b[38;5;241;43m.\u001b[39;49m\u001b[43mparam_grid\u001b[49m\u001b[43m)\u001b[49m\u001b[43m)\u001b[49m\n",
      "File \u001b[1;32mC:\\ProgramData\\anaconda3\\lib\\site-packages\\sklearn\\model_selection\\_search.py:851\u001b[0m, in \u001b[0;36mBaseSearchCV.fit.<locals>.evaluate_candidates\u001b[1;34m(candidate_params, cv, more_results)\u001b[0m\n\u001b[0;32m    844\u001b[0m \u001b[38;5;28;01melif\u001b[39;00m \u001b[38;5;28mlen\u001b[39m(out) \u001b[38;5;241m!=\u001b[39m n_candidates \u001b[38;5;241m*\u001b[39m n_splits:\n\u001b[0;32m    845\u001b[0m     \u001b[38;5;28;01mraise\u001b[39;00m \u001b[38;5;167;01mValueError\u001b[39;00m(\n\u001b[0;32m    846\u001b[0m         \u001b[38;5;124m\"\u001b[39m\u001b[38;5;124mcv.split and cv.get_n_splits returned \u001b[39m\u001b[38;5;124m\"\u001b[39m\n\u001b[0;32m    847\u001b[0m         \u001b[38;5;124m\"\u001b[39m\u001b[38;5;124minconsistent results. Expected \u001b[39m\u001b[38;5;132;01m{}\u001b[39;00m\u001b[38;5;124m \u001b[39m\u001b[38;5;124m\"\u001b[39m\n\u001b[0;32m    848\u001b[0m         \u001b[38;5;124m\"\u001b[39m\u001b[38;5;124msplits, got \u001b[39m\u001b[38;5;132;01m{}\u001b[39;00m\u001b[38;5;124m\"\u001b[39m\u001b[38;5;241m.\u001b[39mformat(n_splits, \u001b[38;5;28mlen\u001b[39m(out) \u001b[38;5;241m/\u001b[39m\u001b[38;5;241m/\u001b[39m n_candidates)\n\u001b[0;32m    849\u001b[0m     )\n\u001b[1;32m--> 851\u001b[0m \u001b[43m_warn_or_raise_about_fit_failures\u001b[49m\u001b[43m(\u001b[49m\u001b[43mout\u001b[49m\u001b[43m,\u001b[49m\u001b[43m \u001b[49m\u001b[38;5;28;43mself\u001b[39;49m\u001b[38;5;241;43m.\u001b[39;49m\u001b[43merror_score\u001b[49m\u001b[43m)\u001b[49m\n\u001b[0;32m    853\u001b[0m \u001b[38;5;66;03m# For callable self.scoring, the return type is only know after\u001b[39;00m\n\u001b[0;32m    854\u001b[0m \u001b[38;5;66;03m# calling. If the return type is a dictionary, the error scores\u001b[39;00m\n\u001b[0;32m    855\u001b[0m \u001b[38;5;66;03m# can now be inserted with the correct key. The type checking\u001b[39;00m\n\u001b[0;32m    856\u001b[0m \u001b[38;5;66;03m# of out will be done in `_insert_error_scores`.\u001b[39;00m\n\u001b[0;32m    857\u001b[0m \u001b[38;5;28;01mif\u001b[39;00m \u001b[38;5;28mcallable\u001b[39m(\u001b[38;5;28mself\u001b[39m\u001b[38;5;241m.\u001b[39mscoring):\n",
      "File \u001b[1;32mC:\\ProgramData\\anaconda3\\lib\\site-packages\\sklearn\\model_selection\\_validation.py:367\u001b[0m, in \u001b[0;36m_warn_or_raise_about_fit_failures\u001b[1;34m(results, error_score)\u001b[0m\n\u001b[0;32m    360\u001b[0m \u001b[38;5;28;01mif\u001b[39;00m num_failed_fits \u001b[38;5;241m==\u001b[39m num_fits:\n\u001b[0;32m    361\u001b[0m     all_fits_failed_message \u001b[38;5;241m=\u001b[39m (\n\u001b[0;32m    362\u001b[0m         \u001b[38;5;124mf\u001b[39m\u001b[38;5;124m\"\u001b[39m\u001b[38;5;130;01m\\n\u001b[39;00m\u001b[38;5;124mAll the \u001b[39m\u001b[38;5;132;01m{\u001b[39;00mnum_fits\u001b[38;5;132;01m}\u001b[39;00m\u001b[38;5;124m fits failed.\u001b[39m\u001b[38;5;130;01m\\n\u001b[39;00m\u001b[38;5;124m\"\u001b[39m\n\u001b[0;32m    363\u001b[0m         \u001b[38;5;124m\"\u001b[39m\u001b[38;5;124mIt is very likely that your model is misconfigured.\u001b[39m\u001b[38;5;130;01m\\n\u001b[39;00m\u001b[38;5;124m\"\u001b[39m\n\u001b[0;32m    364\u001b[0m         \u001b[38;5;124m\"\u001b[39m\u001b[38;5;124mYou can try to debug the error by setting error_score=\u001b[39m\u001b[38;5;124m'\u001b[39m\u001b[38;5;124mraise\u001b[39m\u001b[38;5;124m'\u001b[39m\u001b[38;5;124m.\u001b[39m\u001b[38;5;130;01m\\n\u001b[39;00m\u001b[38;5;130;01m\\n\u001b[39;00m\u001b[38;5;124m\"\u001b[39m\n\u001b[0;32m    365\u001b[0m         \u001b[38;5;124mf\u001b[39m\u001b[38;5;124m\"\u001b[39m\u001b[38;5;124mBelow are more details about the failures:\u001b[39m\u001b[38;5;130;01m\\n\u001b[39;00m\u001b[38;5;132;01m{\u001b[39;00mfit_errors_summary\u001b[38;5;132;01m}\u001b[39;00m\u001b[38;5;124m\"\u001b[39m\n\u001b[0;32m    366\u001b[0m     )\n\u001b[1;32m--> 367\u001b[0m     \u001b[38;5;28;01mraise\u001b[39;00m \u001b[38;5;167;01mValueError\u001b[39;00m(all_fits_failed_message)\n\u001b[0;32m    369\u001b[0m \u001b[38;5;28;01melse\u001b[39;00m:\n\u001b[0;32m    370\u001b[0m     some_fits_failed_message \u001b[38;5;241m=\u001b[39m (\n\u001b[0;32m    371\u001b[0m         \u001b[38;5;124mf\u001b[39m\u001b[38;5;124m\"\u001b[39m\u001b[38;5;130;01m\\n\u001b[39;00m\u001b[38;5;132;01m{\u001b[39;00mnum_failed_fits\u001b[38;5;132;01m}\u001b[39;00m\u001b[38;5;124m fits failed out of a total of \u001b[39m\u001b[38;5;132;01m{\u001b[39;00mnum_fits\u001b[38;5;132;01m}\u001b[39;00m\u001b[38;5;124m.\u001b[39m\u001b[38;5;130;01m\\n\u001b[39;00m\u001b[38;5;124m\"\u001b[39m\n\u001b[0;32m    372\u001b[0m         \u001b[38;5;124m\"\u001b[39m\u001b[38;5;124mThe score on these train-test partitions for these parameters\u001b[39m\u001b[38;5;124m\"\u001b[39m\n\u001b[1;32m   (...)\u001b[0m\n\u001b[0;32m    376\u001b[0m         \u001b[38;5;124mf\u001b[39m\u001b[38;5;124m\"\u001b[39m\u001b[38;5;124mBelow are more details about the failures:\u001b[39m\u001b[38;5;130;01m\\n\u001b[39;00m\u001b[38;5;132;01m{\u001b[39;00mfit_errors_summary\u001b[38;5;132;01m}\u001b[39;00m\u001b[38;5;124m\"\u001b[39m\n\u001b[0;32m    377\u001b[0m     )\n",
      "\u001b[1;31mValueError\u001b[0m: \nAll the 54 fits failed.\nIt is very likely that your model is misconfigured.\nYou can try to debug the error by setting error_score='raise'.\n\nBelow are more details about the failures:\n--------------------------------------------------------------------------------\n1 fits failed with the following error:\nTraceback (most recent call last):\n  File \"C:\\ProgramData\\anaconda3\\lib\\site-packages\\sklearn\\model_selection\\_validation.py\", line 686, in _fit_and_score\n    estimator.fit(X_train, y_train, **fit_params)\n  File \"C:\\Users\\kwfen\\AppData\\Roaming\\Python\\Python310\\site-packages\\scikeras\\wrappers.py\", line 1501, in fit\n    super().fit(X=X, y=y, sample_weight=sample_weight, **kwargs)\n  File \"C:\\Users\\kwfen\\AppData\\Roaming\\Python\\Python310\\site-packages\\scikeras\\wrappers.py\", line 770, in fit\n    self._fit(\n  File \"C:\\Users\\kwfen\\AppData\\Roaming\\Python\\Python310\\site-packages\\scikeras\\wrappers.py\", line 936, in _fit\n    self._check_model_compatibility(y)\n  File \"C:\\Users\\kwfen\\AppData\\Roaming\\Python\\Python310\\site-packages\\scikeras\\wrappers.py\", line 559, in _check_model_compatibility\n    if self.n_outputs_expected_ != len(self.model_.outputs):\n  File \"C:\\Users\\kwfen\\AppData\\Roaming\\Python\\Python310\\site-packages\\keras\\src\\models\\sequential.py\", line 283, in outputs\n    raise ValueError(\nValueError: Sequential model 'sequential_90' has no defined outputs yet.\n\n--------------------------------------------------------------------------------\n1 fits failed with the following error:\nTraceback (most recent call last):\n  File \"C:\\ProgramData\\anaconda3\\lib\\site-packages\\sklearn\\model_selection\\_validation.py\", line 686, in _fit_and_score\n    estimator.fit(X_train, y_train, **fit_params)\n  File \"C:\\Users\\kwfen\\AppData\\Roaming\\Python\\Python310\\site-packages\\scikeras\\wrappers.py\", line 1501, in fit\n    super().fit(X=X, y=y, sample_weight=sample_weight, **kwargs)\n  File \"C:\\Users\\kwfen\\AppData\\Roaming\\Python\\Python310\\site-packages\\scikeras\\wrappers.py\", line 770, in fit\n    self._fit(\n  File \"C:\\Users\\kwfen\\AppData\\Roaming\\Python\\Python310\\site-packages\\scikeras\\wrappers.py\", line 936, in _fit\n    self._check_model_compatibility(y)\n  File \"C:\\Users\\kwfen\\AppData\\Roaming\\Python\\Python310\\site-packages\\scikeras\\wrappers.py\", line 559, in _check_model_compatibility\n    if self.n_outputs_expected_ != len(self.model_.outputs):\n  File \"C:\\Users\\kwfen\\AppData\\Roaming\\Python\\Python310\\site-packages\\keras\\src\\models\\sequential.py\", line 283, in outputs\n    raise ValueError(\nValueError: Sequential model 'sequential_91' has no defined outputs yet.\n\n--------------------------------------------------------------------------------\n1 fits failed with the following error:\nTraceback (most recent call last):\n  File \"C:\\ProgramData\\anaconda3\\lib\\site-packages\\sklearn\\model_selection\\_validation.py\", line 686, in _fit_and_score\n    estimator.fit(X_train, y_train, **fit_params)\n  File \"C:\\Users\\kwfen\\AppData\\Roaming\\Python\\Python310\\site-packages\\scikeras\\wrappers.py\", line 1501, in fit\n    super().fit(X=X, y=y, sample_weight=sample_weight, **kwargs)\n  File \"C:\\Users\\kwfen\\AppData\\Roaming\\Python\\Python310\\site-packages\\scikeras\\wrappers.py\", line 770, in fit\n    self._fit(\n  File \"C:\\Users\\kwfen\\AppData\\Roaming\\Python\\Python310\\site-packages\\scikeras\\wrappers.py\", line 936, in _fit\n    self._check_model_compatibility(y)\n  File \"C:\\Users\\kwfen\\AppData\\Roaming\\Python\\Python310\\site-packages\\scikeras\\wrappers.py\", line 559, in _check_model_compatibility\n    if self.n_outputs_expected_ != len(self.model_.outputs):\n  File \"C:\\Users\\kwfen\\AppData\\Roaming\\Python\\Python310\\site-packages\\keras\\src\\models\\sequential.py\", line 283, in outputs\n    raise ValueError(\nValueError: Sequential model 'sequential_92' has no defined outputs yet.\n\n--------------------------------------------------------------------------------\n1 fits failed with the following error:\nTraceback (most recent call last):\n  File \"C:\\ProgramData\\anaconda3\\lib\\site-packages\\sklearn\\model_selection\\_validation.py\", line 686, in _fit_and_score\n    estimator.fit(X_train, y_train, **fit_params)\n  File \"C:\\Users\\kwfen\\AppData\\Roaming\\Python\\Python310\\site-packages\\scikeras\\wrappers.py\", line 1501, in fit\n    super().fit(X=X, y=y, sample_weight=sample_weight, **kwargs)\n  File \"C:\\Users\\kwfen\\AppData\\Roaming\\Python\\Python310\\site-packages\\scikeras\\wrappers.py\", line 770, in fit\n    self._fit(\n  File \"C:\\Users\\kwfen\\AppData\\Roaming\\Python\\Python310\\site-packages\\scikeras\\wrappers.py\", line 936, in _fit\n    self._check_model_compatibility(y)\n  File \"C:\\Users\\kwfen\\AppData\\Roaming\\Python\\Python310\\site-packages\\scikeras\\wrappers.py\", line 559, in _check_model_compatibility\n    if self.n_outputs_expected_ != len(self.model_.outputs):\n  File \"C:\\Users\\kwfen\\AppData\\Roaming\\Python\\Python310\\site-packages\\keras\\src\\models\\sequential.py\", line 283, in outputs\n    raise ValueError(\nValueError: Sequential model 'sequential_93' has no defined outputs yet.\n\n--------------------------------------------------------------------------------\n1 fits failed with the following error:\nTraceback (most recent call last):\n  File \"C:\\ProgramData\\anaconda3\\lib\\site-packages\\sklearn\\model_selection\\_validation.py\", line 686, in _fit_and_score\n    estimator.fit(X_train, y_train, **fit_params)\n  File \"C:\\Users\\kwfen\\AppData\\Roaming\\Python\\Python310\\site-packages\\scikeras\\wrappers.py\", line 1501, in fit\n    super().fit(X=X, y=y, sample_weight=sample_weight, **kwargs)\n  File \"C:\\Users\\kwfen\\AppData\\Roaming\\Python\\Python310\\site-packages\\scikeras\\wrappers.py\", line 770, in fit\n    self._fit(\n  File \"C:\\Users\\kwfen\\AppData\\Roaming\\Python\\Python310\\site-packages\\scikeras\\wrappers.py\", line 936, in _fit\n    self._check_model_compatibility(y)\n  File \"C:\\Users\\kwfen\\AppData\\Roaming\\Python\\Python310\\site-packages\\scikeras\\wrappers.py\", line 559, in _check_model_compatibility\n    if self.n_outputs_expected_ != len(self.model_.outputs):\n  File \"C:\\Users\\kwfen\\AppData\\Roaming\\Python\\Python310\\site-packages\\keras\\src\\models\\sequential.py\", line 283, in outputs\n    raise ValueError(\nValueError: Sequential model 'sequential_94' has no defined outputs yet.\n\n--------------------------------------------------------------------------------\n1 fits failed with the following error:\nTraceback (most recent call last):\n  File \"C:\\ProgramData\\anaconda3\\lib\\site-packages\\sklearn\\model_selection\\_validation.py\", line 686, in _fit_and_score\n    estimator.fit(X_train, y_train, **fit_params)\n  File \"C:\\Users\\kwfen\\AppData\\Roaming\\Python\\Python310\\site-packages\\scikeras\\wrappers.py\", line 1501, in fit\n    super().fit(X=X, y=y, sample_weight=sample_weight, **kwargs)\n  File \"C:\\Users\\kwfen\\AppData\\Roaming\\Python\\Python310\\site-packages\\scikeras\\wrappers.py\", line 770, in fit\n    self._fit(\n  File \"C:\\Users\\kwfen\\AppData\\Roaming\\Python\\Python310\\site-packages\\scikeras\\wrappers.py\", line 936, in _fit\n    self._check_model_compatibility(y)\n  File \"C:\\Users\\kwfen\\AppData\\Roaming\\Python\\Python310\\site-packages\\scikeras\\wrappers.py\", line 559, in _check_model_compatibility\n    if self.n_outputs_expected_ != len(self.model_.outputs):\n  File \"C:\\Users\\kwfen\\AppData\\Roaming\\Python\\Python310\\site-packages\\keras\\src\\models\\sequential.py\", line 283, in outputs\n    raise ValueError(\nValueError: Sequential model 'sequential_95' has no defined outputs yet.\n\n--------------------------------------------------------------------------------\n1 fits failed with the following error:\nTraceback (most recent call last):\n  File \"C:\\ProgramData\\anaconda3\\lib\\site-packages\\sklearn\\model_selection\\_validation.py\", line 686, in _fit_and_score\n    estimator.fit(X_train, y_train, **fit_params)\n  File \"C:\\Users\\kwfen\\AppData\\Roaming\\Python\\Python310\\site-packages\\scikeras\\wrappers.py\", line 1501, in fit\n    super().fit(X=X, y=y, sample_weight=sample_weight, **kwargs)\n  File \"C:\\Users\\kwfen\\AppData\\Roaming\\Python\\Python310\\site-packages\\scikeras\\wrappers.py\", line 770, in fit\n    self._fit(\n  File \"C:\\Users\\kwfen\\AppData\\Roaming\\Python\\Python310\\site-packages\\scikeras\\wrappers.py\", line 936, in _fit\n    self._check_model_compatibility(y)\n  File \"C:\\Users\\kwfen\\AppData\\Roaming\\Python\\Python310\\site-packages\\scikeras\\wrappers.py\", line 559, in _check_model_compatibility\n    if self.n_outputs_expected_ != len(self.model_.outputs):\n  File \"C:\\Users\\kwfen\\AppData\\Roaming\\Python\\Python310\\site-packages\\keras\\src\\models\\sequential.py\", line 283, in outputs\n    raise ValueError(\nValueError: Sequential model 'sequential_96' has no defined outputs yet.\n\n--------------------------------------------------------------------------------\n1 fits failed with the following error:\nTraceback (most recent call last):\n  File \"C:\\ProgramData\\anaconda3\\lib\\site-packages\\sklearn\\model_selection\\_validation.py\", line 686, in _fit_and_score\n    estimator.fit(X_train, y_train, **fit_params)\n  File \"C:\\Users\\kwfen\\AppData\\Roaming\\Python\\Python310\\site-packages\\scikeras\\wrappers.py\", line 1501, in fit\n    super().fit(X=X, y=y, sample_weight=sample_weight, **kwargs)\n  File \"C:\\Users\\kwfen\\AppData\\Roaming\\Python\\Python310\\site-packages\\scikeras\\wrappers.py\", line 770, in fit\n    self._fit(\n  File \"C:\\Users\\kwfen\\AppData\\Roaming\\Python\\Python310\\site-packages\\scikeras\\wrappers.py\", line 936, in _fit\n    self._check_model_compatibility(y)\n  File \"C:\\Users\\kwfen\\AppData\\Roaming\\Python\\Python310\\site-packages\\scikeras\\wrappers.py\", line 559, in _check_model_compatibility\n    if self.n_outputs_expected_ != len(self.model_.outputs):\n  File \"C:\\Users\\kwfen\\AppData\\Roaming\\Python\\Python310\\site-packages\\keras\\src\\models\\sequential.py\", line 283, in outputs\n    raise ValueError(\nValueError: Sequential model 'sequential_97' has no defined outputs yet.\n\n--------------------------------------------------------------------------------\n1 fits failed with the following error:\nTraceback (most recent call last):\n  File \"C:\\ProgramData\\anaconda3\\lib\\site-packages\\sklearn\\model_selection\\_validation.py\", line 686, in _fit_and_score\n    estimator.fit(X_train, y_train, **fit_params)\n  File \"C:\\Users\\kwfen\\AppData\\Roaming\\Python\\Python310\\site-packages\\scikeras\\wrappers.py\", line 1501, in fit\n    super().fit(X=X, y=y, sample_weight=sample_weight, **kwargs)\n  File \"C:\\Users\\kwfen\\AppData\\Roaming\\Python\\Python310\\site-packages\\scikeras\\wrappers.py\", line 770, in fit\n    self._fit(\n  File \"C:\\Users\\kwfen\\AppData\\Roaming\\Python\\Python310\\site-packages\\scikeras\\wrappers.py\", line 936, in _fit\n    self._check_model_compatibility(y)\n  File \"C:\\Users\\kwfen\\AppData\\Roaming\\Python\\Python310\\site-packages\\scikeras\\wrappers.py\", line 559, in _check_model_compatibility\n    if self.n_outputs_expected_ != len(self.model_.outputs):\n  File \"C:\\Users\\kwfen\\AppData\\Roaming\\Python\\Python310\\site-packages\\keras\\src\\models\\sequential.py\", line 283, in outputs\n    raise ValueError(\nValueError: Sequential model 'sequential_98' has no defined outputs yet.\n\n--------------------------------------------------------------------------------\n1 fits failed with the following error:\nTraceback (most recent call last):\n  File \"C:\\ProgramData\\anaconda3\\lib\\site-packages\\sklearn\\model_selection\\_validation.py\", line 686, in _fit_and_score\n    estimator.fit(X_train, y_train, **fit_params)\n  File \"C:\\Users\\kwfen\\AppData\\Roaming\\Python\\Python310\\site-packages\\scikeras\\wrappers.py\", line 1501, in fit\n    super().fit(X=X, y=y, sample_weight=sample_weight, **kwargs)\n  File \"C:\\Users\\kwfen\\AppData\\Roaming\\Python\\Python310\\site-packages\\scikeras\\wrappers.py\", line 770, in fit\n    self._fit(\n  File \"C:\\Users\\kwfen\\AppData\\Roaming\\Python\\Python310\\site-packages\\scikeras\\wrappers.py\", line 936, in _fit\n    self._check_model_compatibility(y)\n  File \"C:\\Users\\kwfen\\AppData\\Roaming\\Python\\Python310\\site-packages\\scikeras\\wrappers.py\", line 559, in _check_model_compatibility\n    if self.n_outputs_expected_ != len(self.model_.outputs):\n  File \"C:\\Users\\kwfen\\AppData\\Roaming\\Python\\Python310\\site-packages\\keras\\src\\models\\sequential.py\", line 283, in outputs\n    raise ValueError(\nValueError: Sequential model 'sequential_99' has no defined outputs yet.\n\n--------------------------------------------------------------------------------\n1 fits failed with the following error:\nTraceback (most recent call last):\n  File \"C:\\ProgramData\\anaconda3\\lib\\site-packages\\sklearn\\model_selection\\_validation.py\", line 686, in _fit_and_score\n    estimator.fit(X_train, y_train, **fit_params)\n  File \"C:\\Users\\kwfen\\AppData\\Roaming\\Python\\Python310\\site-packages\\scikeras\\wrappers.py\", line 1501, in fit\n    super().fit(X=X, y=y, sample_weight=sample_weight, **kwargs)\n  File \"C:\\Users\\kwfen\\AppData\\Roaming\\Python\\Python310\\site-packages\\scikeras\\wrappers.py\", line 770, in fit\n    self._fit(\n  File \"C:\\Users\\kwfen\\AppData\\Roaming\\Python\\Python310\\site-packages\\scikeras\\wrappers.py\", line 936, in _fit\n    self._check_model_compatibility(y)\n  File \"C:\\Users\\kwfen\\AppData\\Roaming\\Python\\Python310\\site-packages\\scikeras\\wrappers.py\", line 559, in _check_model_compatibility\n    if self.n_outputs_expected_ != len(self.model_.outputs):\n  File \"C:\\Users\\kwfen\\AppData\\Roaming\\Python\\Python310\\site-packages\\keras\\src\\models\\sequential.py\", line 283, in outputs\n    raise ValueError(\nValueError: Sequential model 'sequential_100' has no defined outputs yet.\n\n--------------------------------------------------------------------------------\n1 fits failed with the following error:\nTraceback (most recent call last):\n  File \"C:\\ProgramData\\anaconda3\\lib\\site-packages\\sklearn\\model_selection\\_validation.py\", line 686, in _fit_and_score\n    estimator.fit(X_train, y_train, **fit_params)\n  File \"C:\\Users\\kwfen\\AppData\\Roaming\\Python\\Python310\\site-packages\\scikeras\\wrappers.py\", line 1501, in fit\n    super().fit(X=X, y=y, sample_weight=sample_weight, **kwargs)\n  File \"C:\\Users\\kwfen\\AppData\\Roaming\\Python\\Python310\\site-packages\\scikeras\\wrappers.py\", line 770, in fit\n    self._fit(\n  File \"C:\\Users\\kwfen\\AppData\\Roaming\\Python\\Python310\\site-packages\\scikeras\\wrappers.py\", line 936, in _fit\n    self._check_model_compatibility(y)\n  File \"C:\\Users\\kwfen\\AppData\\Roaming\\Python\\Python310\\site-packages\\scikeras\\wrappers.py\", line 559, in _check_model_compatibility\n    if self.n_outputs_expected_ != len(self.model_.outputs):\n  File \"C:\\Users\\kwfen\\AppData\\Roaming\\Python\\Python310\\site-packages\\keras\\src\\models\\sequential.py\", line 283, in outputs\n    raise ValueError(\nValueError: Sequential model 'sequential_101' has no defined outputs yet.\n\n--------------------------------------------------------------------------------\n1 fits failed with the following error:\nTraceback (most recent call last):\n  File \"C:\\ProgramData\\anaconda3\\lib\\site-packages\\sklearn\\model_selection\\_validation.py\", line 686, in _fit_and_score\n    estimator.fit(X_train, y_train, **fit_params)\n  File \"C:\\Users\\kwfen\\AppData\\Roaming\\Python\\Python310\\site-packages\\scikeras\\wrappers.py\", line 1501, in fit\n    super().fit(X=X, y=y, sample_weight=sample_weight, **kwargs)\n  File \"C:\\Users\\kwfen\\AppData\\Roaming\\Python\\Python310\\site-packages\\scikeras\\wrappers.py\", line 770, in fit\n    self._fit(\n  File \"C:\\Users\\kwfen\\AppData\\Roaming\\Python\\Python310\\site-packages\\scikeras\\wrappers.py\", line 936, in _fit\n    self._check_model_compatibility(y)\n  File \"C:\\Users\\kwfen\\AppData\\Roaming\\Python\\Python310\\site-packages\\scikeras\\wrappers.py\", line 559, in _check_model_compatibility\n    if self.n_outputs_expected_ != len(self.model_.outputs):\n  File \"C:\\Users\\kwfen\\AppData\\Roaming\\Python\\Python310\\site-packages\\keras\\src\\models\\sequential.py\", line 283, in outputs\n    raise ValueError(\nValueError: Sequential model 'sequential_102' has no defined outputs yet.\n\n--------------------------------------------------------------------------------\n1 fits failed with the following error:\nTraceback (most recent call last):\n  File \"C:\\ProgramData\\anaconda3\\lib\\site-packages\\sklearn\\model_selection\\_validation.py\", line 686, in _fit_and_score\n    estimator.fit(X_train, y_train, **fit_params)\n  File \"C:\\Users\\kwfen\\AppData\\Roaming\\Python\\Python310\\site-packages\\scikeras\\wrappers.py\", line 1501, in fit\n    super().fit(X=X, y=y, sample_weight=sample_weight, **kwargs)\n  File \"C:\\Users\\kwfen\\AppData\\Roaming\\Python\\Python310\\site-packages\\scikeras\\wrappers.py\", line 770, in fit\n    self._fit(\n  File \"C:\\Users\\kwfen\\AppData\\Roaming\\Python\\Python310\\site-packages\\scikeras\\wrappers.py\", line 936, in _fit\n    self._check_model_compatibility(y)\n  File \"C:\\Users\\kwfen\\AppData\\Roaming\\Python\\Python310\\site-packages\\scikeras\\wrappers.py\", line 559, in _check_model_compatibility\n    if self.n_outputs_expected_ != len(self.model_.outputs):\n  File \"C:\\Users\\kwfen\\AppData\\Roaming\\Python\\Python310\\site-packages\\keras\\src\\models\\sequential.py\", line 283, in outputs\n    raise ValueError(\nValueError: Sequential model 'sequential_103' has no defined outputs yet.\n\n--------------------------------------------------------------------------------\n1 fits failed with the following error:\nTraceback (most recent call last):\n  File \"C:\\ProgramData\\anaconda3\\lib\\site-packages\\sklearn\\model_selection\\_validation.py\", line 686, in _fit_and_score\n    estimator.fit(X_train, y_train, **fit_params)\n  File \"C:\\Users\\kwfen\\AppData\\Roaming\\Python\\Python310\\site-packages\\scikeras\\wrappers.py\", line 1501, in fit\n    super().fit(X=X, y=y, sample_weight=sample_weight, **kwargs)\n  File \"C:\\Users\\kwfen\\AppData\\Roaming\\Python\\Python310\\site-packages\\scikeras\\wrappers.py\", line 770, in fit\n    self._fit(\n  File \"C:\\Users\\kwfen\\AppData\\Roaming\\Python\\Python310\\site-packages\\scikeras\\wrappers.py\", line 936, in _fit\n    self._check_model_compatibility(y)\n  File \"C:\\Users\\kwfen\\AppData\\Roaming\\Python\\Python310\\site-packages\\scikeras\\wrappers.py\", line 559, in _check_model_compatibility\n    if self.n_outputs_expected_ != len(self.model_.outputs):\n  File \"C:\\Users\\kwfen\\AppData\\Roaming\\Python\\Python310\\site-packages\\keras\\src\\models\\sequential.py\", line 283, in outputs\n    raise ValueError(\nValueError: Sequential model 'sequential_104' has no defined outputs yet.\n\n--------------------------------------------------------------------------------\n1 fits failed with the following error:\nTraceback (most recent call last):\n  File \"C:\\ProgramData\\anaconda3\\lib\\site-packages\\sklearn\\model_selection\\_validation.py\", line 686, in _fit_and_score\n    estimator.fit(X_train, y_train, **fit_params)\n  File \"C:\\Users\\kwfen\\AppData\\Roaming\\Python\\Python310\\site-packages\\scikeras\\wrappers.py\", line 1501, in fit\n    super().fit(X=X, y=y, sample_weight=sample_weight, **kwargs)\n  File \"C:\\Users\\kwfen\\AppData\\Roaming\\Python\\Python310\\site-packages\\scikeras\\wrappers.py\", line 770, in fit\n    self._fit(\n  File \"C:\\Users\\kwfen\\AppData\\Roaming\\Python\\Python310\\site-packages\\scikeras\\wrappers.py\", line 936, in _fit\n    self._check_model_compatibility(y)\n  File \"C:\\Users\\kwfen\\AppData\\Roaming\\Python\\Python310\\site-packages\\scikeras\\wrappers.py\", line 559, in _check_model_compatibility\n    if self.n_outputs_expected_ != len(self.model_.outputs):\n  File \"C:\\Users\\kwfen\\AppData\\Roaming\\Python\\Python310\\site-packages\\keras\\src\\models\\sequential.py\", line 283, in outputs\n    raise ValueError(\nValueError: Sequential model 'sequential_105' has no defined outputs yet.\n\n--------------------------------------------------------------------------------\n1 fits failed with the following error:\nTraceback (most recent call last):\n  File \"C:\\ProgramData\\anaconda3\\lib\\site-packages\\sklearn\\model_selection\\_validation.py\", line 686, in _fit_and_score\n    estimator.fit(X_train, y_train, **fit_params)\n  File \"C:\\Users\\kwfen\\AppData\\Roaming\\Python\\Python310\\site-packages\\scikeras\\wrappers.py\", line 1501, in fit\n    super().fit(X=X, y=y, sample_weight=sample_weight, **kwargs)\n  File \"C:\\Users\\kwfen\\AppData\\Roaming\\Python\\Python310\\site-packages\\scikeras\\wrappers.py\", line 770, in fit\n    self._fit(\n  File \"C:\\Users\\kwfen\\AppData\\Roaming\\Python\\Python310\\site-packages\\scikeras\\wrappers.py\", line 936, in _fit\n    self._check_model_compatibility(y)\n  File \"C:\\Users\\kwfen\\AppData\\Roaming\\Python\\Python310\\site-packages\\scikeras\\wrappers.py\", line 559, in _check_model_compatibility\n    if self.n_outputs_expected_ != len(self.model_.outputs):\n  File \"C:\\Users\\kwfen\\AppData\\Roaming\\Python\\Python310\\site-packages\\keras\\src\\models\\sequential.py\", line 283, in outputs\n    raise ValueError(\nValueError: Sequential model 'sequential_106' has no defined outputs yet.\n\n--------------------------------------------------------------------------------\n1 fits failed with the following error:\nTraceback (most recent call last):\n  File \"C:\\ProgramData\\anaconda3\\lib\\site-packages\\sklearn\\model_selection\\_validation.py\", line 686, in _fit_and_score\n    estimator.fit(X_train, y_train, **fit_params)\n  File \"C:\\Users\\kwfen\\AppData\\Roaming\\Python\\Python310\\site-packages\\scikeras\\wrappers.py\", line 1501, in fit\n    super().fit(X=X, y=y, sample_weight=sample_weight, **kwargs)\n  File \"C:\\Users\\kwfen\\AppData\\Roaming\\Python\\Python310\\site-packages\\scikeras\\wrappers.py\", line 770, in fit\n    self._fit(\n  File \"C:\\Users\\kwfen\\AppData\\Roaming\\Python\\Python310\\site-packages\\scikeras\\wrappers.py\", line 936, in _fit\n    self._check_model_compatibility(y)\n  File \"C:\\Users\\kwfen\\AppData\\Roaming\\Python\\Python310\\site-packages\\scikeras\\wrappers.py\", line 559, in _check_model_compatibility\n    if self.n_outputs_expected_ != len(self.model_.outputs):\n  File \"C:\\Users\\kwfen\\AppData\\Roaming\\Python\\Python310\\site-packages\\keras\\src\\models\\sequential.py\", line 283, in outputs\n    raise ValueError(\nValueError: Sequential model 'sequential_107' has no defined outputs yet.\n\n--------------------------------------------------------------------------------\n1 fits failed with the following error:\nTraceback (most recent call last):\n  File \"C:\\ProgramData\\anaconda3\\lib\\site-packages\\sklearn\\model_selection\\_validation.py\", line 686, in _fit_and_score\n    estimator.fit(X_train, y_train, **fit_params)\n  File \"C:\\Users\\kwfen\\AppData\\Roaming\\Python\\Python310\\site-packages\\scikeras\\wrappers.py\", line 1501, in fit\n    super().fit(X=X, y=y, sample_weight=sample_weight, **kwargs)\n  File \"C:\\Users\\kwfen\\AppData\\Roaming\\Python\\Python310\\site-packages\\scikeras\\wrappers.py\", line 770, in fit\n    self._fit(\n  File \"C:\\Users\\kwfen\\AppData\\Roaming\\Python\\Python310\\site-packages\\scikeras\\wrappers.py\", line 936, in _fit\n    self._check_model_compatibility(y)\n  File \"C:\\Users\\kwfen\\AppData\\Roaming\\Python\\Python310\\site-packages\\scikeras\\wrappers.py\", line 559, in _check_model_compatibility\n    if self.n_outputs_expected_ != len(self.model_.outputs):\n  File \"C:\\Users\\kwfen\\AppData\\Roaming\\Python\\Python310\\site-packages\\keras\\src\\models\\sequential.py\", line 283, in outputs\n    raise ValueError(\nValueError: Sequential model 'sequential_108' has no defined outputs yet.\n\n--------------------------------------------------------------------------------\n1 fits failed with the following error:\nTraceback (most recent call last):\n  File \"C:\\ProgramData\\anaconda3\\lib\\site-packages\\sklearn\\model_selection\\_validation.py\", line 686, in _fit_and_score\n    estimator.fit(X_train, y_train, **fit_params)\n  File \"C:\\Users\\kwfen\\AppData\\Roaming\\Python\\Python310\\site-packages\\scikeras\\wrappers.py\", line 1501, in fit\n    super().fit(X=X, y=y, sample_weight=sample_weight, **kwargs)\n  File \"C:\\Users\\kwfen\\AppData\\Roaming\\Python\\Python310\\site-packages\\scikeras\\wrappers.py\", line 770, in fit\n    self._fit(\n  File \"C:\\Users\\kwfen\\AppData\\Roaming\\Python\\Python310\\site-packages\\scikeras\\wrappers.py\", line 936, in _fit\n    self._check_model_compatibility(y)\n  File \"C:\\Users\\kwfen\\AppData\\Roaming\\Python\\Python310\\site-packages\\scikeras\\wrappers.py\", line 559, in _check_model_compatibility\n    if self.n_outputs_expected_ != len(self.model_.outputs):\n  File \"C:\\Users\\kwfen\\AppData\\Roaming\\Python\\Python310\\site-packages\\keras\\src\\models\\sequential.py\", line 283, in outputs\n    raise ValueError(\nValueError: Sequential model 'sequential_109' has no defined outputs yet.\n\n--------------------------------------------------------------------------------\n1 fits failed with the following error:\nTraceback (most recent call last):\n  File \"C:\\ProgramData\\anaconda3\\lib\\site-packages\\sklearn\\model_selection\\_validation.py\", line 686, in _fit_and_score\n    estimator.fit(X_train, y_train, **fit_params)\n  File \"C:\\Users\\kwfen\\AppData\\Roaming\\Python\\Python310\\site-packages\\scikeras\\wrappers.py\", line 1501, in fit\n    super().fit(X=X, y=y, sample_weight=sample_weight, **kwargs)\n  File \"C:\\Users\\kwfen\\AppData\\Roaming\\Python\\Python310\\site-packages\\scikeras\\wrappers.py\", line 770, in fit\n    self._fit(\n  File \"C:\\Users\\kwfen\\AppData\\Roaming\\Python\\Python310\\site-packages\\scikeras\\wrappers.py\", line 936, in _fit\n    self._check_model_compatibility(y)\n  File \"C:\\Users\\kwfen\\AppData\\Roaming\\Python\\Python310\\site-packages\\scikeras\\wrappers.py\", line 559, in _check_model_compatibility\n    if self.n_outputs_expected_ != len(self.model_.outputs):\n  File \"C:\\Users\\kwfen\\AppData\\Roaming\\Python\\Python310\\site-packages\\keras\\src\\models\\sequential.py\", line 283, in outputs\n    raise ValueError(\nValueError: Sequential model 'sequential_110' has no defined outputs yet.\n\n--------------------------------------------------------------------------------\n1 fits failed with the following error:\nTraceback (most recent call last):\n  File \"C:\\ProgramData\\anaconda3\\lib\\site-packages\\sklearn\\model_selection\\_validation.py\", line 686, in _fit_and_score\n    estimator.fit(X_train, y_train, **fit_params)\n  File \"C:\\Users\\kwfen\\AppData\\Roaming\\Python\\Python310\\site-packages\\scikeras\\wrappers.py\", line 1501, in fit\n    super().fit(X=X, y=y, sample_weight=sample_weight, **kwargs)\n  File \"C:\\Users\\kwfen\\AppData\\Roaming\\Python\\Python310\\site-packages\\scikeras\\wrappers.py\", line 770, in fit\n    self._fit(\n  File \"C:\\Users\\kwfen\\AppData\\Roaming\\Python\\Python310\\site-packages\\scikeras\\wrappers.py\", line 936, in _fit\n    self._check_model_compatibility(y)\n  File \"C:\\Users\\kwfen\\AppData\\Roaming\\Python\\Python310\\site-packages\\scikeras\\wrappers.py\", line 559, in _check_model_compatibility\n    if self.n_outputs_expected_ != len(self.model_.outputs):\n  File \"C:\\Users\\kwfen\\AppData\\Roaming\\Python\\Python310\\site-packages\\keras\\src\\models\\sequential.py\", line 283, in outputs\n    raise ValueError(\nValueError: Sequential model 'sequential_111' has no defined outputs yet.\n\n--------------------------------------------------------------------------------\n1 fits failed with the following error:\nTraceback (most recent call last):\n  File \"C:\\ProgramData\\anaconda3\\lib\\site-packages\\sklearn\\model_selection\\_validation.py\", line 686, in _fit_and_score\n    estimator.fit(X_train, y_train, **fit_params)\n  File \"C:\\Users\\kwfen\\AppData\\Roaming\\Python\\Python310\\site-packages\\scikeras\\wrappers.py\", line 1501, in fit\n    super().fit(X=X, y=y, sample_weight=sample_weight, **kwargs)\n  File \"C:\\Users\\kwfen\\AppData\\Roaming\\Python\\Python310\\site-packages\\scikeras\\wrappers.py\", line 770, in fit\n    self._fit(\n  File \"C:\\Users\\kwfen\\AppData\\Roaming\\Python\\Python310\\site-packages\\scikeras\\wrappers.py\", line 936, in _fit\n    self._check_model_compatibility(y)\n  File \"C:\\Users\\kwfen\\AppData\\Roaming\\Python\\Python310\\site-packages\\scikeras\\wrappers.py\", line 559, in _check_model_compatibility\n    if self.n_outputs_expected_ != len(self.model_.outputs):\n  File \"C:\\Users\\kwfen\\AppData\\Roaming\\Python\\Python310\\site-packages\\keras\\src\\models\\sequential.py\", line 283, in outputs\n    raise ValueError(\nValueError: Sequential model 'sequential_112' has no defined outputs yet.\n\n--------------------------------------------------------------------------------\n1 fits failed with the following error:\nTraceback (most recent call last):\n  File \"C:\\ProgramData\\anaconda3\\lib\\site-packages\\sklearn\\model_selection\\_validation.py\", line 686, in _fit_and_score\n    estimator.fit(X_train, y_train, **fit_params)\n  File \"C:\\Users\\kwfen\\AppData\\Roaming\\Python\\Python310\\site-packages\\scikeras\\wrappers.py\", line 1501, in fit\n    super().fit(X=X, y=y, sample_weight=sample_weight, **kwargs)\n  File \"C:\\Users\\kwfen\\AppData\\Roaming\\Python\\Python310\\site-packages\\scikeras\\wrappers.py\", line 770, in fit\n    self._fit(\n  File \"C:\\Users\\kwfen\\AppData\\Roaming\\Python\\Python310\\site-packages\\scikeras\\wrappers.py\", line 936, in _fit\n    self._check_model_compatibility(y)\n  File \"C:\\Users\\kwfen\\AppData\\Roaming\\Python\\Python310\\site-packages\\scikeras\\wrappers.py\", line 559, in _check_model_compatibility\n    if self.n_outputs_expected_ != len(self.model_.outputs):\n  File \"C:\\Users\\kwfen\\AppData\\Roaming\\Python\\Python310\\site-packages\\keras\\src\\models\\sequential.py\", line 283, in outputs\n    raise ValueError(\nValueError: Sequential model 'sequential_113' has no defined outputs yet.\n\n--------------------------------------------------------------------------------\n1 fits failed with the following error:\nTraceback (most recent call last):\n  File \"C:\\ProgramData\\anaconda3\\lib\\site-packages\\sklearn\\model_selection\\_validation.py\", line 686, in _fit_and_score\n    estimator.fit(X_train, y_train, **fit_params)\n  File \"C:\\Users\\kwfen\\AppData\\Roaming\\Python\\Python310\\site-packages\\scikeras\\wrappers.py\", line 1501, in fit\n    super().fit(X=X, y=y, sample_weight=sample_weight, **kwargs)\n  File \"C:\\Users\\kwfen\\AppData\\Roaming\\Python\\Python310\\site-packages\\scikeras\\wrappers.py\", line 770, in fit\n    self._fit(\n  File \"C:\\Users\\kwfen\\AppData\\Roaming\\Python\\Python310\\site-packages\\scikeras\\wrappers.py\", line 936, in _fit\n    self._check_model_compatibility(y)\n  File \"C:\\Users\\kwfen\\AppData\\Roaming\\Python\\Python310\\site-packages\\scikeras\\wrappers.py\", line 559, in _check_model_compatibility\n    if self.n_outputs_expected_ != len(self.model_.outputs):\n  File \"C:\\Users\\kwfen\\AppData\\Roaming\\Python\\Python310\\site-packages\\keras\\src\\models\\sequential.py\", line 283, in outputs\n    raise ValueError(\nValueError: Sequential model 'sequential_114' has no defined outputs yet.\n\n--------------------------------------------------------------------------------\n1 fits failed with the following error:\nTraceback (most recent call last):\n  File \"C:\\ProgramData\\anaconda3\\lib\\site-packages\\sklearn\\model_selection\\_validation.py\", line 686, in _fit_and_score\n    estimator.fit(X_train, y_train, **fit_params)\n  File \"C:\\Users\\kwfen\\AppData\\Roaming\\Python\\Python310\\site-packages\\scikeras\\wrappers.py\", line 1501, in fit\n    super().fit(X=X, y=y, sample_weight=sample_weight, **kwargs)\n  File \"C:\\Users\\kwfen\\AppData\\Roaming\\Python\\Python310\\site-packages\\scikeras\\wrappers.py\", line 770, in fit\n    self._fit(\n  File \"C:\\Users\\kwfen\\AppData\\Roaming\\Python\\Python310\\site-packages\\scikeras\\wrappers.py\", line 936, in _fit\n    self._check_model_compatibility(y)\n  File \"C:\\Users\\kwfen\\AppData\\Roaming\\Python\\Python310\\site-packages\\scikeras\\wrappers.py\", line 559, in _check_model_compatibility\n    if self.n_outputs_expected_ != len(self.model_.outputs):\n  File \"C:\\Users\\kwfen\\AppData\\Roaming\\Python\\Python310\\site-packages\\keras\\src\\models\\sequential.py\", line 283, in outputs\n    raise ValueError(\nValueError: Sequential model 'sequential_115' has no defined outputs yet.\n\n--------------------------------------------------------------------------------\n1 fits failed with the following error:\nTraceback (most recent call last):\n  File \"C:\\ProgramData\\anaconda3\\lib\\site-packages\\sklearn\\model_selection\\_validation.py\", line 686, in _fit_and_score\n    estimator.fit(X_train, y_train, **fit_params)\n  File \"C:\\Users\\kwfen\\AppData\\Roaming\\Python\\Python310\\site-packages\\scikeras\\wrappers.py\", line 1501, in fit\n    super().fit(X=X, y=y, sample_weight=sample_weight, **kwargs)\n  File \"C:\\Users\\kwfen\\AppData\\Roaming\\Python\\Python310\\site-packages\\scikeras\\wrappers.py\", line 770, in fit\n    self._fit(\n  File \"C:\\Users\\kwfen\\AppData\\Roaming\\Python\\Python310\\site-packages\\scikeras\\wrappers.py\", line 936, in _fit\n    self._check_model_compatibility(y)\n  File \"C:\\Users\\kwfen\\AppData\\Roaming\\Python\\Python310\\site-packages\\scikeras\\wrappers.py\", line 559, in _check_model_compatibility\n    if self.n_outputs_expected_ != len(self.model_.outputs):\n  File \"C:\\Users\\kwfen\\AppData\\Roaming\\Python\\Python310\\site-packages\\keras\\src\\models\\sequential.py\", line 283, in outputs\n    raise ValueError(\nValueError: Sequential model 'sequential_116' has no defined outputs yet.\n\n--------------------------------------------------------------------------------\n1 fits failed with the following error:\nTraceback (most recent call last):\n  File \"C:\\ProgramData\\anaconda3\\lib\\site-packages\\sklearn\\model_selection\\_validation.py\", line 686, in _fit_and_score\n    estimator.fit(X_train, y_train, **fit_params)\n  File \"C:\\Users\\kwfen\\AppData\\Roaming\\Python\\Python310\\site-packages\\scikeras\\wrappers.py\", line 1501, in fit\n    super().fit(X=X, y=y, sample_weight=sample_weight, **kwargs)\n  File \"C:\\Users\\kwfen\\AppData\\Roaming\\Python\\Python310\\site-packages\\scikeras\\wrappers.py\", line 770, in fit\n    self._fit(\n  File \"C:\\Users\\kwfen\\AppData\\Roaming\\Python\\Python310\\site-packages\\scikeras\\wrappers.py\", line 936, in _fit\n    self._check_model_compatibility(y)\n  File \"C:\\Users\\kwfen\\AppData\\Roaming\\Python\\Python310\\site-packages\\scikeras\\wrappers.py\", line 559, in _check_model_compatibility\n    if self.n_outputs_expected_ != len(self.model_.outputs):\n  File \"C:\\Users\\kwfen\\AppData\\Roaming\\Python\\Python310\\site-packages\\keras\\src\\models\\sequential.py\", line 283, in outputs\n    raise ValueError(\nValueError: Sequential model 'sequential_117' has no defined outputs yet.\n\n--------------------------------------------------------------------------------\n1 fits failed with the following error:\nTraceback (most recent call last):\n  File \"C:\\ProgramData\\anaconda3\\lib\\site-packages\\sklearn\\model_selection\\_validation.py\", line 686, in _fit_and_score\n    estimator.fit(X_train, y_train, **fit_params)\n  File \"C:\\Users\\kwfen\\AppData\\Roaming\\Python\\Python310\\site-packages\\scikeras\\wrappers.py\", line 1501, in fit\n    super().fit(X=X, y=y, sample_weight=sample_weight, **kwargs)\n  File \"C:\\Users\\kwfen\\AppData\\Roaming\\Python\\Python310\\site-packages\\scikeras\\wrappers.py\", line 770, in fit\n    self._fit(\n  File \"C:\\Users\\kwfen\\AppData\\Roaming\\Python\\Python310\\site-packages\\scikeras\\wrappers.py\", line 936, in _fit\n    self._check_model_compatibility(y)\n  File \"C:\\Users\\kwfen\\AppData\\Roaming\\Python\\Python310\\site-packages\\scikeras\\wrappers.py\", line 559, in _check_model_compatibility\n    if self.n_outputs_expected_ != len(self.model_.outputs):\n  File \"C:\\Users\\kwfen\\AppData\\Roaming\\Python\\Python310\\site-packages\\keras\\src\\models\\sequential.py\", line 283, in outputs\n    raise ValueError(\nValueError: Sequential model 'sequential_118' has no defined outputs yet.\n\n--------------------------------------------------------------------------------\n1 fits failed with the following error:\nTraceback (most recent call last):\n  File \"C:\\ProgramData\\anaconda3\\lib\\site-packages\\sklearn\\model_selection\\_validation.py\", line 686, in _fit_and_score\n    estimator.fit(X_train, y_train, **fit_params)\n  File \"C:\\Users\\kwfen\\AppData\\Roaming\\Python\\Python310\\site-packages\\scikeras\\wrappers.py\", line 1501, in fit\n    super().fit(X=X, y=y, sample_weight=sample_weight, **kwargs)\n  File \"C:\\Users\\kwfen\\AppData\\Roaming\\Python\\Python310\\site-packages\\scikeras\\wrappers.py\", line 770, in fit\n    self._fit(\n  File \"C:\\Users\\kwfen\\AppData\\Roaming\\Python\\Python310\\site-packages\\scikeras\\wrappers.py\", line 936, in _fit\n    self._check_model_compatibility(y)\n  File \"C:\\Users\\kwfen\\AppData\\Roaming\\Python\\Python310\\site-packages\\scikeras\\wrappers.py\", line 559, in _check_model_compatibility\n    if self.n_outputs_expected_ != len(self.model_.outputs):\n  File \"C:\\Users\\kwfen\\AppData\\Roaming\\Python\\Python310\\site-packages\\keras\\src\\models\\sequential.py\", line 283, in outputs\n    raise ValueError(\nValueError: Sequential model 'sequential_119' has no defined outputs yet.\n\n--------------------------------------------------------------------------------\n1 fits failed with the following error:\nTraceback (most recent call last):\n  File \"C:\\ProgramData\\anaconda3\\lib\\site-packages\\sklearn\\model_selection\\_validation.py\", line 686, in _fit_and_score\n    estimator.fit(X_train, y_train, **fit_params)\n  File \"C:\\Users\\kwfen\\AppData\\Roaming\\Python\\Python310\\site-packages\\scikeras\\wrappers.py\", line 1501, in fit\n    super().fit(X=X, y=y, sample_weight=sample_weight, **kwargs)\n  File \"C:\\Users\\kwfen\\AppData\\Roaming\\Python\\Python310\\site-packages\\scikeras\\wrappers.py\", line 770, in fit\n    self._fit(\n  File \"C:\\Users\\kwfen\\AppData\\Roaming\\Python\\Python310\\site-packages\\scikeras\\wrappers.py\", line 936, in _fit\n    self._check_model_compatibility(y)\n  File \"C:\\Users\\kwfen\\AppData\\Roaming\\Python\\Python310\\site-packages\\scikeras\\wrappers.py\", line 559, in _check_model_compatibility\n    if self.n_outputs_expected_ != len(self.model_.outputs):\n  File \"C:\\Users\\kwfen\\AppData\\Roaming\\Python\\Python310\\site-packages\\keras\\src\\models\\sequential.py\", line 283, in outputs\n    raise ValueError(\nValueError: Sequential model 'sequential_120' has no defined outputs yet.\n\n--------------------------------------------------------------------------------\n1 fits failed with the following error:\nTraceback (most recent call last):\n  File \"C:\\ProgramData\\anaconda3\\lib\\site-packages\\sklearn\\model_selection\\_validation.py\", line 686, in _fit_and_score\n    estimator.fit(X_train, y_train, **fit_params)\n  File \"C:\\Users\\kwfen\\AppData\\Roaming\\Python\\Python310\\site-packages\\scikeras\\wrappers.py\", line 1501, in fit\n    super().fit(X=X, y=y, sample_weight=sample_weight, **kwargs)\n  File \"C:\\Users\\kwfen\\AppData\\Roaming\\Python\\Python310\\site-packages\\scikeras\\wrappers.py\", line 770, in fit\n    self._fit(\n  File \"C:\\Users\\kwfen\\AppData\\Roaming\\Python\\Python310\\site-packages\\scikeras\\wrappers.py\", line 936, in _fit\n    self._check_model_compatibility(y)\n  File \"C:\\Users\\kwfen\\AppData\\Roaming\\Python\\Python310\\site-packages\\scikeras\\wrappers.py\", line 559, in _check_model_compatibility\n    if self.n_outputs_expected_ != len(self.model_.outputs):\n  File \"C:\\Users\\kwfen\\AppData\\Roaming\\Python\\Python310\\site-packages\\keras\\src\\models\\sequential.py\", line 283, in outputs\n    raise ValueError(\nValueError: Sequential model 'sequential_121' has no defined outputs yet.\n\n--------------------------------------------------------------------------------\n1 fits failed with the following error:\nTraceback (most recent call last):\n  File \"C:\\ProgramData\\anaconda3\\lib\\site-packages\\sklearn\\model_selection\\_validation.py\", line 686, in _fit_and_score\n    estimator.fit(X_train, y_train, **fit_params)\n  File \"C:\\Users\\kwfen\\AppData\\Roaming\\Python\\Python310\\site-packages\\scikeras\\wrappers.py\", line 1501, in fit\n    super().fit(X=X, y=y, sample_weight=sample_weight, **kwargs)\n  File \"C:\\Users\\kwfen\\AppData\\Roaming\\Python\\Python310\\site-packages\\scikeras\\wrappers.py\", line 770, in fit\n    self._fit(\n  File \"C:\\Users\\kwfen\\AppData\\Roaming\\Python\\Python310\\site-packages\\scikeras\\wrappers.py\", line 936, in _fit\n    self._check_model_compatibility(y)\n  File \"C:\\Users\\kwfen\\AppData\\Roaming\\Python\\Python310\\site-packages\\scikeras\\wrappers.py\", line 559, in _check_model_compatibility\n    if self.n_outputs_expected_ != len(self.model_.outputs):\n  File \"C:\\Users\\kwfen\\AppData\\Roaming\\Python\\Python310\\site-packages\\keras\\src\\models\\sequential.py\", line 283, in outputs\n    raise ValueError(\nValueError: Sequential model 'sequential_122' has no defined outputs yet.\n\n--------------------------------------------------------------------------------\n1 fits failed with the following error:\nTraceback (most recent call last):\n  File \"C:\\ProgramData\\anaconda3\\lib\\site-packages\\sklearn\\model_selection\\_validation.py\", line 686, in _fit_and_score\n    estimator.fit(X_train, y_train, **fit_params)\n  File \"C:\\Users\\kwfen\\AppData\\Roaming\\Python\\Python310\\site-packages\\scikeras\\wrappers.py\", line 1501, in fit\n    super().fit(X=X, y=y, sample_weight=sample_weight, **kwargs)\n  File \"C:\\Users\\kwfen\\AppData\\Roaming\\Python\\Python310\\site-packages\\scikeras\\wrappers.py\", line 770, in fit\n    self._fit(\n  File \"C:\\Users\\kwfen\\AppData\\Roaming\\Python\\Python310\\site-packages\\scikeras\\wrappers.py\", line 936, in _fit\n    self._check_model_compatibility(y)\n  File \"C:\\Users\\kwfen\\AppData\\Roaming\\Python\\Python310\\site-packages\\scikeras\\wrappers.py\", line 559, in _check_model_compatibility\n    if self.n_outputs_expected_ != len(self.model_.outputs):\n  File \"C:\\Users\\kwfen\\AppData\\Roaming\\Python\\Python310\\site-packages\\keras\\src\\models\\sequential.py\", line 283, in outputs\n    raise ValueError(\nValueError: Sequential model 'sequential_123' has no defined outputs yet.\n\n--------------------------------------------------------------------------------\n1 fits failed with the following error:\nTraceback (most recent call last):\n  File \"C:\\ProgramData\\anaconda3\\lib\\site-packages\\sklearn\\model_selection\\_validation.py\", line 686, in _fit_and_score\n    estimator.fit(X_train, y_train, **fit_params)\n  File \"C:\\Users\\kwfen\\AppData\\Roaming\\Python\\Python310\\site-packages\\scikeras\\wrappers.py\", line 1501, in fit\n    super().fit(X=X, y=y, sample_weight=sample_weight, **kwargs)\n  File \"C:\\Users\\kwfen\\AppData\\Roaming\\Python\\Python310\\site-packages\\scikeras\\wrappers.py\", line 770, in fit\n    self._fit(\n  File \"C:\\Users\\kwfen\\AppData\\Roaming\\Python\\Python310\\site-packages\\scikeras\\wrappers.py\", line 936, in _fit\n    self._check_model_compatibility(y)\n  File \"C:\\Users\\kwfen\\AppData\\Roaming\\Python\\Python310\\site-packages\\scikeras\\wrappers.py\", line 559, in _check_model_compatibility\n    if self.n_outputs_expected_ != len(self.model_.outputs):\n  File \"C:\\Users\\kwfen\\AppData\\Roaming\\Python\\Python310\\site-packages\\keras\\src\\models\\sequential.py\", line 283, in outputs\n    raise ValueError(\nValueError: Sequential model 'sequential_124' has no defined outputs yet.\n\n--------------------------------------------------------------------------------\n1 fits failed with the following error:\nTraceback (most recent call last):\n  File \"C:\\ProgramData\\anaconda3\\lib\\site-packages\\sklearn\\model_selection\\_validation.py\", line 686, in _fit_and_score\n    estimator.fit(X_train, y_train, **fit_params)\n  File \"C:\\Users\\kwfen\\AppData\\Roaming\\Python\\Python310\\site-packages\\scikeras\\wrappers.py\", line 1501, in fit\n    super().fit(X=X, y=y, sample_weight=sample_weight, **kwargs)\n  File \"C:\\Users\\kwfen\\AppData\\Roaming\\Python\\Python310\\site-packages\\scikeras\\wrappers.py\", line 770, in fit\n    self._fit(\n  File \"C:\\Users\\kwfen\\AppData\\Roaming\\Python\\Python310\\site-packages\\scikeras\\wrappers.py\", line 936, in _fit\n    self._check_model_compatibility(y)\n  File \"C:\\Users\\kwfen\\AppData\\Roaming\\Python\\Python310\\site-packages\\scikeras\\wrappers.py\", line 559, in _check_model_compatibility\n    if self.n_outputs_expected_ != len(self.model_.outputs):\n  File \"C:\\Users\\kwfen\\AppData\\Roaming\\Python\\Python310\\site-packages\\keras\\src\\models\\sequential.py\", line 283, in outputs\n    raise ValueError(\nValueError: Sequential model 'sequential_125' has no defined outputs yet.\n\n--------------------------------------------------------------------------------\n1 fits failed with the following error:\nTraceback (most recent call last):\n  File \"C:\\ProgramData\\anaconda3\\lib\\site-packages\\sklearn\\model_selection\\_validation.py\", line 686, in _fit_and_score\n    estimator.fit(X_train, y_train, **fit_params)\n  File \"C:\\Users\\kwfen\\AppData\\Roaming\\Python\\Python310\\site-packages\\scikeras\\wrappers.py\", line 1501, in fit\n    super().fit(X=X, y=y, sample_weight=sample_weight, **kwargs)\n  File \"C:\\Users\\kwfen\\AppData\\Roaming\\Python\\Python310\\site-packages\\scikeras\\wrappers.py\", line 770, in fit\n    self._fit(\n  File \"C:\\Users\\kwfen\\AppData\\Roaming\\Python\\Python310\\site-packages\\scikeras\\wrappers.py\", line 936, in _fit\n    self._check_model_compatibility(y)\n  File \"C:\\Users\\kwfen\\AppData\\Roaming\\Python\\Python310\\site-packages\\scikeras\\wrappers.py\", line 559, in _check_model_compatibility\n    if self.n_outputs_expected_ != len(self.model_.outputs):\n  File \"C:\\Users\\kwfen\\AppData\\Roaming\\Python\\Python310\\site-packages\\keras\\src\\models\\sequential.py\", line 283, in outputs\n    raise ValueError(\nValueError: Sequential model 'sequential_126' has no defined outputs yet.\n\n--------------------------------------------------------------------------------\n1 fits failed with the following error:\nTraceback (most recent call last):\n  File \"C:\\ProgramData\\anaconda3\\lib\\site-packages\\sklearn\\model_selection\\_validation.py\", line 686, in _fit_and_score\n    estimator.fit(X_train, y_train, **fit_params)\n  File \"C:\\Users\\kwfen\\AppData\\Roaming\\Python\\Python310\\site-packages\\scikeras\\wrappers.py\", line 1501, in fit\n    super().fit(X=X, y=y, sample_weight=sample_weight, **kwargs)\n  File \"C:\\Users\\kwfen\\AppData\\Roaming\\Python\\Python310\\site-packages\\scikeras\\wrappers.py\", line 770, in fit\n    self._fit(\n  File \"C:\\Users\\kwfen\\AppData\\Roaming\\Python\\Python310\\site-packages\\scikeras\\wrappers.py\", line 936, in _fit\n    self._check_model_compatibility(y)\n  File \"C:\\Users\\kwfen\\AppData\\Roaming\\Python\\Python310\\site-packages\\scikeras\\wrappers.py\", line 559, in _check_model_compatibility\n    if self.n_outputs_expected_ != len(self.model_.outputs):\n  File \"C:\\Users\\kwfen\\AppData\\Roaming\\Python\\Python310\\site-packages\\keras\\src\\models\\sequential.py\", line 283, in outputs\n    raise ValueError(\nValueError: Sequential model 'sequential_127' has no defined outputs yet.\n\n--------------------------------------------------------------------------------\n1 fits failed with the following error:\nTraceback (most recent call last):\n  File \"C:\\ProgramData\\anaconda3\\lib\\site-packages\\sklearn\\model_selection\\_validation.py\", line 686, in _fit_and_score\n    estimator.fit(X_train, y_train, **fit_params)\n  File \"C:\\Users\\kwfen\\AppData\\Roaming\\Python\\Python310\\site-packages\\scikeras\\wrappers.py\", line 1501, in fit\n    super().fit(X=X, y=y, sample_weight=sample_weight, **kwargs)\n  File \"C:\\Users\\kwfen\\AppData\\Roaming\\Python\\Python310\\site-packages\\scikeras\\wrappers.py\", line 770, in fit\n    self._fit(\n  File \"C:\\Users\\kwfen\\AppData\\Roaming\\Python\\Python310\\site-packages\\scikeras\\wrappers.py\", line 936, in _fit\n    self._check_model_compatibility(y)\n  File \"C:\\Users\\kwfen\\AppData\\Roaming\\Python\\Python310\\site-packages\\scikeras\\wrappers.py\", line 559, in _check_model_compatibility\n    if self.n_outputs_expected_ != len(self.model_.outputs):\n  File \"C:\\Users\\kwfen\\AppData\\Roaming\\Python\\Python310\\site-packages\\keras\\src\\models\\sequential.py\", line 283, in outputs\n    raise ValueError(\nValueError: Sequential model 'sequential_128' has no defined outputs yet.\n\n--------------------------------------------------------------------------------\n1 fits failed with the following error:\nTraceback (most recent call last):\n  File \"C:\\ProgramData\\anaconda3\\lib\\site-packages\\sklearn\\model_selection\\_validation.py\", line 686, in _fit_and_score\n    estimator.fit(X_train, y_train, **fit_params)\n  File \"C:\\Users\\kwfen\\AppData\\Roaming\\Python\\Python310\\site-packages\\scikeras\\wrappers.py\", line 1501, in fit\n    super().fit(X=X, y=y, sample_weight=sample_weight, **kwargs)\n  File \"C:\\Users\\kwfen\\AppData\\Roaming\\Python\\Python310\\site-packages\\scikeras\\wrappers.py\", line 770, in fit\n    self._fit(\n  File \"C:\\Users\\kwfen\\AppData\\Roaming\\Python\\Python310\\site-packages\\scikeras\\wrappers.py\", line 936, in _fit\n    self._check_model_compatibility(y)\n  File \"C:\\Users\\kwfen\\AppData\\Roaming\\Python\\Python310\\site-packages\\scikeras\\wrappers.py\", line 559, in _check_model_compatibility\n    if self.n_outputs_expected_ != len(self.model_.outputs):\n  File \"C:\\Users\\kwfen\\AppData\\Roaming\\Python\\Python310\\site-packages\\keras\\src\\models\\sequential.py\", line 283, in outputs\n    raise ValueError(\nValueError: Sequential model 'sequential_129' has no defined outputs yet.\n\n--------------------------------------------------------------------------------\n1 fits failed with the following error:\nTraceback (most recent call last):\n  File \"C:\\ProgramData\\anaconda3\\lib\\site-packages\\sklearn\\model_selection\\_validation.py\", line 686, in _fit_and_score\n    estimator.fit(X_train, y_train, **fit_params)\n  File \"C:\\Users\\kwfen\\AppData\\Roaming\\Python\\Python310\\site-packages\\scikeras\\wrappers.py\", line 1501, in fit\n    super().fit(X=X, y=y, sample_weight=sample_weight, **kwargs)\n  File \"C:\\Users\\kwfen\\AppData\\Roaming\\Python\\Python310\\site-packages\\scikeras\\wrappers.py\", line 770, in fit\n    self._fit(\n  File \"C:\\Users\\kwfen\\AppData\\Roaming\\Python\\Python310\\site-packages\\scikeras\\wrappers.py\", line 936, in _fit\n    self._check_model_compatibility(y)\n  File \"C:\\Users\\kwfen\\AppData\\Roaming\\Python\\Python310\\site-packages\\scikeras\\wrappers.py\", line 559, in _check_model_compatibility\n    if self.n_outputs_expected_ != len(self.model_.outputs):\n  File \"C:\\Users\\kwfen\\AppData\\Roaming\\Python\\Python310\\site-packages\\keras\\src\\models\\sequential.py\", line 283, in outputs\n    raise ValueError(\nValueError: Sequential model 'sequential_130' has no defined outputs yet.\n\n--------------------------------------------------------------------------------\n1 fits failed with the following error:\nTraceback (most recent call last):\n  File \"C:\\ProgramData\\anaconda3\\lib\\site-packages\\sklearn\\model_selection\\_validation.py\", line 686, in _fit_and_score\n    estimator.fit(X_train, y_train, **fit_params)\n  File \"C:\\Users\\kwfen\\AppData\\Roaming\\Python\\Python310\\site-packages\\scikeras\\wrappers.py\", line 1501, in fit\n    super().fit(X=X, y=y, sample_weight=sample_weight, **kwargs)\n  File \"C:\\Users\\kwfen\\AppData\\Roaming\\Python\\Python310\\site-packages\\scikeras\\wrappers.py\", line 770, in fit\n    self._fit(\n  File \"C:\\Users\\kwfen\\AppData\\Roaming\\Python\\Python310\\site-packages\\scikeras\\wrappers.py\", line 936, in _fit\n    self._check_model_compatibility(y)\n  File \"C:\\Users\\kwfen\\AppData\\Roaming\\Python\\Python310\\site-packages\\scikeras\\wrappers.py\", line 559, in _check_model_compatibility\n    if self.n_outputs_expected_ != len(self.model_.outputs):\n  File \"C:\\Users\\kwfen\\AppData\\Roaming\\Python\\Python310\\site-packages\\keras\\src\\models\\sequential.py\", line 283, in outputs\n    raise ValueError(\nValueError: Sequential model 'sequential_131' has no defined outputs yet.\n\n--------------------------------------------------------------------------------\n1 fits failed with the following error:\nTraceback (most recent call last):\n  File \"C:\\ProgramData\\anaconda3\\lib\\site-packages\\sklearn\\model_selection\\_validation.py\", line 686, in _fit_and_score\n    estimator.fit(X_train, y_train, **fit_params)\n  File \"C:\\Users\\kwfen\\AppData\\Roaming\\Python\\Python310\\site-packages\\scikeras\\wrappers.py\", line 1501, in fit\n    super().fit(X=X, y=y, sample_weight=sample_weight, **kwargs)\n  File \"C:\\Users\\kwfen\\AppData\\Roaming\\Python\\Python310\\site-packages\\scikeras\\wrappers.py\", line 770, in fit\n    self._fit(\n  File \"C:\\Users\\kwfen\\AppData\\Roaming\\Python\\Python310\\site-packages\\scikeras\\wrappers.py\", line 936, in _fit\n    self._check_model_compatibility(y)\n  File \"C:\\Users\\kwfen\\AppData\\Roaming\\Python\\Python310\\site-packages\\scikeras\\wrappers.py\", line 559, in _check_model_compatibility\n    if self.n_outputs_expected_ != len(self.model_.outputs):\n  File \"C:\\Users\\kwfen\\AppData\\Roaming\\Python\\Python310\\site-packages\\keras\\src\\models\\sequential.py\", line 283, in outputs\n    raise ValueError(\nValueError: Sequential model 'sequential_132' has no defined outputs yet.\n\n--------------------------------------------------------------------------------\n1 fits failed with the following error:\nTraceback (most recent call last):\n  File \"C:\\ProgramData\\anaconda3\\lib\\site-packages\\sklearn\\model_selection\\_validation.py\", line 686, in _fit_and_score\n    estimator.fit(X_train, y_train, **fit_params)\n  File \"C:\\Users\\kwfen\\AppData\\Roaming\\Python\\Python310\\site-packages\\scikeras\\wrappers.py\", line 1501, in fit\n    super().fit(X=X, y=y, sample_weight=sample_weight, **kwargs)\n  File \"C:\\Users\\kwfen\\AppData\\Roaming\\Python\\Python310\\site-packages\\scikeras\\wrappers.py\", line 770, in fit\n    self._fit(\n  File \"C:\\Users\\kwfen\\AppData\\Roaming\\Python\\Python310\\site-packages\\scikeras\\wrappers.py\", line 936, in _fit\n    self._check_model_compatibility(y)\n  File \"C:\\Users\\kwfen\\AppData\\Roaming\\Python\\Python310\\site-packages\\scikeras\\wrappers.py\", line 559, in _check_model_compatibility\n    if self.n_outputs_expected_ != len(self.model_.outputs):\n  File \"C:\\Users\\kwfen\\AppData\\Roaming\\Python\\Python310\\site-packages\\keras\\src\\models\\sequential.py\", line 283, in outputs\n    raise ValueError(\nValueError: Sequential model 'sequential_133' has no defined outputs yet.\n\n--------------------------------------------------------------------------------\n1 fits failed with the following error:\nTraceback (most recent call last):\n  File \"C:\\ProgramData\\anaconda3\\lib\\site-packages\\sklearn\\model_selection\\_validation.py\", line 686, in _fit_and_score\n    estimator.fit(X_train, y_train, **fit_params)\n  File \"C:\\Users\\kwfen\\AppData\\Roaming\\Python\\Python310\\site-packages\\scikeras\\wrappers.py\", line 1501, in fit\n    super().fit(X=X, y=y, sample_weight=sample_weight, **kwargs)\n  File \"C:\\Users\\kwfen\\AppData\\Roaming\\Python\\Python310\\site-packages\\scikeras\\wrappers.py\", line 770, in fit\n    self._fit(\n  File \"C:\\Users\\kwfen\\AppData\\Roaming\\Python\\Python310\\site-packages\\scikeras\\wrappers.py\", line 936, in _fit\n    self._check_model_compatibility(y)\n  File \"C:\\Users\\kwfen\\AppData\\Roaming\\Python\\Python310\\site-packages\\scikeras\\wrappers.py\", line 559, in _check_model_compatibility\n    if self.n_outputs_expected_ != len(self.model_.outputs):\n  File \"C:\\Users\\kwfen\\AppData\\Roaming\\Python\\Python310\\site-packages\\keras\\src\\models\\sequential.py\", line 283, in outputs\n    raise ValueError(\nValueError: Sequential model 'sequential_134' has no defined outputs yet.\n\n--------------------------------------------------------------------------------\n1 fits failed with the following error:\nTraceback (most recent call last):\n  File \"C:\\ProgramData\\anaconda3\\lib\\site-packages\\sklearn\\model_selection\\_validation.py\", line 686, in _fit_and_score\n    estimator.fit(X_train, y_train, **fit_params)\n  File \"C:\\Users\\kwfen\\AppData\\Roaming\\Python\\Python310\\site-packages\\scikeras\\wrappers.py\", line 1501, in fit\n    super().fit(X=X, y=y, sample_weight=sample_weight, **kwargs)\n  File \"C:\\Users\\kwfen\\AppData\\Roaming\\Python\\Python310\\site-packages\\scikeras\\wrappers.py\", line 770, in fit\n    self._fit(\n  File \"C:\\Users\\kwfen\\AppData\\Roaming\\Python\\Python310\\site-packages\\scikeras\\wrappers.py\", line 936, in _fit\n    self._check_model_compatibility(y)\n  File \"C:\\Users\\kwfen\\AppData\\Roaming\\Python\\Python310\\site-packages\\scikeras\\wrappers.py\", line 559, in _check_model_compatibility\n    if self.n_outputs_expected_ != len(self.model_.outputs):\n  File \"C:\\Users\\kwfen\\AppData\\Roaming\\Python\\Python310\\site-packages\\keras\\src\\models\\sequential.py\", line 283, in outputs\n    raise ValueError(\nValueError: Sequential model 'sequential_135' has no defined outputs yet.\n\n--------------------------------------------------------------------------------\n1 fits failed with the following error:\nTraceback (most recent call last):\n  File \"C:\\ProgramData\\anaconda3\\lib\\site-packages\\sklearn\\model_selection\\_validation.py\", line 686, in _fit_and_score\n    estimator.fit(X_train, y_train, **fit_params)\n  File \"C:\\Users\\kwfen\\AppData\\Roaming\\Python\\Python310\\site-packages\\scikeras\\wrappers.py\", line 1501, in fit\n    super().fit(X=X, y=y, sample_weight=sample_weight, **kwargs)\n  File \"C:\\Users\\kwfen\\AppData\\Roaming\\Python\\Python310\\site-packages\\scikeras\\wrappers.py\", line 770, in fit\n    self._fit(\n  File \"C:\\Users\\kwfen\\AppData\\Roaming\\Python\\Python310\\site-packages\\scikeras\\wrappers.py\", line 936, in _fit\n    self._check_model_compatibility(y)\n  File \"C:\\Users\\kwfen\\AppData\\Roaming\\Python\\Python310\\site-packages\\scikeras\\wrappers.py\", line 559, in _check_model_compatibility\n    if self.n_outputs_expected_ != len(self.model_.outputs):\n  File \"C:\\Users\\kwfen\\AppData\\Roaming\\Python\\Python310\\site-packages\\keras\\src\\models\\sequential.py\", line 283, in outputs\n    raise ValueError(\nValueError: Sequential model 'sequential_136' has no defined outputs yet.\n\n--------------------------------------------------------------------------------\n1 fits failed with the following error:\nTraceback (most recent call last):\n  File \"C:\\ProgramData\\anaconda3\\lib\\site-packages\\sklearn\\model_selection\\_validation.py\", line 686, in _fit_and_score\n    estimator.fit(X_train, y_train, **fit_params)\n  File \"C:\\Users\\kwfen\\AppData\\Roaming\\Python\\Python310\\site-packages\\scikeras\\wrappers.py\", line 1501, in fit\n    super().fit(X=X, y=y, sample_weight=sample_weight, **kwargs)\n  File \"C:\\Users\\kwfen\\AppData\\Roaming\\Python\\Python310\\site-packages\\scikeras\\wrappers.py\", line 770, in fit\n    self._fit(\n  File \"C:\\Users\\kwfen\\AppData\\Roaming\\Python\\Python310\\site-packages\\scikeras\\wrappers.py\", line 936, in _fit\n    self._check_model_compatibility(y)\n  File \"C:\\Users\\kwfen\\AppData\\Roaming\\Python\\Python310\\site-packages\\scikeras\\wrappers.py\", line 559, in _check_model_compatibility\n    if self.n_outputs_expected_ != len(self.model_.outputs):\n  File \"C:\\Users\\kwfen\\AppData\\Roaming\\Python\\Python310\\site-packages\\keras\\src\\models\\sequential.py\", line 283, in outputs\n    raise ValueError(\nValueError: Sequential model 'sequential_137' has no defined outputs yet.\n\n--------------------------------------------------------------------------------\n1 fits failed with the following error:\nTraceback (most recent call last):\n  File \"C:\\ProgramData\\anaconda3\\lib\\site-packages\\sklearn\\model_selection\\_validation.py\", line 686, in _fit_and_score\n    estimator.fit(X_train, y_train, **fit_params)\n  File \"C:\\Users\\kwfen\\AppData\\Roaming\\Python\\Python310\\site-packages\\scikeras\\wrappers.py\", line 1501, in fit\n    super().fit(X=X, y=y, sample_weight=sample_weight, **kwargs)\n  File \"C:\\Users\\kwfen\\AppData\\Roaming\\Python\\Python310\\site-packages\\scikeras\\wrappers.py\", line 770, in fit\n    self._fit(\n  File \"C:\\Users\\kwfen\\AppData\\Roaming\\Python\\Python310\\site-packages\\scikeras\\wrappers.py\", line 936, in _fit\n    self._check_model_compatibility(y)\n  File \"C:\\Users\\kwfen\\AppData\\Roaming\\Python\\Python310\\site-packages\\scikeras\\wrappers.py\", line 559, in _check_model_compatibility\n    if self.n_outputs_expected_ != len(self.model_.outputs):\n  File \"C:\\Users\\kwfen\\AppData\\Roaming\\Python\\Python310\\site-packages\\keras\\src\\models\\sequential.py\", line 283, in outputs\n    raise ValueError(\nValueError: Sequential model 'sequential_138' has no defined outputs yet.\n\n--------------------------------------------------------------------------------\n1 fits failed with the following error:\nTraceback (most recent call last):\n  File \"C:\\ProgramData\\anaconda3\\lib\\site-packages\\sklearn\\model_selection\\_validation.py\", line 686, in _fit_and_score\n    estimator.fit(X_train, y_train, **fit_params)\n  File \"C:\\Users\\kwfen\\AppData\\Roaming\\Python\\Python310\\site-packages\\scikeras\\wrappers.py\", line 1501, in fit\n    super().fit(X=X, y=y, sample_weight=sample_weight, **kwargs)\n  File \"C:\\Users\\kwfen\\AppData\\Roaming\\Python\\Python310\\site-packages\\scikeras\\wrappers.py\", line 770, in fit\n    self._fit(\n  File \"C:\\Users\\kwfen\\AppData\\Roaming\\Python\\Python310\\site-packages\\scikeras\\wrappers.py\", line 936, in _fit\n    self._check_model_compatibility(y)\n  File \"C:\\Users\\kwfen\\AppData\\Roaming\\Python\\Python310\\site-packages\\scikeras\\wrappers.py\", line 559, in _check_model_compatibility\n    if self.n_outputs_expected_ != len(self.model_.outputs):\n  File \"C:\\Users\\kwfen\\AppData\\Roaming\\Python\\Python310\\site-packages\\keras\\src\\models\\sequential.py\", line 283, in outputs\n    raise ValueError(\nValueError: Sequential model 'sequential_139' has no defined outputs yet.\n\n--------------------------------------------------------------------------------\n1 fits failed with the following error:\nTraceback (most recent call last):\n  File \"C:\\ProgramData\\anaconda3\\lib\\site-packages\\sklearn\\model_selection\\_validation.py\", line 686, in _fit_and_score\n    estimator.fit(X_train, y_train, **fit_params)\n  File \"C:\\Users\\kwfen\\AppData\\Roaming\\Python\\Python310\\site-packages\\scikeras\\wrappers.py\", line 1501, in fit\n    super().fit(X=X, y=y, sample_weight=sample_weight, **kwargs)\n  File \"C:\\Users\\kwfen\\AppData\\Roaming\\Python\\Python310\\site-packages\\scikeras\\wrappers.py\", line 770, in fit\n    self._fit(\n  File \"C:\\Users\\kwfen\\AppData\\Roaming\\Python\\Python310\\site-packages\\scikeras\\wrappers.py\", line 936, in _fit\n    self._check_model_compatibility(y)\n  File \"C:\\Users\\kwfen\\AppData\\Roaming\\Python\\Python310\\site-packages\\scikeras\\wrappers.py\", line 559, in _check_model_compatibility\n    if self.n_outputs_expected_ != len(self.model_.outputs):\n  File \"C:\\Users\\kwfen\\AppData\\Roaming\\Python\\Python310\\site-packages\\keras\\src\\models\\sequential.py\", line 283, in outputs\n    raise ValueError(\nValueError: Sequential model 'sequential_140' has no defined outputs yet.\n\n--------------------------------------------------------------------------------\n1 fits failed with the following error:\nTraceback (most recent call last):\n  File \"C:\\ProgramData\\anaconda3\\lib\\site-packages\\sklearn\\model_selection\\_validation.py\", line 686, in _fit_and_score\n    estimator.fit(X_train, y_train, **fit_params)\n  File \"C:\\Users\\kwfen\\AppData\\Roaming\\Python\\Python310\\site-packages\\scikeras\\wrappers.py\", line 1501, in fit\n    super().fit(X=X, y=y, sample_weight=sample_weight, **kwargs)\n  File \"C:\\Users\\kwfen\\AppData\\Roaming\\Python\\Python310\\site-packages\\scikeras\\wrappers.py\", line 770, in fit\n    self._fit(\n  File \"C:\\Users\\kwfen\\AppData\\Roaming\\Python\\Python310\\site-packages\\scikeras\\wrappers.py\", line 936, in _fit\n    self._check_model_compatibility(y)\n  File \"C:\\Users\\kwfen\\AppData\\Roaming\\Python\\Python310\\site-packages\\scikeras\\wrappers.py\", line 559, in _check_model_compatibility\n    if self.n_outputs_expected_ != len(self.model_.outputs):\n  File \"C:\\Users\\kwfen\\AppData\\Roaming\\Python\\Python310\\site-packages\\keras\\src\\models\\sequential.py\", line 283, in outputs\n    raise ValueError(\nValueError: Sequential model 'sequential_141' has no defined outputs yet.\n\n--------------------------------------------------------------------------------\n1 fits failed with the following error:\nTraceback (most recent call last):\n  File \"C:\\ProgramData\\anaconda3\\lib\\site-packages\\sklearn\\model_selection\\_validation.py\", line 686, in _fit_and_score\n    estimator.fit(X_train, y_train, **fit_params)\n  File \"C:\\Users\\kwfen\\AppData\\Roaming\\Python\\Python310\\site-packages\\scikeras\\wrappers.py\", line 1501, in fit\n    super().fit(X=X, y=y, sample_weight=sample_weight, **kwargs)\n  File \"C:\\Users\\kwfen\\AppData\\Roaming\\Python\\Python310\\site-packages\\scikeras\\wrappers.py\", line 770, in fit\n    self._fit(\n  File \"C:\\Users\\kwfen\\AppData\\Roaming\\Python\\Python310\\site-packages\\scikeras\\wrappers.py\", line 936, in _fit\n    self._check_model_compatibility(y)\n  File \"C:\\Users\\kwfen\\AppData\\Roaming\\Python\\Python310\\site-packages\\scikeras\\wrappers.py\", line 559, in _check_model_compatibility\n    if self.n_outputs_expected_ != len(self.model_.outputs):\n  File \"C:\\Users\\kwfen\\AppData\\Roaming\\Python\\Python310\\site-packages\\keras\\src\\models\\sequential.py\", line 283, in outputs\n    raise ValueError(\nValueError: Sequential model 'sequential_142' has no defined outputs yet.\n\n--------------------------------------------------------------------------------\n1 fits failed with the following error:\nTraceback (most recent call last):\n  File \"C:\\ProgramData\\anaconda3\\lib\\site-packages\\sklearn\\model_selection\\_validation.py\", line 686, in _fit_and_score\n    estimator.fit(X_train, y_train, **fit_params)\n  File \"C:\\Users\\kwfen\\AppData\\Roaming\\Python\\Python310\\site-packages\\scikeras\\wrappers.py\", line 1501, in fit\n    super().fit(X=X, y=y, sample_weight=sample_weight, **kwargs)\n  File \"C:\\Users\\kwfen\\AppData\\Roaming\\Python\\Python310\\site-packages\\scikeras\\wrappers.py\", line 770, in fit\n    self._fit(\n  File \"C:\\Users\\kwfen\\AppData\\Roaming\\Python\\Python310\\site-packages\\scikeras\\wrappers.py\", line 936, in _fit\n    self._check_model_compatibility(y)\n  File \"C:\\Users\\kwfen\\AppData\\Roaming\\Python\\Python310\\site-packages\\scikeras\\wrappers.py\", line 559, in _check_model_compatibility\n    if self.n_outputs_expected_ != len(self.model_.outputs):\n  File \"C:\\Users\\kwfen\\AppData\\Roaming\\Python\\Python310\\site-packages\\keras\\src\\models\\sequential.py\", line 283, in outputs\n    raise ValueError(\nValueError: Sequential model 'sequential_143' has no defined outputs yet.\n"
     ]
    }
   ],
   "source": [
    "%%time\n",
    "grid_result = grid.fit(x_train, y_train)\n"
   ]
  },
  {
   "cell_type": "code",
   "execution_count": null,
   "metadata": {},
   "outputs": [],
   "source": []
  },
  {
   "cell_type": "code",
   "execution_count": null,
   "metadata": {},
   "outputs": [],
   "source": []
  },
  {
   "cell_type": "code",
   "execution_count": null,
   "metadata": {},
   "outputs": [],
   "source": []
  },
  {
   "cell_type": "code",
   "execution_count": null,
   "metadata": {},
   "outputs": [],
   "source": []
  },
  {
   "cell_type": "code",
   "execution_count": null,
   "metadata": {},
   "outputs": [],
   "source": []
  },
  {
   "cell_type": "code",
   "execution_count": null,
   "metadata": {},
   "outputs": [],
   "source": []
  },
  {
   "cell_type": "code",
   "execution_count": null,
   "metadata": {},
   "outputs": [],
   "source": []
  },
  {
   "cell_type": "code",
   "execution_count": 29,
   "metadata": {
    "_uuid": "e775ef4f1b74e6412457181383c39f2df554ef3f"
   },
   "outputs": [
    {
     "data": {
      "text/html": [
       "<pre style=\"white-space:pre;overflow-x:auto;line-height:normal;font-family:Menlo,'DejaVu Sans Mono',consolas,'Courier New',monospace\"><span style=\"font-weight: bold\">Model: \"sequential\"</span>\n",
       "</pre>\n"
      ],
      "text/plain": [
       "\u001b[1mModel: \"sequential\"\u001b[0m\n"
      ]
     },
     "metadata": {},
     "output_type": "display_data"
    },
    {
     "data": {
      "text/html": [
       "<pre style=\"white-space:pre;overflow-x:auto;line-height:normal;font-family:Menlo,'DejaVu Sans Mono',consolas,'Courier New',monospace\">┏━━━━━━━━━━━━━━━━━━━━━━━━━━━━━━━━━━━━━━┳━━━━━━━━━━━━━━━━━━━━━━━━━━━━━┳━━━━━━━━━━━━━━━━━┓\n",
       "┃<span style=\"font-weight: bold\"> Layer (type)                         </span>┃<span style=\"font-weight: bold\"> Output Shape                </span>┃<span style=\"font-weight: bold\">         Param # </span>┃\n",
       "┡━━━━━━━━━━━━━━━━━━━━━━━━━━━━━━━━━━━━━━╇━━━━━━━━━━━━━━━━━━━━━━━━━━━━━╇━━━━━━━━━━━━━━━━━┩\n",
       "│ embedding (<span style=\"color: #0087ff; text-decoration-color: #0087ff\">Embedding</span>)                │ ?                           │      <span style=\"color: #00af00; text-decoration-color: #00af00\">29,041,900</span> │\n",
       "├──────────────────────────────────────┼─────────────────────────────┼─────────────────┤\n",
       "│ dropout (<span style=\"color: #0087ff; text-decoration-color: #0087ff\">Dropout</span>)                    │ ?                           │     <span style=\"color: #00af00; text-decoration-color: #00af00\">0</span> (unbuilt) │\n",
       "├──────────────────────────────────────┼─────────────────────────────┼─────────────────┤\n",
       "│ lstm (<span style=\"color: #0087ff; text-decoration-color: #0087ff\">LSTM</span>)                          │ ?                           │     <span style=\"color: #00af00; text-decoration-color: #00af00\">0</span> (unbuilt) │\n",
       "├──────────────────────────────────────┼─────────────────────────────┼─────────────────┤\n",
       "│ dense (<span style=\"color: #0087ff; text-decoration-color: #0087ff\">Dense</span>)                        │ ?                           │     <span style=\"color: #00af00; text-decoration-color: #00af00\">0</span> (unbuilt) │\n",
       "└──────────────────────────────────────┴─────────────────────────────┴─────────────────┘\n",
       "</pre>\n"
      ],
      "text/plain": [
       "┏━━━━━━━━━━━━━━━━━━━━━━━━━━━━━━━━━━━━━━┳━━━━━━━━━━━━━━━━━━━━━━━━━━━━━┳━━━━━━━━━━━━━━━━━┓\n",
       "┃\u001b[1m \u001b[0m\u001b[1mLayer (type)                        \u001b[0m\u001b[1m \u001b[0m┃\u001b[1m \u001b[0m\u001b[1mOutput Shape               \u001b[0m\u001b[1m \u001b[0m┃\u001b[1m \u001b[0m\u001b[1m        Param #\u001b[0m\u001b[1m \u001b[0m┃\n",
       "┡━━━━━━━━━━━━━━━━━━━━━━━━━━━━━━━━━━━━━━╇━━━━━━━━━━━━━━━━━━━━━━━━━━━━━╇━━━━━━━━━━━━━━━━━┩\n",
       "│ embedding (\u001b[38;5;33mEmbedding\u001b[0m)                │ ?                           │      \u001b[38;5;34m29,041,900\u001b[0m │\n",
       "├──────────────────────────────────────┼─────────────────────────────┼─────────────────┤\n",
       "│ dropout (\u001b[38;5;33mDropout\u001b[0m)                    │ ?                           │     \u001b[38;5;34m0\u001b[0m (unbuilt) │\n",
       "├──────────────────────────────────────┼─────────────────────────────┼─────────────────┤\n",
       "│ lstm (\u001b[38;5;33mLSTM\u001b[0m)                          │ ?                           │     \u001b[38;5;34m0\u001b[0m (unbuilt) │\n",
       "├──────────────────────────────────────┼─────────────────────────────┼─────────────────┤\n",
       "│ dense (\u001b[38;5;33mDense\u001b[0m)                        │ ?                           │     \u001b[38;5;34m0\u001b[0m (unbuilt) │\n",
       "└──────────────────────────────────────┴─────────────────────────────┴─────────────────┘\n"
      ]
     },
     "metadata": {},
     "output_type": "display_data"
    },
    {
     "data": {
      "text/html": [
       "<pre style=\"white-space:pre;overflow-x:auto;line-height:normal;font-family:Menlo,'DejaVu Sans Mono',consolas,'Courier New',monospace\"><span style=\"font-weight: bold\"> Total params: </span><span style=\"color: #00af00; text-decoration-color: #00af00\">29,041,900</span> (110.79 MB)\n",
       "</pre>\n"
      ],
      "text/plain": [
       "\u001b[1m Total params: \u001b[0m\u001b[38;5;34m29,041,900\u001b[0m (110.79 MB)\n"
      ]
     },
     "metadata": {},
     "output_type": "display_data"
    },
    {
     "data": {
      "text/html": [
       "<pre style=\"white-space:pre;overflow-x:auto;line-height:normal;font-family:Menlo,'DejaVu Sans Mono',consolas,'Courier New',monospace\"><span style=\"font-weight: bold\"> Trainable params: </span><span style=\"color: #00af00; text-decoration-color: #00af00\">0</span> (0.00 B)\n",
       "</pre>\n"
      ],
      "text/plain": [
       "\u001b[1m Trainable params: \u001b[0m\u001b[38;5;34m0\u001b[0m (0.00 B)\n"
      ]
     },
     "metadata": {},
     "output_type": "display_data"
    },
    {
     "data": {
      "text/html": [
       "<pre style=\"white-space:pre;overflow-x:auto;line-height:normal;font-family:Menlo,'DejaVu Sans Mono',consolas,'Courier New',monospace\"><span style=\"font-weight: bold\"> Non-trainable params: </span><span style=\"color: #00af00; text-decoration-color: #00af00\">29,041,900</span> (110.79 MB)\n",
       "</pre>\n"
      ],
      "text/plain": [
       "\u001b[1m Non-trainable params: \u001b[0m\u001b[38;5;34m29,041,900\u001b[0m (110.79 MB)\n"
      ]
     },
     "metadata": {},
     "output_type": "display_data"
    }
   ],
   "source": [
    "model = Sequential()\n",
    "model.add(embedding_layer)\n",
    "model.add(Dropout(0.5))\n",
    "model.add(LSTM(100, dropout=0.2, recurrent_dropout=0.2))\n",
    "model.add(Dense(1, activation='sigmoid'))\n",
    "\n",
    "model.summary()"
   ]
  },
  {
   "cell_type": "markdown",
   "metadata": {
    "_uuid": "28d22eafd0c7d798dcf3d742bc92fb8577939e6c"
   },
   "source": [
    "### Compile model"
   ]
  },
  {
   "cell_type": "code",
   "execution_count": 30,
   "metadata": {
    "_uuid": "1331e08d590bb2aa2033706c8faca217afc0f1c3"
   },
   "outputs": [],
   "source": [
    "model.compile(loss='binary_crossentropy',\n",
    "              optimizer=\"adam\",\n",
    "              metrics=['accuracy'])"
   ]
  },
  {
   "cell_type": "markdown",
   "metadata": {
    "_uuid": "c7733127cb8b380e0c807268903bf4d03ef92542"
   },
   "source": [
    "### Callbacks"
   ]
  },
  {
   "cell_type": "code",
   "execution_count": 31,
   "metadata": {
    "_uuid": "a688df590386f5748da6fe00b01904fe6c71619e"
   },
   "outputs": [],
   "source": [
    "reduce_lr = ReduceLROnPlateau(monitor='val_loss', patience=5, cooldown=0)\n",
    "early_stopping = EarlyStopping(monitor='val_acc', min_delta=1e-4, patience=5, mode='max')\n",
    "\n",
    "# List of callbacks\n",
    "callbacks = [reduce_lr, early_stopping]"
   ]
  },
  {
   "cell_type": "markdown",
   "metadata": {
    "_uuid": "8d0873633dd49179c8cae17377641b97d323ef3b"
   },
   "source": [
    "### Train"
   ]
  },
  {
   "cell_type": "code",
   "execution_count": null,
   "metadata": {},
   "outputs": [],
   "source": []
  },
  {
   "cell_type": "code",
   "execution_count": 32,
   "metadata": {
    "_uuid": "2b659d390c6577dc5cdb6b6297934279b4e801d5",
    "scrolled": true
   },
   "outputs": [
    {
     "name": "stdout",
     "output_type": "stream",
     "text": [
      "Epoch 1/8\n",
      "\u001b[1m1125/1125\u001b[0m \u001b[32m━━━━━━━━━━━━━━━━━━━━\u001b[0m\u001b[37m\u001b[0m \u001b[1m514s\u001b[0m 455ms/step - accuracy: 0.7096 - loss: 0.5551 - val_accuracy: 0.7713 - val_loss: 0.4746 - learning_rate: 0.0010\n",
      "Epoch 2/8\n"
     ]
    },
    {
     "name": "stderr",
     "output_type": "stream",
     "text": [
      "C:\\Users\\kwfen\\AppData\\Roaming\\Python\\Python310\\site-packages\\keras\\src\\callbacks\\early_stopping.py:155: UserWarning: Early stopping conditioned on metric `val_acc` which is not available. Available metrics are: accuracy,loss,val_accuracy,val_loss,learning_rate\n",
      "  current = self.get_monitor_value(logs)\n"
     ]
    },
    {
     "name": "stdout",
     "output_type": "stream",
     "text": [
      "\u001b[1m1125/1125\u001b[0m \u001b[32m━━━━━━━━━━━━━━━━━━━━\u001b[0m\u001b[37m\u001b[0m \u001b[1m513s\u001b[0m 456ms/step - accuracy: 0.7433 - loss: 0.5126 - val_accuracy: 0.7751 - val_loss: 0.4705 - learning_rate: 0.0010\n",
      "Epoch 3/8\n",
      "\u001b[1m1125/1125\u001b[0m \u001b[32m━━━━━━━━━━━━━━━━━━━━\u001b[0m\u001b[37m\u001b[0m \u001b[1m510s\u001b[0m 454ms/step - accuracy: 0.7485 - loss: 0.5059 - val_accuracy: 0.7780 - val_loss: 0.4649 - learning_rate: 0.0010\n",
      "Epoch 4/8\n",
      "\u001b[1m1125/1125\u001b[0m \u001b[32m━━━━━━━━━━━━━━━━━━━━\u001b[0m\u001b[37m\u001b[0m \u001b[1m514s\u001b[0m 457ms/step - accuracy: 0.7501 - loss: 0.5021 - val_accuracy: 0.7797 - val_loss: 0.4627 - learning_rate: 0.0010\n",
      "Epoch 5/8\n",
      "\u001b[1m1125/1125\u001b[0m \u001b[32m━━━━━━━━━━━━━━━━━━━━\u001b[0m\u001b[37m\u001b[0m \u001b[1m515s\u001b[0m 458ms/step - accuracy: 0.7528 - loss: 0.4999 - val_accuracy: 0.7807 - val_loss: 0.4610 - learning_rate: 0.0010\n",
      "Epoch 6/8\n",
      "\u001b[1m1125/1125\u001b[0m \u001b[32m━━━━━━━━━━━━━━━━━━━━\u001b[0m\u001b[37m\u001b[0m \u001b[1m514s\u001b[0m 457ms/step - accuracy: 0.7538 - loss: 0.4978 - val_accuracy: 0.7813 - val_loss: 0.4601 - learning_rate: 0.0010\n",
      "Epoch 7/8\n",
      "\u001b[1m1125/1125\u001b[0m \u001b[32m━━━━━━━━━━━━━━━━━━━━\u001b[0m\u001b[37m\u001b[0m \u001b[1m511s\u001b[0m 454ms/step - accuracy: 0.7548 - loss: 0.4963 - val_accuracy: 0.7824 - val_loss: 0.4586 - learning_rate: 0.0010\n",
      "Epoch 8/8\n",
      "\u001b[1m1125/1125\u001b[0m \u001b[32m━━━━━━━━━━━━━━━━━━━━\u001b[0m\u001b[37m\u001b[0m \u001b[1m515s\u001b[0m 457ms/step - accuracy: 0.7548 - loss: 0.4957 - val_accuracy: 0.7813 - val_loss: 0.4574 - learning_rate: 0.0010\n",
      "CPU times: total: 1h 2min 35s\n",
      "Wall time: 1h 8min 26s\n"
     ]
    }
   ],
   "source": [
    "%%time\n",
    "history = model.fit(x_train, y_train,\n",
    "                    batch_size=BATCH_SIZE,\n",
    "                    epochs=EPOCHS,\n",
    "                    validation_split=0.1,\n",
    "                    verbose=1,\n",
    "                    callbacks=callbacks)"
   ]
  },
  {
   "cell_type": "markdown",
   "metadata": {
    "_uuid": "267258196d96796ac69a7b8c466314bcf5d6ee42"
   },
   "source": [
    "### Evaluate"
   ]
  },
  {
   "cell_type": "code",
   "execution_count": 33,
   "metadata": {
    "_uuid": "98ecd8f1b8b74594c3ea775dd68a094e92458022"
   },
   "outputs": [
    {
     "name": "stdout",
     "output_type": "stream",
     "text": [
      "\u001b[1m313/313\u001b[0m \u001b[32m━━━━━━━━━━━━━━━━━━━━\u001b[0m\u001b[37m\u001b[0m \u001b[1m63s\u001b[0m 202ms/step - accuracy: 0.7838 - loss: 0.4545\n",
      "\n",
      "ACCURACY: 0.7832156419754028\n",
      "LOSS: 0.4557904303073883\n",
      "CPU times: total: 27.3 s\n",
      "Wall time: 1min 3s\n"
     ]
    }
   ],
   "source": [
    "%%time\n",
    "score = model.evaluate(x_test, y_test, batch_size=BATCH_SIZE)\n",
    "print()\n",
    "print(\"ACCURACY:\",score[1])\n",
    "print(\"LOSS:\",score[0])"
   ]
  },
  {
   "cell_type": "code",
   "execution_count": 34,
   "metadata": {},
   "outputs": [
    {
     "name": "stdout",
     "output_type": "stream",
     "text": [
      "dict_keys(['accuracy', 'loss', 'val_accuracy', 'val_loss', 'learning_rate'])\n"
     ]
    }
   ],
   "source": [
    "print(history.history.keys())"
   ]
  },
  {
   "cell_type": "code",
   "execution_count": 35,
   "metadata": {
    "_uuid": "40c72cd1e9d6c4fd799cbba7c813765ac4039dfc"
   },
   "outputs": [
    {
     "data": {
      "image/png": "[encoded data removed]",
      "text/plain": [
       "<Figure size 640x480 with 1 Axes>"
      ]
     },
     "metadata": {},
     "output_type": "display_data"
    },
    {
     "data": {
      "image/png": "[encoded data removed]",
      "text/plain": [
       "<Figure size 640x480 with 1 Axes>"
      ]
     },
     "metadata": {},
     "output_type": "display_data"
    }
   ],
   "source": [
    "acc = history.history['accuracy']\n",
    "val_acc = history.history['val_accuracy']\n",
    "loss = history.history['val_loss']\n",
    "val_loss = history.history['val_loss']\n",
    " \n",
    "epochs = range(len(acc))\n",
    " \n",
    "plt.plot(epochs, acc, 'b', label='Training acc')\n",
    "plt.plot(epochs, val_acc, 'r', label='Validation acc')\n",
    "plt.title('Training and validation accuracy')\n",
    "plt.legend()\n",
    " \n",
    "plt.figure()\n",
    " \n",
    "plt.plot(epochs, loss, 'b', label='Training loss')\n",
    "plt.plot(epochs, val_loss, 'r', label='Validation loss')\n",
    "plt.title('Training and validation loss')\n",
    "plt.legend()\n",
    " \n",
    "plt.show()"
   ]
  },
  {
   "cell_type": "markdown",
   "metadata": {
    "_uuid": "6bdfc0f6a6af5bebc0271d83dd7432c91001409b"
   },
   "source": [
    "### Predict"
   ]
  },
  {
   "cell_type": "code",
   "execution_count": 36,
   "metadata": {
    "_uuid": "f0b0fa3d4b1bb14b3f5e3d169a369f3ebef29ae1"
   },
   "outputs": [],
   "source": [
    "def decode_sentiment(score, include_neutral=True):\n",
    "    if include_neutral:        \n",
    "        label = NEUTRAL\n",
    "        if score <= SENTIMENT_THRESHOLDS[0]:\n",
    "            label = NEGATIVE\n",
    "        elif score >= SENTIMENT_THRESHOLDS[1]:\n",
    "            label = POSITIVE\n",
    "\n",
    "        return label\n",
    "    else:\n",
    "        return NEGATIVE if score < 0.5 else POSITIVE"
   ]
  },
  {
   "cell_type": "code",
   "execution_count": 37,
   "metadata": {
    "_uuid": "ed4086d651f2f8cbed11d3c909a8873607d29a06"
   },
   "outputs": [],
   "source": [
    "def predict(text, include_neutral=True):\n",
    "    start_at = time.time()\n",
    "    # Tokenize text\n",
    "    x_test = pad_sequences(tokenizer.texts_to_sequences([text]), maxlen=SEQUENCE_LENGTH)\n",
    "    # Predict\n",
    "    score = model.predict([x_test])[0]\n",
    "    # Decode sentiment\n",
    "    label = decode_sentiment(score, include_neutral=include_neutral)\n",
    "\n",
    "    return {\"label\": label, \"score\": float(score),\n",
    "       \"elapsed_time\": time.time()-start_at}  "
   ]
  },
  {
   "cell_type": "code",
   "execution_count": 38,
   "metadata": {
    "_uuid": "ca38b1e6c9b5acfed7467de2cf02a78333108872"
   },
   "outputs": [
    {
     "name": "stdout",
     "output_type": "stream",
     "text": [
      "\u001b[1m1/1\u001b[0m \u001b[32m━━━━━━━━━━━━━━━━━━━━\u001b[0m\u001b[37m\u001b[0m \u001b[1m0s\u001b[0m 126ms/step\n"
     ]
    },
    {
     "data": {
      "text/plain": [
       "{'label': 'POSITIVE',\n",
       " 'score': 0.9778547286987305,\n",
       " 'elapsed_time': 0.16188788414001465}"
      ]
     },
     "execution_count": 38,
     "metadata": {},
     "output_type": "execute_result"
    }
   ],
   "source": [
    "predict(\"I love the music\")"
   ]
  },
  {
   "cell_type": "code",
   "execution_count": 39,
   "metadata": {
    "_uuid": "0e5fe647533be0148850de349fea6ef6f71303d1"
   },
   "outputs": [
    {
     "name": "stdout",
     "output_type": "stream",
     "text": [
      "\u001b[1m1/1\u001b[0m \u001b[32m━━━━━━━━━━━━━━━━━━━━\u001b[0m\u001b[37m\u001b[0m \u001b[1m0s\u001b[0m 17ms/step\n"
     ]
    },
    {
     "data": {
      "text/plain": [
       "{'label': 'NEGATIVE',\n",
       " 'score': 0.006396404001861811,\n",
       " 'elapsed_time': 0.044003963470458984}"
      ]
     },
     "execution_count": 39,
     "metadata": {},
     "output_type": "execute_result"
    }
   ],
   "source": [
    "predict(\"I hate the rain\")"
   ]
  },
  {
   "cell_type": "code",
   "execution_count": 40,
   "metadata": {
    "_uuid": "37064dffcc8920d34ccd54fac7c8b50e583a8269"
   },
   "outputs": [
    {
     "name": "stdout",
     "output_type": "stream",
     "text": [
      "\u001b[1m1/1\u001b[0m \u001b[32m━━━━━━━━━━━━━━━━━━━━\u001b[0m\u001b[37m\u001b[0m \u001b[1m0s\u001b[0m 20ms/step\n"
     ]
    },
    {
     "data": {
      "text/plain": [
       "{'label': 'NEUTRAL',\n",
       " 'score': 0.41038933396339417,\n",
       " 'elapsed_time': 0.04936528205871582}"
      ]
     },
     "execution_count": 40,
     "metadata": {},
     "output_type": "execute_result"
    }
   ],
   "source": [
    "predict(\"i don't know what i'm doing\")"
   ]
  },
  {
   "cell_type": "code",
   "execution_count": 41,
   "metadata": {},
   "outputs": [
    {
     "name": "stdout",
     "output_type": "stream",
     "text": [
      "\u001b[1m1/1\u001b[0m \u001b[32m━━━━━━━━━━━━━━━━━━━━\u001b[0m\u001b[37m\u001b[0m \u001b[1m0s\u001b[0m 16ms/step\n"
     ]
    },
    {
     "data": {
      "text/plain": [
       "{'label': 'NEGATIVE',\n",
       " 'score': 0.015788309276103973,\n",
       " 'elapsed_time': 0.04004526138305664}"
      ]
     },
     "execution_count": 41,
     "metadata": {},
     "output_type": "execute_result"
    }
   ],
   "source": [
    "predict(\"I hate the hate speech\")"
   ]
  },
  {
   "cell_type": "markdown",
   "metadata": {
    "_uuid": "3ee72e47f84b6dbc32e02a783de5ec1661f157e1"
   },
   "source": [
    "### Confusion Matrix"
   ]
  },
  {
   "cell_type": "code",
   "execution_count": 42,
   "metadata": {
    "_uuid": "0e920173eb05f04aecdd735bc5dff0f5be5f8d15"
   },
   "outputs": [
    {
     "name": "stdout",
     "output_type": "stream",
     "text": [
      "\u001b[1m40/40\u001b[0m \u001b[32m━━━━━━━━━━━━━━━━━━━━\u001b[0m\u001b[37m\u001b[0m \u001b[1m48s\u001b[0m 1s/step\n",
      "CPU times: total: 1min 37s\n",
      "Wall time: 48.9 s\n"
     ]
    }
   ],
   "source": [
    "%%time\n",
    "y_pred_1d = []\n",
    "y_test_1d = list(df_test.target)\n",
    "scores = model.predict(x_test, verbose=1, batch_size=8000)\n",
    "y_pred_1d = [decode_sentiment(score, include_neutral=False) for score in scores]"
   ]
  },
  {
   "cell_type": "code",
   "execution_count": 43,
   "metadata": {
    "_uuid": "b3575191bb425ab871f3f41e83812ee84bb7e595"
   },
   "outputs": [],
   "source": [
    "def plot_confusion_matrix(cm, classes,\n",
    "                          title='Confusion matrix',\n",
    "                          cmap=plt.cm.Blues):\n",
    "    \"\"\"\n",
    "    This function prints and plots the confusion matrix.\n",
    "    Normalization can be applied by setting `normalize=True`.\n",
    "    \"\"\"\n",
    "\n",
    "    cm = cm.astype('float') / cm.sum(axis=1)[:, np.newaxis]\n",
    "\n",
    "    plt.imshow(cm, interpolation='nearest', cmap=cmap)\n",
    "    plt.title(title, fontsize=30)\n",
    "    plt.colorbar()\n",
    "    tick_marks = np.arange(len(classes))\n",
    "    plt.xticks(tick_marks, classes, rotation=90, fontsize=22)\n",
    "    plt.yticks(tick_marks, classes, fontsize=22)\n",
    "\n",
    "    fmt = '.2f'\n",
    "    thresh = cm.max() / 2.\n",
    "    for i, j in itertools.product(range(cm.shape[0]), range(cm.shape[1])):\n",
    "        plt.text(j, i, format(cm[i, j], fmt),\n",
    "                 horizontalalignment=\"center\",\n",
    "                 color=\"white\" if cm[i, j] > thresh else \"black\")\n",
    "\n",
    "    plt.ylabel('True label', fontsize=25)\n",
    "    plt.xlabel('Predicted label', fontsize=25)"
   ]
  },
  {
   "cell_type": "code",
   "execution_count": 44,
   "metadata": {
    "_uuid": "a57dc6f6211c144491a70f533225edfa95a2dc66"
   },
   "outputs": [
    {
     "data": {
      "image/png": "[encoded data removed]",
      "text/plain": [
       "<Figure size 1200x1200 with 2 Axes>"
      ]
     },
     "metadata": {},
     "output_type": "display_data"
    },
    {
     "name": "stdout",
     "output_type": "stream",
     "text": [
      "CPU times: total: 297 ms\n",
      "Wall time: 760 ms\n"
     ]
    }
   ],
   "source": [
    "%%time\n",
    "\n",
    "cnf_matrix = confusion_matrix(y_test_1d, y_pred_1d)\n",
    "plt.figure(figsize=(12,12))\n",
    "plot_confusion_matrix(cnf_matrix, classes=df_train.target.unique(), title=\"Confusion matrix\")\n",
    "plt.show()"
   ]
  },
  {
   "cell_type": "markdown",
   "metadata": {
    "_uuid": "e23b957348dcc084249d3cc7538b972da471c2cd"
   },
   "source": [
    "### Classification Report"
   ]
  },
  {
   "cell_type": "code",
   "execution_count": 45,
   "metadata": {
    "_uuid": "a7fe05b7caa1c984ff1deb0be2f7c6bc043df9f5"
   },
   "outputs": [
    {
     "name": "stdout",
     "output_type": "stream",
     "text": [
      "              precision    recall  f1-score   support\n",
      "\n",
      "    NEGATIVE       0.79      0.77      0.78    159494\n",
      "    POSITIVE       0.78      0.79      0.79    160506\n",
      "\n",
      "    accuracy                           0.78    320000\n",
      "   macro avg       0.78      0.78      0.78    320000\n",
      "weighted avg       0.78      0.78      0.78    320000\n",
      "\n"
     ]
    }
   ],
   "source": [
    "print(classification_report(y_test_1d, y_pred_1d))"
   ]
  },
  {
   "cell_type": "markdown",
   "metadata": {
    "_uuid": "4eb300f0c6693a618587c7dcf32f77f5416cbfb9"
   },
   "source": [
    "### Accuracy Score"
   ]
  },
  {
   "cell_type": "code",
   "execution_count": 46,
   "metadata": {
    "_uuid": "5cf76e6e09f8a60ed25947932b94c772eda44d23"
   },
   "outputs": [
    {
     "data": {
      "text/plain": [
       "0.783215625"
      ]
     },
     "execution_count": 46,
     "metadata": {},
     "output_type": "execute_result"
    }
   ],
   "source": [
    "accuracy_score(y_test_1d, y_pred_1d)"
   ]
  },
  {
   "cell_type": "markdown",
   "metadata": {
    "_uuid": "4f014c32f3833db282e1a075c526604f34e3158c"
   },
   "source": [
    "### Save model"
   ]
  },
  {
   "cell_type": "code",
   "execution_count": 47,
   "metadata": {
    "_uuid": "3b2b3ad5b592977b404acfa1c9ad303a62837255"
   },
   "outputs": [
    {
     "name": "stderr",
     "output_type": "stream",
     "text": [
      "2024-06-13 14:28:41,505 : WARNING : You are saving your model as an HDF5 file via `model.save()` or `keras.saving.save_model(model)`. This file format is considered legacy. We recommend using instead the native Keras format, e.g. `model.save('my_model.keras')` or `keras.saving.save_model(model, 'my_model.keras')`. \n",
      "2024-06-13 14:28:41,624 : INFO : Word2Vec lifecycle event {'fname_or_handle': 'model.w2v', 'separately': 'None', 'sep_limit': 10485760, 'ignore': frozenset(), 'datetime': '2024-06-13T14:28:41.624910', 'gensim': '4.3.2', 'python': '3.10.9 | packaged by Anaconda, Inc. | (main, Mar  1 2023, 18:18:15) [MSC v.1916 64 bit (AMD64)]', 'platform': 'Windows-10-10.0.22631-SP0', 'event': 'saving'}\n",
      "2024-06-13 14:28:41,625 : INFO : storing np array 'vectors' to model.w2v.wv.vectors.npy\n",
      "2024-06-13 14:28:41,695 : INFO : storing np array 'syn1neg' to model.w2v.syn1neg.npy\n",
      "2024-06-13 14:28:41,766 : INFO : not storing attribute cum_table\n",
      "2024-06-13 14:28:41,888 : INFO : saved model.w2v\n"
     ]
    }
   ],
   "source": [
    "model.save(KERAS_MODEL)\n",
    "w2v_model.save(WORD2VEC_MODEL)\n",
    "pickle.dump(tokenizer, open(TOKENIZER_MODEL, \"wb\"), protocol=0)\n",
    "pickle.dump(encoder, open(ENCODER_MODEL, \"wb\"), protocol=0)"
   ]
  },
  {
   "cell_type": "code",
   "execution_count": null,
   "metadata": {
    "_uuid": "cc363c54782894757f5ea8820c6a170f2e16ef93"
   },
   "outputs": [],
   "source": []
  }
 ],
 "metadata": {
  "kaggle": {
   "accelerator": "gpu",
   "dataSources": [
    {
     "datasetId": 2477,
     "sourceId": 4140,
     "sourceType": "datasetVersion"
    }
   ],
   "dockerImageVersionId": 18195,
   "isGpuEnabled": true,
   "isInternetEnabled": false,
   "language": "python",
   "sourceType": "notebook"
  },
  "kernelspec": {
   "display_name": "Python 3 (ipykernel)",
   "language": "python",
   "name": "python3"
  },
  "language_info": {
   "codemirror_mode": {
    "name": "ipython",
    "version": 3
   },
   "file_extension": ".py",
   "mimetype": "text/x-python",
   "name": "python",
   "nbconvert_exporter": "python",
   "pygments_lexer": "ipython3",
   "version": "3.10.9"
  }
 },
 "nbformat": 4,
 "nbformat_minor": 4
}
